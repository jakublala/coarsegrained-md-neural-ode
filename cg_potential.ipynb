{
 "cells": [
  {
   "cell_type": "markdown",
   "metadata": {},
   "source": [
    "### Training"
   ]
  },
  {
   "cell_type": "code",
   "execution_count": 31,
   "metadata": {},
   "outputs": [
    {
     "name": "stdout",
     "output_type": "stream",
     "text": [
      "Using cuda device\n"
     ]
    }
   ],
   "source": [
    "from diffmd.solvers import odeint_adjoint\n",
    "\n",
    "import torch\n",
    "import torch.nn as nn\n",
    "import numpy as np\n",
    "import matplotlib.pyplot as plt\n",
    "import time\n",
    "import pandas as pd\n",
    "import os\n",
    "import shutil\n",
    "import quaternion\n",
    "\n",
    "device = torch.device(\"cuda\" if torch.cuda.is_available() else \"cpu\")\n",
    "# device = 'cpu'\n",
    "print(f'Using {device} device')\n",
    "\n",
    "class RunningAverageMeter(object):\n",
    "    \"\"\"Computes and stores the average and current value\"\"\"\n",
    "\n",
    "    def __init__(self, momentum=0.99):\n",
    "        self.momentum = momentum\n",
    "        self.losses = []\n",
    "        self.reset()\n",
    "\n",
    "    def reset(self):\n",
    "        self.val = None\n",
    "        self.avg = 0\n",
    "\n",
    "    def update(self, val):\n",
    "        if self.val is None:\n",
    "            self.avg = val\n",
    "        else:\n",
    "            self.avg = self.avg * self.momentum + val * (1 - self.momentum)\n",
    "        self.val = val\n",
    "        self.log(val)\n",
    "    \n",
    "    def log(self, val):\n",
    "        self.losses.append(val)\n",
    "\n",
    "def get_first_batch(trajs,nsample,sampleLength,dt):\n",
    "    twice_dim = trajs.size()[2]\n",
    "    dim = twice_dim//2\n",
    "    \n",
    "    q0 = trajs[0:nsample, 0, :dim].to(device)\n",
    "    p0 = trajs[0:nsample, 0, dim:].to(device)\n",
    "    batch_y0 = (p0, q0)\n",
    "    \n",
    "    q = trajs[0:nsample, 0:sampleLength, :dim].to(device)\n",
    "    p = trajs[0:nsample, 0:sampleLength, dim:].to(device)\n",
    "    batch_y = torch.cat((p, q), dim=2).swapaxes(0, 1)\n",
    "    \n",
    "    batch_t = torch.linspace(0.0,dt*(sampleLength-1),sampleLength).to(device)\n",
    "    return batch_t, batch_y0, batch_y\n",
    "\n",
    "class ODEFunc(nn.Module):\n",
    "    def __init__(self, dim, width, depth):\n",
    "        super(ODEFunc, self).__init__()\n",
    "        self.dim = dim\n",
    "        \n",
    "        layers = []\n",
    "        for i in range(depth):\n",
    "            if i == 0:\n",
    "                layers += [nn.Linear(self.dim, width), nn.Sigmoid()]\n",
    "            if i == (depth-1):\n",
    "                layers += [nn.Linear(width, self.dim)]\n",
    "            else:\n",
    "                layers += [nn.Linear(width, width), nn.Sigmoid()]\n",
    "        self.net = nn.Sequential(*layers)\n",
    "        \n",
    "        for m in self.net.modules():\n",
    "            if isinstance(m,nn.Linear):\n",
    "                nn.init.normal_(m.weight,mean=0,std=0.01)\n",
    "                nn.init.constant_(m.bias,val=0)\n",
    "\n",
    "        # HACK ???\n",
    "        m = 1.0\n",
    "        self.mass = m*m/(m+m)\n",
    "\n",
    "    def forward(self, state):\n",
    "        \n",
    "        with torch.set_grad_enabled(True):        \n",
    "            \n",
    "            v = state[0]\n",
    "            q = state[1]\n",
    "            \n",
    "            q.requires_grad = True\n",
    "            \n",
    "            f = -self.compute_grad(q, 0.01)\n",
    "            dvdt = f / self.mass\n",
    "            dqdt = v\n",
    "            \n",
    "        return (dvdt, dqdt)\n",
    "\n",
    "    def compute_grad(self, q, dq):\n",
    "        # using this over compute_grad from nff seems to make no difference\n",
    "        # HACK: does this only work with q_n => n=1? \n",
    "        return (self.net(q+dq) - self.net(q-dq)) / (2 * dq)\n",
    "\n",
    "def get_data():\n",
    "    # train_split = 0.9\n",
    "    # test_split = 1 - train_split\n",
    "    df = pd.read_csv(file_name+'-reduced_traj.csv')\n",
    "    # HACK: do this based on the column names, not explicitly\n",
    "    com = ['c_com_1[1]', 'c_com_1[2]', 'c_com_1[3]', 'c_com_2[1]', 'c_com_2[2]', 'c_com_2[3]']\n",
    "    q = ['c_q_1[1]', 'c_q_1[2]', 'c_q_1[3]', 'c_q_1[4]', 'c_q_2[1]', 'c_q_2[2]', 'c_q_2[3]', 'c_q_2[4]']\n",
    "    vel = ['c_vel_1[1]', 'c_vel_1[2]', 'c_vel_1[3]', 'c_vel_2[1]', 'c_vel_2[2]', 'c_vel_2[3]'] \n",
    "    av = ['c_av_1[1]', 'c_av_1[2]', 'c_av_1[3]', 'c_av_2[1]', 'c_av_2[2]', 'c_av_2[3]']\n",
    "    am = ['c_am_1[1]', 'c_am_1[2]', 'c_am_1[3]', 'c_am_2[1]', 'c_am_2[2]', 'c_am_2[3]']\n",
    "    \n",
    "    centre_of_masses = df.loc[:, ['timestep', *com]]\n",
    "    quaternions = df.loc[:, ['timestep', *q]]\n",
    "    velocities = df.loc[:, ['timestep', *vel]]\n",
    "    ang_velocities = df.loc[:, ['timestep', *av]]\n",
    "    ang_momenta = df.loc[:, ['timestep', *am]]\n",
    "    \n",
    "    # TODO: use DataLoaders?\n",
    "    \n",
    "    # trajs = np.load('data/trajectories/diatomic_spring_narrow.npy')\n",
    "    # split_index = int(trajs.shape[0] * train_split)\n",
    "\n",
    "    # np.random.shuffle(trajs)\n",
    "    # training_trajs = torch.Tensor(trajs[:split_index, :, :]).to(device)\n",
    "    # testing_trajs = torch.Tensor(trajs[split_index:, :, :]).to(device)\n",
    "    \n",
    "    return centre_of_masses, quaternions, velocities, ang_velocities, ang_momenta\n",
    "\n",
    "def process_data(centre_of_masses, quaternions, velocities, ang_velocities):\n",
    "    # TODO: have a 'reduce' possibility that reduces, or does not reduce the coordinates \n",
    "    # HACK: for now take all the variables, do not reduce anything\n",
    "    \n",
    "    # HACK: send a single trajectory\n",
    "    ntraj = 1\n",
    "    \n",
    "    # # Get separation between centre of masses\n",
    "    com1 = centre_of_masses.loc[:, ['c_com_1[1]', 'c_com_1[2]', 'c_com_1[3]']].to_numpy()\n",
    "    com2 = centre_of_masses.loc[:, ['c_com_2[1]', 'c_com_2[2]', 'c_com_2[3]']].to_numpy()\n",
    "    # separation = np.linalg.norm(com1-com2, axis=1).reshape(-1, 1)\n",
    "    coms = torch.from_numpy(np.hstack((com1, com2))).to(device).view(ntraj, -1, 6)\n",
    "    \n",
    "    # # Get difference between rotations\n",
    "    quat1 = quaternions.loc[:, ['c_q_1[1]', 'c_q_1[2]', 'c_q_1[3]', \"c_q_1[4]\"]].to_numpy()\n",
    "    quat2 = quaternions.loc[:, ['c_q_2[1]', 'c_q_2[2]', 'c_q_2[3]', \"c_q_2[4]\"]].to_numpy()\n",
    "    # quat_transition = quaternion.as_float_array(quat2 * quat1.conjugate())\n",
    "    quats = torch.from_numpy(np.hstack((quat1, quat2))).to(device).view(ntraj, -1, 8)\n",
    "    \n",
    "    # # Get translation velocities\n",
    "    vel1 = velocities.loc[:, ['c_vel_1[1]', 'c_vel_1[2]', 'c_vel_1[3]']].to_numpy()\n",
    "    vel2 = velocities.loc[:, ['c_vel_2[1]', 'c_vel_2[2]', 'c_vel_2[3]']].to_numpy() \n",
    "    # vel_diff = vel2 - vel1 \n",
    "    vels = torch.from_numpy(np.hstack((vel1, vel2))).to(device).view(ntraj, -1, 6)\n",
    "    \n",
    "    # Get angular velocities\n",
    "    ang_vels = torch.from_numpy(ang_velocities.iloc[:, 1:].to_numpy()).to(device).view(ntraj, -1, 6)\n",
    "    \n",
    "    # return (np.hstack((vel_diff, ang_velocities)), np.hstack((separation, quat_transition)))\n",
    "    return (vels, ang_vels, coms, quats)\n",
    "\n"
   ]
  },
  {
   "cell_type": "code",
   "execution_count": 53,
   "metadata": {},
   "outputs": [
    {
     "ename": "ValueError",
     "evalue": "received 4 argumets integration, but should be 2 for the forward call or 5 for the backward call",
     "output_type": "error",
     "traceback": [
      "\u001b[0;31m---------------------------------------------------------------------------\u001b[0m",
      "\u001b[0;31mValueError\u001b[0m                                Traceback (most recent call last)",
      "\u001b[0;32m<ipython-input-53-1a89238bfa4c>\u001b[0m in \u001b[0;36m<module>\u001b[0;34m\u001b[0m\n\u001b[1;32m     60\u001b[0m     \u001b[0;31m# # convert momentum to velocity (v = p / mu)\u001b[0m\u001b[0;34m\u001b[0m\u001b[0;34m\u001b[0m\u001b[0;34m\u001b[0m\u001b[0m\n\u001b[1;32m     61\u001b[0m     \u001b[0;31m# batch_y0 = (batch_y0[0] / func.mass, batch_y0[1])\u001b[0m\u001b[0;34m\u001b[0m\u001b[0;34m\u001b[0m\u001b[0;34m\u001b[0m\u001b[0m\n\u001b[0;32m---> 62\u001b[0;31m     \u001b[0mpred_y\u001b[0m \u001b[0;34m=\u001b[0m \u001b[0modeint_adjoint\u001b[0m\u001b[0;34m(\u001b[0m\u001b[0mfunc\u001b[0m\u001b[0;34m,\u001b[0m \u001b[0mbatch_y0\u001b[0m\u001b[0;34m,\u001b[0m \u001b[0mbatch_t\u001b[0m\u001b[0;34m,\u001b[0m \u001b[0mmethod\u001b[0m\u001b[0;34m=\u001b[0m\u001b[0;34m'NVE'\u001b[0m\u001b[0;34m)\u001b[0m\u001b[0;34m\u001b[0m\u001b[0;34m\u001b[0m\u001b[0m\n\u001b[0m\u001b[1;32m     63\u001b[0m \u001b[0;34m\u001b[0m\u001b[0m\n\u001b[1;32m     64\u001b[0m     \u001b[0;31m# convert velocity to momentum (p = mu * v)\u001b[0m\u001b[0;34m\u001b[0m\u001b[0;34m\u001b[0m\u001b[0;34m\u001b[0m\u001b[0m\n",
      "\u001b[0;32m~/thesis/diffmd/solvers.py\u001b[0m in \u001b[0;36modeint_adjoint\u001b[0;34m(diffeq, state, t, method, options)\u001b[0m\n\u001b[1;32m    223\u001b[0m \u001b[0;34m\u001b[0m\u001b[0m\n\u001b[1;32m    224\u001b[0m     \u001b[0mflat_params\u001b[0m \u001b[0;34m=\u001b[0m \u001b[0m_flatten\u001b[0m\u001b[0;34m(\u001b[0m\u001b[0mdiffeq\u001b[0m\u001b[0;34m.\u001b[0m\u001b[0mparameters\u001b[0m\u001b[0;34m(\u001b[0m\u001b[0;34m)\u001b[0m\u001b[0;34m)\u001b[0m\u001b[0;34m\u001b[0m\u001b[0;34m\u001b[0m\u001b[0m\n\u001b[0;32m--> 225\u001b[0;31m     \u001b[0mexpanded_states\u001b[0m \u001b[0;34m=\u001b[0m \u001b[0mOdeintAdjointMethod\u001b[0m\u001b[0;34m.\u001b[0m\u001b[0mapply\u001b[0m\u001b[0;34m(\u001b[0m\u001b[0;34m*\u001b[0m\u001b[0mstate\u001b[0m\u001b[0;34m,\u001b[0m \u001b[0mdiffeq\u001b[0m\u001b[0;34m,\u001b[0m \u001b[0mt\u001b[0m\u001b[0;34m,\u001b[0m \u001b[0mflat_params\u001b[0m\u001b[0;34m,\u001b[0m \u001b[0mmethod\u001b[0m\u001b[0;34m,\u001b[0m \u001b[0moptions\u001b[0m\u001b[0;34m)\u001b[0m\u001b[0;34m\u001b[0m\u001b[0;34m\u001b[0m\u001b[0m\n\u001b[0m\u001b[1;32m    226\u001b[0m \u001b[0;34m\u001b[0m\u001b[0m\n\u001b[1;32m    227\u001b[0m     \u001b[0;32mreturn\u001b[0m \u001b[0mexpanded_states\u001b[0m\u001b[0;34m\u001b[0m\u001b[0;34m\u001b[0m\u001b[0m\n",
      "\u001b[0;32m~/thesis/diffmd/solvers.py\u001b[0m in \u001b[0;36mforward\u001b[0;34m(ctx, *args)\u001b[0m\n\u001b[1;32m    257\u001b[0m \u001b[0;34m\u001b[0m\u001b[0m\n\u001b[1;32m    258\u001b[0m         \u001b[0;32mwith\u001b[0m \u001b[0mtorch\u001b[0m\u001b[0;34m.\u001b[0m\u001b[0mno_grad\u001b[0m\u001b[0;34m(\u001b[0m\u001b[0;34m)\u001b[0m\u001b[0;34m:\u001b[0m\u001b[0;34m\u001b[0m\u001b[0;34m\u001b[0m\u001b[0m\n\u001b[0;32m--> 259\u001b[0;31m             \u001b[0mtraj\u001b[0m \u001b[0;34m=\u001b[0m \u001b[0modeint\u001b[0m\u001b[0;34m(\u001b[0m\u001b[0mdiffeq\u001b[0m\u001b[0;34m,\u001b[0m \u001b[0mstate\u001b[0m\u001b[0;34m,\u001b[0m \u001b[0mt\u001b[0m\u001b[0;34m,\u001b[0m \u001b[0mmethod\u001b[0m\u001b[0;34m=\u001b[0m\u001b[0mmethod\u001b[0m\u001b[0;34m,\u001b[0m \u001b[0moptions\u001b[0m\u001b[0;34m=\u001b[0m\u001b[0moptions\u001b[0m\u001b[0;34m)\u001b[0m\u001b[0;34m\u001b[0m\u001b[0;34m\u001b[0m\u001b[0m\n\u001b[0m\u001b[1;32m    260\u001b[0m         \u001b[0mctx\u001b[0m\u001b[0;34m.\u001b[0m\u001b[0msave_for_backward\u001b[0m\u001b[0;34m(\u001b[0m\u001b[0mt\u001b[0m\u001b[0;34m,\u001b[0m \u001b[0mflat_params\u001b[0m\u001b[0;34m,\u001b[0m \u001b[0;34m*\u001b[0m\u001b[0mtraj\u001b[0m\u001b[0;34m)\u001b[0m\u001b[0;34m\u001b[0m\u001b[0;34m\u001b[0m\u001b[0m\n\u001b[1;32m    261\u001b[0m         \u001b[0;32mreturn\u001b[0m \u001b[0mtraj\u001b[0m\u001b[0;34m\u001b[0m\u001b[0;34m\u001b[0m\u001b[0m\n",
      "\u001b[0;32m~/thesis/diffmd/solvers.py\u001b[0m in \u001b[0;36modeint\u001b[0;34m(diffeq, state, t, method, options)\u001b[0m\n\u001b[1;32m    189\u001b[0m \u001b[0;34m\u001b[0m\u001b[0m\n\u001b[1;32m    190\u001b[0m     \u001b[0msolver\u001b[0m \u001b[0;34m=\u001b[0m \u001b[0mSOLVERS\u001b[0m\u001b[0;34m[\u001b[0m\u001b[0mmethod\u001b[0m\u001b[0;34m]\u001b[0m\u001b[0;34m(\u001b[0m\u001b[0mdiffeq\u001b[0m\u001b[0;34m,\u001b[0m \u001b[0mstate\u001b[0m\u001b[0;34m,\u001b[0m \u001b[0;34m**\u001b[0m\u001b[0moptions\u001b[0m\u001b[0;34m)\u001b[0m\u001b[0;34m\u001b[0m\u001b[0;34m\u001b[0m\u001b[0m\n\u001b[0;32m--> 191\u001b[0;31m     \u001b[0msolution\u001b[0m \u001b[0;34m=\u001b[0m \u001b[0msolver\u001b[0m\u001b[0;34m.\u001b[0m\u001b[0mintegrate\u001b[0m\u001b[0;34m(\u001b[0m\u001b[0mt\u001b[0m\u001b[0;34m)\u001b[0m\u001b[0;34m\u001b[0m\u001b[0;34m\u001b[0m\u001b[0m\n\u001b[0m\u001b[1;32m    192\u001b[0m     \u001b[0;32mif\u001b[0m \u001b[0mtensor_input\u001b[0m\u001b[0;34m:\u001b[0m\u001b[0;34m\u001b[0m\u001b[0;34m\u001b[0m\u001b[0m\n\u001b[1;32m    193\u001b[0m         \u001b[0msolution\u001b[0m \u001b[0;34m=\u001b[0m \u001b[0msolution\u001b[0m\u001b[0;34m[\u001b[0m\u001b[0;36m0\u001b[0m\u001b[0;34m]\u001b[0m\u001b[0;34m\u001b[0m\u001b[0;34m\u001b[0m\u001b[0m\n",
      "\u001b[0;32m~/thesis/diffmd/solver_base.py\u001b[0m in \u001b[0;36mintegrate\u001b[0;34m(self, t)\u001b[0m\n\u001b[1;32m    131\u001b[0m         \u001b[0;32mfor\u001b[0m \u001b[0mt0\u001b[0m\u001b[0;34m,\u001b[0m \u001b[0mt1\u001b[0m \u001b[0;32min\u001b[0m \u001b[0mzip\u001b[0m\u001b[0;34m(\u001b[0m\u001b[0mtime_grid\u001b[0m\u001b[0;34m[\u001b[0m\u001b[0;34m:\u001b[0m\u001b[0;34m-\u001b[0m\u001b[0;36m1\u001b[0m\u001b[0;34m]\u001b[0m\u001b[0;34m,\u001b[0m \u001b[0mtime_grid\u001b[0m\u001b[0;34m[\u001b[0m\u001b[0;36m1\u001b[0m\u001b[0;34m:\u001b[0m\u001b[0;34m]\u001b[0m\u001b[0;34m)\u001b[0m\u001b[0;34m:\u001b[0m\u001b[0;34m\u001b[0m\u001b[0;34m\u001b[0m\u001b[0m\n\u001b[1;32m    132\u001b[0m             \u001b[0mdt\u001b[0m \u001b[0;34m=\u001b[0m \u001b[0mt1\u001b[0m \u001b[0;34m-\u001b[0m \u001b[0mt0\u001b[0m\u001b[0;34m\u001b[0m\u001b[0;34m\u001b[0m\u001b[0m\n\u001b[0;32m--> 133\u001b[0;31m             \u001b[0mstep_state\u001b[0m \u001b[0;34m=\u001b[0m \u001b[0mself\u001b[0m\u001b[0;34m.\u001b[0m\u001b[0mstep_func\u001b[0m\u001b[0;34m(\u001b[0m\u001b[0mself\u001b[0m\u001b[0;34m.\u001b[0m\u001b[0mdiffeq\u001b[0m\u001b[0;34m,\u001b[0m \u001b[0mdt\u001b[0m\u001b[0;34m,\u001b[0m \u001b[0mstate\u001b[0m\u001b[0;34m)\u001b[0m\u001b[0;34m\u001b[0m\u001b[0;34m\u001b[0m\u001b[0m\n\u001b[0m\u001b[1;32m    134\u001b[0m             \u001b[0mnew_state\u001b[0m \u001b[0;34m=\u001b[0m \u001b[0mtuple\u001b[0m\u001b[0;34m(\u001b[0m\u001b[0mstate_\u001b[0m \u001b[0;34m+\u001b[0m \u001b[0mstep_\u001b[0m \u001b[0;32mfor\u001b[0m \u001b[0mstate_\u001b[0m\u001b[0;34m,\u001b[0m \u001b[0mstep_\u001b[0m \u001b[0;32min\u001b[0m \u001b[0mzip\u001b[0m\u001b[0;34m(\u001b[0m\u001b[0mstate\u001b[0m\u001b[0;34m,\u001b[0m \u001b[0mstep_state\u001b[0m\u001b[0;34m)\u001b[0m\u001b[0;34m)\u001b[0m\u001b[0;34m\u001b[0m\u001b[0;34m\u001b[0m\u001b[0m\n\u001b[1;32m    135\u001b[0m             \u001b[0mstate\u001b[0m \u001b[0;34m=\u001b[0m \u001b[0mnew_state\u001b[0m\u001b[0;34m\u001b[0m\u001b[0;34m\u001b[0m\u001b[0m\n",
      "\u001b[0;32m~/thesis/diffmd/solvers.py\u001b[0m in \u001b[0;36mstep_func\u001b[0;34m(self, diffeq, dt, state)\u001b[0m\n\u001b[1;32m     71\u001b[0m             \u001b[0;32mreturn\u001b[0m \u001b[0;34m(\u001b[0m\u001b[0mv_step_full\u001b[0m\u001b[0;34m,\u001b[0m \u001b[0mq_step_full\u001b[0m\u001b[0;34m,\u001b[0m \u001b[0mvadjoint_step\u001b[0m\u001b[0;34m,\u001b[0m \u001b[0mqadjoint_step\u001b[0m\u001b[0;34m,\u001b[0m \u001b[0mdLdpar_step\u001b[0m\u001b[0;34m)\u001b[0m\u001b[0;34m\u001b[0m\u001b[0;34m\u001b[0m\u001b[0m\n\u001b[1;32m     72\u001b[0m         \u001b[0;32melse\u001b[0m\u001b[0;34m:\u001b[0m\u001b[0;34m\u001b[0m\u001b[0;34m\u001b[0m\u001b[0m\n\u001b[0;32m---> 73\u001b[0;31m             \u001b[0;32mraise\u001b[0m \u001b[0mValueError\u001b[0m\u001b[0;34m(\u001b[0m\u001b[0;34m\"received {} argumets integration, but should be {} for the forward call or {} for the backward call\"\u001b[0m\u001b[0;34m.\u001b[0m\u001b[0mformat\u001b[0m\u001b[0;34m(\u001b[0m\u001b[0mlen\u001b[0m\u001b[0;34m(\u001b[0m\u001b[0mstate\u001b[0m\u001b[0;34m)\u001b[0m\u001b[0;34m,\u001b[0m \u001b[0mNUM_VAR\u001b[0m\u001b[0;34m,\u001b[0m \u001b[0;36m2\u001b[0m \u001b[0;34m*\u001b[0m \u001b[0mNUM_VAR\u001b[0m \u001b[0;34m+\u001b[0m \u001b[0;36m1\u001b[0m\u001b[0;34m)\u001b[0m\u001b[0;34m)\u001b[0m\u001b[0;34m\u001b[0m\u001b[0;34m\u001b[0m\u001b[0m\n\u001b[0m\u001b[1;32m     74\u001b[0m \u001b[0;34m\u001b[0m\u001b[0m\n\u001b[1;32m     75\u001b[0m \u001b[0;34m\u001b[0m\u001b[0m\n",
      "\u001b[0;31mValueError\u001b[0m: received 4 argumets integration, but should be 2 for the forward call or 5 for the backward call"
     ]
    }
   ],
   "source": [
    "file_name = 'hexagons/trajectories/NVE-temp-0.1_sig-2_cut-1.5_K-0.1_r-5'\n",
    "\n",
    "centre_of_masses, quaternions, velocities, ang_velocities, ang_momenta = get_data()\n",
    "\n",
    "trajectory = process_data(centre_of_masses, quaternions, velocities, ang_velocities)\n",
    "\n",
    "def get_batch_mod(traj,batch_size,batch_length,dt):\n",
    "    \n",
    "    vel_dim = trajectory[0].size()[2]\n",
    "    angvel_dim = trajectory[1].size()[2]\n",
    "    com_dim = trajectory[2].size()[2]\n",
    "    quat_dim = trajectory[3].size()[2]\n",
    "\n",
    "    sampled_is = torch.randint(traj[0].shape[0],size = (batch_size,)).to(device)\n",
    "    sampled_js = torch.randint(traj[0].shape[1]-batch_length,size = (batch_size,)).to(device)\n",
    "    initial_time = sampled_js*dt\n",
    "    \n",
    "    batch_t = torch.linspace(0.0,dt*(batch_length-1),batch_length).to(device)\n",
    "    \n",
    "    vels = traj[0][sampled_is,sampled_js,:]\n",
    "    ang_vels = traj[1][sampled_is,sampled_js,:]\n",
    "    coms = traj[2][sampled_is,sampled_js,:]\n",
    "    quats = traj[3][sampled_is,sampled_js,:]\n",
    "    \n",
    "    pos_init = (vels, ang_vels, coms, quats)\n",
    "\n",
    "    sampled_trajs = []\n",
    "    \n",
    "    for i in range(batch_size):\n",
    "        vels = traj[0][sampled_is[i],sampled_js[i]:sampled_js[i]+batch_length,:].view(-1,vel_dim)\n",
    "        ang_vels = traj[1][sampled_is[i],sampled_js[i]:sampled_js[i]+batch_length,:].view(-1,angvel_dim)\n",
    "        coms = traj[2][sampled_is[i],sampled_js[i]:sampled_js[i]+batch_length,:].view(-1,com_dim)\n",
    "        quats = traj[3][sampled_is[i],sampled_js[i]:sampled_js[i]+batch_length,:].view(-1,quat_dim)\n",
    "        x = torch.cat((vels, ang_vels, coms, quats), dim=1)\n",
    "        sampled_trajs.append(x)\n",
    "        \n",
    "    batch_trajs = torch.stack(sampled_trajs,dim=1)\n",
    "    batch_trajs = torch.split(batch_trajs, [vel_dim, angvel_dim, com_dim, quat_dim], dim=2)\n",
    "    return batch_t, pos_init, batch_trajs\n",
    "\n",
    "\n",
    "\n",
    "niters = 1000\n",
    "nn_width = 25\n",
    "nn_depth = 2\n",
    "learning_rate = 1e-3\n",
    "\n",
    "loss_meter = RunningAverageMeter()\n",
    "dim = (trajectory[2].size()[2]) + (trajectory[3].size()[2]) # add number of quaternions and centre of masses degrees of freedom\n",
    "func = ODEFunc(dim, nn_width, nn_depth).to(device)\n",
    "optimizer = torch.optim.Adam(func.parameters(), lr=learning_rate)\n",
    "\n",
    "for itr in range(1, niters + 1):\n",
    "    start = time.perf_counter()\n",
    "    optimizer.zero_grad()\n",
    "    \n",
    "    # HACK: to try sending in a trajectory\n",
    "    batch_t, batch_y0, batch_y = get_batch_mod(trajectory, 100, 10, 0.0005)\n",
    "    \n",
    "    # # convert momentum to velocity (v = p / mu)\n",
    "    # batch_y0 = (batch_y0[0] / func.mass, batch_y0[1])\n",
    "    pred_y = odeint_adjoint(func, batch_y0, batch_t, method='NVE')\n",
    "\n",
    "    # convert velocity to momentum (p = mu * v)\n",
    "    # pred_y = (pred_y[0] * func.mass, pred_y[1])\n",
    "    pred_y = torch.cat(pred_y, dim=2)\n",
    "    \n",
    "    loss = torch.mean(torch.abs(pred_y[:, :, 0] - batch_y[:, :, 0]))\n",
    "    loss.backward() \n",
    "    optimizer.step()\n",
    "    loss_meter.update(loss.item())\n",
    "    \n",
    "    if itr % 10 == 0: # output log throughout\n",
    "        print('Iter: {}, running avg elbo: {:.4f}'.format(itr, loss_meter.avg))\n",
    "        print('current loss: {:.4f}'.format(loss_meter.val))\n",
    "        print('Last iteration took: ', time.perf_counter() - start)\n"
   ]
  },
  {
   "cell_type": "code",
   "execution_count": 5,
   "metadata": {},
   "outputs": [],
   "source": [
    "import plotly.graph_objs as go\n",
    "\n",
    "def vector_plot(tvects,is_vect=True,orig=[0,0,0]):\n",
    "    \"\"\"Plot vectors using plotly\"\"\"\n",
    "\n",
    "    if is_vect:\n",
    "        if not hasattr(orig[0],\"__iter__\"):\n",
    "            coords = [[orig,np.sum([orig,v],axis=0)] for v in tvects]\n",
    "        else:\n",
    "            coords = [[o,np.sum([o,v],axis=0)] for o,v in zip(orig,tvects)]\n",
    "    else:\n",
    "        coords = tvects\n",
    "\n",
    "    data = []\n",
    "    for i,c in enumerate(coords):\n",
    "        X1, Y1, Z1 = zip(c[0])\n",
    "        X2, Y2, Z2 = zip(c[1])\n",
    "        vector = go.Scatter3d(x = [X1[0],X2[0]],\n",
    "                              y = [Y1[0],Y2[0]],\n",
    "                              z = [Z1[0],Z2[0]],\n",
    "                              marker = dict(size = [0,5],\n",
    "                                            color = ['blue'],\n",
    "                                            line=dict(width=5,\n",
    "                                                      color='DarkSlateGrey')),\n",
    "                              name = 'Vector'+str(i+1))\n",
    "        data.append(vector)\n",
    "\n",
    "    layout = go.Layout(\n",
    "             margin = dict(l = 4,\n",
    "                           r = 4,\n",
    "                           b = 4,\n",
    "                           t = 4)\n",
    "                  )\n",
    "    fig = go.Figure(data=data,layout=layout)\n",
    "    fig.show()"
   ]
  },
  {
   "cell_type": "code",
   "execution_count": 11,
   "metadata": {},
   "outputs": [
    {
     "name": "stdout",
     "output_type": "stream",
     "text": [
      "(array([[ 0.        ,  0.        ,  0.        , ...,  0.        ,\n",
      "         0.        ,  0.        ],\n",
      "       [ 0.01518218, -0.0139471 ,  0.01710846, ..., -0.0215073 ,\n",
      "        -0.0290482 , -0.00088951],\n",
      "       [-0.02682069,  0.0195529 , -0.06787774, ..., -0.173707  ,\n",
      "        -0.0441775 , -0.0367169 ],\n",
      "       ...,\n",
      "       [-0.0213354 ,  0.277402  , -0.0801334 , ...,  0.099064  ,\n",
      "         0.111093  ,  0.0802596 ],\n",
      "       [-0.0109809 ,  0.315444  , -0.1316132 , ...,  0.0687512 ,\n",
      "         0.115968  ,  0.0391946 ],\n",
      "       [ 0.0974403 ,  0.292485  , -0.0782197 , ...,  0.00388676,\n",
      "         0.0939857 , -0.0465734 ]]), array([[ 0.00000000e+00,  0.00000000e+00,  0.00000000e+00,\n",
      "         0.00000000e+00,  0.00000000e+00],\n",
      "       [ 2.44322943e+00,  9.99824108e-01, -4.29189831e-03,\n",
      "        -1.81224667e-02, -2.07064793e-03],\n",
      "       [ 2.42378183e+00,  9.99116925e-01, -4.32879377e-03,\n",
      "        -3.99009689e-02,  1.23820525e-02],\n",
      "       ...,\n",
      "       [ 6.38621611e+00, -7.11082596e-01,  4.32012695e-01,\n",
      "        -3.97570040e-01, -3.86866107e-01],\n",
      "       [ 6.49585182e+00, -6.42040511e-01,  4.06612862e-01,\n",
      "        -4.47437126e-01, -4.71432679e-01],\n",
      "       [ 6.59372060e+00, -5.73090744e-01,  3.67059054e-01,\n",
      "        -4.99125337e-01, -5.36384242e-01]]))\n"
     ]
    }
   ],
   "source": [
    "print(trajectory)"
   ]
  },
  {
   "cell_type": "code",
   "execution_count": 104,
   "metadata": {},
   "outputs": [
    {
     "name": "stdout",
     "output_type": "stream",
     "text": [
      "    index  timestep  body_id    id         x         y         z\n",
      "0      28    1000.0      1.0   1.0  0.989920  0.005859 -0.020850\n",
      "1      29    1000.0      1.0   2.0  0.495232  0.874905 -0.014301\n",
      "2      30    1000.0      1.0   3.0 -0.504460  0.881011  0.009731\n",
      "3      31    1000.0      1.0   4.0 -1.009460  0.018072  0.027215\n",
      "4      32    1000.0      1.0   5.0 -0.514776 -0.850974  0.020666\n",
      "5      33    1000.0      1.0   6.0  0.484916 -0.857080 -0.003366\n",
      "6      34    1000.0      1.0   7.0 -0.009772  0.011965  0.003183\n",
      "7      35    1000.0      2.0   8.0  2.005380  1.006250  2.004160\n",
      "8      36    1000.0      2.0   9.0  1.503160  1.870960  1.996230\n",
      "9      37    1000.0      2.0  10.0  0.503239  1.868330  1.984050\n",
      "10     38    1000.0      2.0  11.0  0.005532  1.000990  1.979800\n",
      "11     39    1000.0      2.0  12.0  0.507748  0.136286  1.987730\n",
      "12     40    1000.0      2.0  13.0  1.507670  0.138914  1.999910\n",
      "13     41    1000.0      2.0  14.0  1.005450  1.003620  1.991980\n",
      "          x         y\n",
      "0  0.989920  0.005859\n",
      "1  0.495232  0.874905\n",
      "2 -0.504460  0.881011\n",
      "3 -1.009460  0.018072\n",
      "4 -0.514776 -0.850974\n",
      "5  0.484916 -0.857080\n",
      "6 -0.009772  0.011965\n"
     ]
    },
    {
     "data": {
      "image/png": "[encoded data removed]",
      "text/plain": [
       "<Figure size 640x480 with 1 Axes>"
      ]
     },
     "metadata": {},
     "output_type": "display_data"
    }
   ],
   "source": [
    "firstStep = orig_traj.loc[orig_traj['timestep'] == 1000].reset_index()\n",
    "firstHexagon = firstStep.loc[:6, ['x', 'y']]\n",
    "print(firstStep)\n",
    "print(firstHexagon)\n",
    "plt.plot(firstHexagon.iloc[:, 0], firstHexagon.iloc[:, 1], 'o')\n",
    "plt.xlabel('x')\n",
    "plt.ylabel('y')\n",
    "plt.show()"
   ]
  },
  {
   "cell_type": "code",
   "execution_count": 24,
   "metadata": {},
   "outputs": [
    {
     "name": "stdout",
     "output_type": "stream",
     "text": [
      "quaternion(6.93889390390723e-18, -2.38796216413147, -3.63768324282903, 3.73695904748035)\n",
      "[ 6.93889390e-18 -2.38796216e+00 -3.63768324e+00  3.73695905e+00]\n"
     ]
    },
    {
     "data": {
      "application/vnd.plotly.v1+json": {
       "config": {
        "plotlyServerURL": "https://plot.ly"
       },
       "data": [
        {
         "marker": {
          "color": [
           "blue"
          ],
          "line": {
           "color": "DarkSlateGrey",
           "width": 5
          },
          "size": [
           0,
           5
          ]
         },
         "name": "Vector1",
         "type": "scatter3d",
         "x": [
          0,
          2.5
         ],
         "y": [
          0,
          3.6
         ],
         "z": [
          0,
          3.7
         ]
        },
        {
         "marker": {
          "color": [
           "blue"
          ],
          "line": {
           "color": "DarkSlateGrey",
           "width": 5
          },
          "size": [
           0,
           5
          ]
         },
         "name": "Vector2",
         "type": "scatter3d",
         "x": [
          0,
          -2.387963412730804
         ],
         "y": [
          0,
          -3.637685144872938
         ],
         "z": [
          0,
          3.7369610014328223
         ]
        },
        {
         "marker": {
          "color": [
           "blue"
          ],
          "line": {
           "color": "DarkSlateGrey",
           "width": 5
          },
          "size": [
           0,
           5
          ]
         },
         "name": "Vector3",
         "type": "scatter3d",
         "x": [
          0,
          -2.3879621641314697
         ],
         "y": [
          0,
          -3.637683242829034
         ],
         "z": [
          0,
          3.736959047480348
         ]
        }
       ],
       "layout": {
        "margin": {
         "b": 4,
         "l": 4,
         "r": 4,
         "t": 4
        },
        "template": {
         "data": {
          "bar": [
           {
            "error_x": {
             "color": "#2a3f5f"
            },
            "error_y": {
             "color": "#2a3f5f"
            },
            "marker": {
             "line": {
              "color": "#E5ECF6",
              "width": 0.5
             },
             "pattern": {
              "fillmode": "overlay",
              "size": 10,
              "solidity": 0.2
             }
            },
            "type": "bar"
           }
          ],
          "barpolar": [
           {
            "marker": {
             "line": {
              "color": "#E5ECF6",
              "width": 0.5
             },
             "pattern": {
              "fillmode": "overlay",
              "size": 10,
              "solidity": 0.2
             }
            },
            "type": "barpolar"
           }
          ],
          "carpet": [
           {
            "aaxis": {
             "endlinecolor": "#2a3f5f",
             "gridcolor": "white",
             "linecolor": "white",
             "minorgridcolor": "white",
             "startlinecolor": "#2a3f5f"
            },
            "baxis": {
             "endlinecolor": "#2a3f5f",
             "gridcolor": "white",
             "linecolor": "white",
             "minorgridcolor": "white",
             "startlinecolor": "#2a3f5f"
            },
            "type": "carpet"
           }
          ],
          "choropleth": [
           {
            "colorbar": {
             "outlinewidth": 0,
             "ticks": ""
            },
            "type": "choropleth"
           }
          ],
          "contour": [
           {
            "colorbar": {
             "outlinewidth": 0,
             "ticks": ""
            },
            "colorscale": [
             [
              0,
              "#0d0887"
             ],
             [
              0.1111111111111111,
              "#46039f"
             ],
             [
              0.2222222222222222,
              "#7201a8"
             ],
             [
              0.3333333333333333,
              "#9c179e"
             ],
             [
              0.4444444444444444,
              "#bd3786"
             ],
             [
              0.5555555555555556,
              "#d8576b"
             ],
             [
              0.6666666666666666,
              "#ed7953"
             ],
             [
              0.7777777777777778,
              "#fb9f3a"
             ],
             [
              0.8888888888888888,
              "#fdca26"
             ],
             [
              1,
              "#f0f921"
             ]
            ],
            "type": "contour"
           }
          ],
          "contourcarpet": [
           {
            "colorbar": {
             "outlinewidth": 0,
             "ticks": ""
            },
            "type": "contourcarpet"
           }
          ],
          "heatmap": [
           {
            "colorbar": {
             "outlinewidth": 0,
             "ticks": ""
            },
            "colorscale": [
             [
              0,
              "#0d0887"
             ],
             [
              0.1111111111111111,
              "#46039f"
             ],
             [
              0.2222222222222222,
              "#7201a8"
             ],
             [
              0.3333333333333333,
              "#9c179e"
             ],
             [
              0.4444444444444444,
              "#bd3786"
             ],
             [
              0.5555555555555556,
              "#d8576b"
             ],
             [
              0.6666666666666666,
              "#ed7953"
             ],
             [
              0.7777777777777778,
              "#fb9f3a"
             ],
             [
              0.8888888888888888,
              "#fdca26"
             ],
             [
              1,
              "#f0f921"
             ]
            ],
            "type": "heatmap"
           }
          ],
          "heatmapgl": [
           {
            "colorbar": {
             "outlinewidth": 0,
             "ticks": ""
            },
            "colorscale": [
             [
              0,
              "#0d0887"
             ],
             [
              0.1111111111111111,
              "#46039f"
             ],
             [
              0.2222222222222222,
              "#7201a8"
             ],
             [
              0.3333333333333333,
              "#9c179e"
             ],
             [
              0.4444444444444444,
              "#bd3786"
             ],
             [
              0.5555555555555556,
              "#d8576b"
             ],
             [
              0.6666666666666666,
              "#ed7953"
             ],
             [
              0.7777777777777778,
              "#fb9f3a"
             ],
             [
              0.8888888888888888,
              "#fdca26"
             ],
             [
              1,
              "#f0f921"
             ]
            ],
            "type": "heatmapgl"
           }
          ],
          "histogram": [
           {
            "marker": {
             "pattern": {
              "fillmode": "overlay",
              "size": 10,
              "solidity": 0.2
             }
            },
            "type": "histogram"
           }
          ],
          "histogram2d": [
           {
            "colorbar": {
             "outlinewidth": 0,
             "ticks": ""
            },
            "colorscale": [
             [
              0,
              "#0d0887"
             ],
             [
              0.1111111111111111,
              "#46039f"
             ],
             [
              0.2222222222222222,
              "#7201a8"
             ],
             [
              0.3333333333333333,
              "#9c179e"
             ],
             [
              0.4444444444444444,
              "#bd3786"
             ],
             [
              0.5555555555555556,
              "#d8576b"
             ],
             [
              0.6666666666666666,
              "#ed7953"
             ],
             [
              0.7777777777777778,
              "#fb9f3a"
             ],
             [
              0.8888888888888888,
              "#fdca26"
             ],
             [
              1,
              "#f0f921"
             ]
            ],
            "type": "histogram2d"
           }
          ],
          "histogram2dcontour": [
           {
            "colorbar": {
             "outlinewidth": 0,
             "ticks": ""
            },
            "colorscale": [
             [
              0,
              "#0d0887"
             ],
             [
              0.1111111111111111,
              "#46039f"
             ],
             [
              0.2222222222222222,
              "#7201a8"
             ],
             [
              0.3333333333333333,
              "#9c179e"
             ],
             [
              0.4444444444444444,
              "#bd3786"
             ],
             [
              0.5555555555555556,
              "#d8576b"
             ],
             [
              0.6666666666666666,
              "#ed7953"
             ],
             [
              0.7777777777777778,
              "#fb9f3a"
             ],
             [
              0.8888888888888888,
              "#fdca26"
             ],
             [
              1,
              "#f0f921"
             ]
            ],
            "type": "histogram2dcontour"
           }
          ],
          "mesh3d": [
           {
            "colorbar": {
             "outlinewidth": 0,
             "ticks": ""
            },
            "type": "mesh3d"
           }
          ],
          "parcoords": [
           {
            "line": {
             "colorbar": {
              "outlinewidth": 0,
              "ticks": ""
             }
            },
            "type": "parcoords"
           }
          ],
          "pie": [
           {
            "automargin": true,
            "type": "pie"
           }
          ],
          "scatter": [
           {
            "marker": {
             "colorbar": {
              "outlinewidth": 0,
              "ticks": ""
             }
            },
            "type": "scatter"
           }
          ],
          "scatter3d": [
           {
            "line": {
             "colorbar": {
              "outlinewidth": 0,
              "ticks": ""
             }
            },
            "marker": {
             "colorbar": {
              "outlinewidth": 0,
              "ticks": ""
             }
            },
            "type": "scatter3d"
           }
          ],
          "scattercarpet": [
           {
            "marker": {
             "colorbar": {
              "outlinewidth": 0,
              "ticks": ""
             }
            },
            "type": "scattercarpet"
           }
          ],
          "scattergeo": [
           {
            "marker": {
             "colorbar": {
              "outlinewidth": 0,
              "ticks": ""
             }
            },
            "type": "scattergeo"
           }
          ],
          "scattergl": [
           {
            "marker": {
             "colorbar": {
              "outlinewidth": 0,
              "ticks": ""
             }
            },
            "type": "scattergl"
           }
          ],
          "scattermapbox": [
           {
            "marker": {
             "colorbar": {
              "outlinewidth": 0,
              "ticks": ""
             }
            },
            "type": "scattermapbox"
           }
          ],
          "scatterpolar": [
           {
            "marker": {
             "colorbar": {
              "outlinewidth": 0,
              "ticks": ""
             }
            },
            "type": "scatterpolar"
           }
          ],
          "scatterpolargl": [
           {
            "marker": {
             "colorbar": {
              "outlinewidth": 0,
              "ticks": ""
             }
            },
            "type": "scatterpolargl"
           }
          ],
          "scatterternary": [
           {
            "marker": {
             "colorbar": {
              "outlinewidth": 0,
              "ticks": ""
             }
            },
            "type": "scatterternary"
           }
          ],
          "surface": [
           {
            "colorbar": {
             "outlinewidth": 0,
             "ticks": ""
            },
            "colorscale": [
             [
              0,
              "#0d0887"
             ],
             [
              0.1111111111111111,
              "#46039f"
             ],
             [
              0.2222222222222222,
              "#7201a8"
             ],
             [
              0.3333333333333333,
              "#9c179e"
             ],
             [
              0.4444444444444444,
              "#bd3786"
             ],
             [
              0.5555555555555556,
              "#d8576b"
             ],
             [
              0.6666666666666666,
              "#ed7953"
             ],
             [
              0.7777777777777778,
              "#fb9f3a"
             ],
             [
              0.8888888888888888,
              "#fdca26"
             ],
             [
              1,
              "#f0f921"
             ]
            ],
            "type": "surface"
           }
          ],
          "table": [
           {
            "cells": {
             "fill": {
              "color": "#EBF0F8"
             },
             "line": {
              "color": "white"
             }
            },
            "header": {
             "fill": {
              "color": "#C8D4E3"
             },
             "line": {
              "color": "white"
             }
            },
            "type": "table"
           }
          ]
         },
         "layout": {
          "annotationdefaults": {
           "arrowcolor": "#2a3f5f",
           "arrowhead": 0,
           "arrowwidth": 1
          },
          "autotypenumbers": "strict",
          "coloraxis": {
           "colorbar": {
            "outlinewidth": 0,
            "ticks": ""
           }
          },
          "colorscale": {
           "diverging": [
            [
             0,
             "#8e0152"
            ],
            [
             0.1,
             "#c51b7d"
            ],
            [
             0.2,
             "#de77ae"
            ],
            [
             0.3,
             "#f1b6da"
            ],
            [
             0.4,
             "#fde0ef"
            ],
            [
             0.5,
             "#f7f7f7"
            ],
            [
             0.6,
             "#e6f5d0"
            ],
            [
             0.7,
             "#b8e186"
            ],
            [
             0.8,
             "#7fbc41"
            ],
            [
             0.9,
             "#4d9221"
            ],
            [
             1,
             "#276419"
            ]
           ],
           "sequential": [
            [
             0,
             "#0d0887"
            ],
            [
             0.1111111111111111,
             "#46039f"
            ],
            [
             0.2222222222222222,
             "#7201a8"
            ],
            [
             0.3333333333333333,
             "#9c179e"
            ],
            [
             0.4444444444444444,
             "#bd3786"
            ],
            [
             0.5555555555555556,
             "#d8576b"
            ],
            [
             0.6666666666666666,
             "#ed7953"
            ],
            [
             0.7777777777777778,
             "#fb9f3a"
            ],
            [
             0.8888888888888888,
             "#fdca26"
            ],
            [
             1,
             "#f0f921"
            ]
           ],
           "sequentialminus": [
            [
             0,
             "#0d0887"
            ],
            [
             0.1111111111111111,
             "#46039f"
            ],
            [
             0.2222222222222222,
             "#7201a8"
            ],
            [
             0.3333333333333333,
             "#9c179e"
            ],
            [
             0.4444444444444444,
             "#bd3786"
            ],
            [
             0.5555555555555556,
             "#d8576b"
            ],
            [
             0.6666666666666666,
             "#ed7953"
            ],
            [
             0.7777777777777778,
             "#fb9f3a"
            ],
            [
             0.8888888888888888,
             "#fdca26"
            ],
            [
             1,
             "#f0f921"
            ]
           ]
          },
          "colorway": [
           "#636efa",
           "#EF553B",
           "#00cc96",
           "#ab63fa",
           "#FFA15A",
           "#19d3f3",
           "#FF6692",
           "#B6E880",
           "#FF97FF",
           "#FECB52"
          ],
          "font": {
           "color": "#2a3f5f"
          },
          "geo": {
           "bgcolor": "white",
           "lakecolor": "white",
           "landcolor": "#E5ECF6",
           "showlakes": true,
           "showland": true,
           "subunitcolor": "white"
          },
          "hoverlabel": {
           "align": "left"
          },
          "hovermode": "closest",
          "mapbox": {
           "style": "light"
          },
          "paper_bgcolor": "white",
          "plot_bgcolor": "#E5ECF6",
          "polar": {
           "angularaxis": {
            "gridcolor": "white",
            "linecolor": "white",
            "ticks": ""
           },
           "bgcolor": "#E5ECF6",
           "radialaxis": {
            "gridcolor": "white",
            "linecolor": "white",
            "ticks": ""
           }
          },
          "scene": {
           "xaxis": {
            "backgroundcolor": "#E5ECF6",
            "gridcolor": "white",
            "gridwidth": 2,
            "linecolor": "white",
            "showbackground": true,
            "ticks": "",
            "zerolinecolor": "white"
           },
           "yaxis": {
            "backgroundcolor": "#E5ECF6",
            "gridcolor": "white",
            "gridwidth": 2,
            "linecolor": "white",
            "showbackground": true,
            "ticks": "",
            "zerolinecolor": "white"
           },
           "zaxis": {
            "backgroundcolor": "#E5ECF6",
            "gridcolor": "white",
            "gridwidth": 2,
            "linecolor": "white",
            "showbackground": true,
            "ticks": "",
            "zerolinecolor": "white"
           }
          },
          "shapedefaults": {
           "line": {
            "color": "#2a3f5f"
           }
          },
          "ternary": {
           "aaxis": {
            "gridcolor": "white",
            "linecolor": "white",
            "ticks": ""
           },
           "baxis": {
            "gridcolor": "white",
            "linecolor": "white",
            "ticks": ""
           },
           "bgcolor": "#E5ECF6",
           "caxis": {
            "gridcolor": "white",
            "linecolor": "white",
            "ticks": ""
           }
          },
          "title": {
           "x": 0.05
          },
          "xaxis": {
           "automargin": true,
           "gridcolor": "white",
           "linecolor": "white",
           "ticks": "",
           "title": {
            "standoff": 15
           },
           "zerolinecolor": "white",
           "zerolinewidth": 2
          },
          "yaxis": {
           "automargin": true,
           "gridcolor": "white",
           "linecolor": "white",
           "ticks": "",
           "title": {
            "standoff": 15
           },
           "zerolinecolor": "white",
           "zerolinewidth": 2
          }
         }
        }
       }
      },
      "text/html": [
       "<div>                            <div id=\"bacf2c56-a4e6-457b-a65c-7821b57f6be7\" class=\"plotly-graph-div\" style=\"height:525px; width:100%;\"></div>            <script type=\"text/javascript\">                require([\"plotly\"], function(Plotly) {                    window.PLOTLYENV=window.PLOTLYENV || {};                                    if (document.getElementById(\"bacf2c56-a4e6-457b-a65c-7821b57f6be7\")) {                    Plotly.newPlot(                        \"bacf2c56-a4e6-457b-a65c-7821b57f6be7\",                        [{\"marker\":{\"color\":[\"blue\"],\"line\":{\"color\":\"DarkSlateGrey\",\"width\":5},\"size\":[0,5]},\"name\":\"Vector1\",\"x\":[0,2.5],\"y\":[0,3.6],\"z\":[0,3.7],\"type\":\"scatter3d\"},{\"marker\":{\"color\":[\"blue\"],\"line\":{\"color\":\"DarkSlateGrey\",\"width\":5},\"size\":[0,5]},\"name\":\"Vector2\",\"x\":[0,-2.387963412730804],\"y\":[0,-3.637685144872938],\"z\":[0,3.7369610014328223],\"type\":\"scatter3d\"},{\"marker\":{\"color\":[\"blue\"],\"line\":{\"color\":\"DarkSlateGrey\",\"width\":5},\"size\":[0,5]},\"name\":\"Vector3\",\"x\":[0,-2.3879621641314697],\"y\":[0,-3.637683242829034],\"z\":[0,3.736959047480348],\"type\":\"scatter3d\"}],                        {\"margin\":{\"b\":4,\"l\":4,\"r\":4,\"t\":4},\"template\":{\"data\":{\"bar\":[{\"error_x\":{\"color\":\"#2a3f5f\"},\"error_y\":{\"color\":\"#2a3f5f\"},\"marker\":{\"line\":{\"color\":\"#E5ECF6\",\"width\":0.5},\"pattern\":{\"fillmode\":\"overlay\",\"size\":10,\"solidity\":0.2}},\"type\":\"bar\"}],\"barpolar\":[{\"marker\":{\"line\":{\"color\":\"#E5ECF6\",\"width\":0.5},\"pattern\":{\"fillmode\":\"overlay\",\"size\":10,\"solidity\":0.2}},\"type\":\"barpolar\"}],\"carpet\":[{\"aaxis\":{\"endlinecolor\":\"#2a3f5f\",\"gridcolor\":\"white\",\"linecolor\":\"white\",\"minorgridcolor\":\"white\",\"startlinecolor\":\"#2a3f5f\"},\"baxis\":{\"endlinecolor\":\"#2a3f5f\",\"gridcolor\":\"white\",\"linecolor\":\"white\",\"minorgridcolor\":\"white\",\"startlinecolor\":\"#2a3f5f\"},\"type\":\"carpet\"}],\"choropleth\":[{\"colorbar\":{\"outlinewidth\":0,\"ticks\":\"\"},\"type\":\"choropleth\"}],\"contour\":[{\"colorbar\":{\"outlinewidth\":0,\"ticks\":\"\"},\"colorscale\":[[0.0,\"#0d0887\"],[0.1111111111111111,\"#46039f\"],[0.2222222222222222,\"#7201a8\"],[0.3333333333333333,\"#9c179e\"],[0.4444444444444444,\"#bd3786\"],[0.5555555555555556,\"#d8576b\"],[0.6666666666666666,\"#ed7953\"],[0.7777777777777778,\"#fb9f3a\"],[0.8888888888888888,\"#fdca26\"],[1.0,\"#f0f921\"]],\"type\":\"contour\"}],\"contourcarpet\":[{\"colorbar\":{\"outlinewidth\":0,\"ticks\":\"\"},\"type\":\"contourcarpet\"}],\"heatmap\":[{\"colorbar\":{\"outlinewidth\":0,\"ticks\":\"\"},\"colorscale\":[[0.0,\"#0d0887\"],[0.1111111111111111,\"#46039f\"],[0.2222222222222222,\"#7201a8\"],[0.3333333333333333,\"#9c179e\"],[0.4444444444444444,\"#bd3786\"],[0.5555555555555556,\"#d8576b\"],[0.6666666666666666,\"#ed7953\"],[0.7777777777777778,\"#fb9f3a\"],[0.8888888888888888,\"#fdca26\"],[1.0,\"#f0f921\"]],\"type\":\"heatmap\"}],\"heatmapgl\":[{\"colorbar\":{\"outlinewidth\":0,\"ticks\":\"\"},\"colorscale\":[[0.0,\"#0d0887\"],[0.1111111111111111,\"#46039f\"],[0.2222222222222222,\"#7201a8\"],[0.3333333333333333,\"#9c179e\"],[0.4444444444444444,\"#bd3786\"],[0.5555555555555556,\"#d8576b\"],[0.6666666666666666,\"#ed7953\"],[0.7777777777777778,\"#fb9f3a\"],[0.8888888888888888,\"#fdca26\"],[1.0,\"#f0f921\"]],\"type\":\"heatmapgl\"}],\"histogram\":[{\"marker\":{\"pattern\":{\"fillmode\":\"overlay\",\"size\":10,\"solidity\":0.2}},\"type\":\"histogram\"}],\"histogram2d\":[{\"colorbar\":{\"outlinewidth\":0,\"ticks\":\"\"},\"colorscale\":[[0.0,\"#0d0887\"],[0.1111111111111111,\"#46039f\"],[0.2222222222222222,\"#7201a8\"],[0.3333333333333333,\"#9c179e\"],[0.4444444444444444,\"#bd3786\"],[0.5555555555555556,\"#d8576b\"],[0.6666666666666666,\"#ed7953\"],[0.7777777777777778,\"#fb9f3a\"],[0.8888888888888888,\"#fdca26\"],[1.0,\"#f0f921\"]],\"type\":\"histogram2d\"}],\"histogram2dcontour\":[{\"colorbar\":{\"outlinewidth\":0,\"ticks\":\"\"},\"colorscale\":[[0.0,\"#0d0887\"],[0.1111111111111111,\"#46039f\"],[0.2222222222222222,\"#7201a8\"],[0.3333333333333333,\"#9c179e\"],[0.4444444444444444,\"#bd3786\"],[0.5555555555555556,\"#d8576b\"],[0.6666666666666666,\"#ed7953\"],[0.7777777777777778,\"#fb9f3a\"],[0.8888888888888888,\"#fdca26\"],[1.0,\"#f0f921\"]],\"type\":\"histogram2dcontour\"}],\"mesh3d\":[{\"colorbar\":{\"outlinewidth\":0,\"ticks\":\"\"},\"type\":\"mesh3d\"}],\"parcoords\":[{\"line\":{\"colorbar\":{\"outlinewidth\":0,\"ticks\":\"\"}},\"type\":\"parcoords\"}],\"pie\":[{\"automargin\":true,\"type\":\"pie\"}],\"scatter\":[{\"marker\":{\"colorbar\":{\"outlinewidth\":0,\"ticks\":\"\"}},\"type\":\"scatter\"}],\"scatter3d\":[{\"line\":{\"colorbar\":{\"outlinewidth\":0,\"ticks\":\"\"}},\"marker\":{\"colorbar\":{\"outlinewidth\":0,\"ticks\":\"\"}},\"type\":\"scatter3d\"}],\"scattercarpet\":[{\"marker\":{\"colorbar\":{\"outlinewidth\":0,\"ticks\":\"\"}},\"type\":\"scattercarpet\"}],\"scattergeo\":[{\"marker\":{\"colorbar\":{\"outlinewidth\":0,\"ticks\":\"\"}},\"type\":\"scattergeo\"}],\"scattergl\":[{\"marker\":{\"colorbar\":{\"outlinewidth\":0,\"ticks\":\"\"}},\"type\":\"scattergl\"}],\"scattermapbox\":[{\"marker\":{\"colorbar\":{\"outlinewidth\":0,\"ticks\":\"\"}},\"type\":\"scattermapbox\"}],\"scatterpolar\":[{\"marker\":{\"colorbar\":{\"outlinewidth\":0,\"ticks\":\"\"}},\"type\":\"scatterpolar\"}],\"scatterpolargl\":[{\"marker\":{\"colorbar\":{\"outlinewidth\":0,\"ticks\":\"\"}},\"type\":\"scatterpolargl\"}],\"scatterternary\":[{\"marker\":{\"colorbar\":{\"outlinewidth\":0,\"ticks\":\"\"}},\"type\":\"scatterternary\"}],\"surface\":[{\"colorbar\":{\"outlinewidth\":0,\"ticks\":\"\"},\"colorscale\":[[0.0,\"#0d0887\"],[0.1111111111111111,\"#46039f\"],[0.2222222222222222,\"#7201a8\"],[0.3333333333333333,\"#9c179e\"],[0.4444444444444444,\"#bd3786\"],[0.5555555555555556,\"#d8576b\"],[0.6666666666666666,\"#ed7953\"],[0.7777777777777778,\"#fb9f3a\"],[0.8888888888888888,\"#fdca26\"],[1.0,\"#f0f921\"]],\"type\":\"surface\"}],\"table\":[{\"cells\":{\"fill\":{\"color\":\"#EBF0F8\"},\"line\":{\"color\":\"white\"}},\"header\":{\"fill\":{\"color\":\"#C8D4E3\"},\"line\":{\"color\":\"white\"}},\"type\":\"table\"}]},\"layout\":{\"annotationdefaults\":{\"arrowcolor\":\"#2a3f5f\",\"arrowhead\":0,\"arrowwidth\":1},\"autotypenumbers\":\"strict\",\"coloraxis\":{\"colorbar\":{\"outlinewidth\":0,\"ticks\":\"\"}},\"colorscale\":{\"diverging\":[[0,\"#8e0152\"],[0.1,\"#c51b7d\"],[0.2,\"#de77ae\"],[0.3,\"#f1b6da\"],[0.4,\"#fde0ef\"],[0.5,\"#f7f7f7\"],[0.6,\"#e6f5d0\"],[0.7,\"#b8e186\"],[0.8,\"#7fbc41\"],[0.9,\"#4d9221\"],[1,\"#276419\"]],\"sequential\":[[0.0,\"#0d0887\"],[0.1111111111111111,\"#46039f\"],[0.2222222222222222,\"#7201a8\"],[0.3333333333333333,\"#9c179e\"],[0.4444444444444444,\"#bd3786\"],[0.5555555555555556,\"#d8576b\"],[0.6666666666666666,\"#ed7953\"],[0.7777777777777778,\"#fb9f3a\"],[0.8888888888888888,\"#fdca26\"],[1.0,\"#f0f921\"]],\"sequentialminus\":[[0.0,\"#0d0887\"],[0.1111111111111111,\"#46039f\"],[0.2222222222222222,\"#7201a8\"],[0.3333333333333333,\"#9c179e\"],[0.4444444444444444,\"#bd3786\"],[0.5555555555555556,\"#d8576b\"],[0.6666666666666666,\"#ed7953\"],[0.7777777777777778,\"#fb9f3a\"],[0.8888888888888888,\"#fdca26\"],[1.0,\"#f0f921\"]]},\"colorway\":[\"#636efa\",\"#EF553B\",\"#00cc96\",\"#ab63fa\",\"#FFA15A\",\"#19d3f3\",\"#FF6692\",\"#B6E880\",\"#FF97FF\",\"#FECB52\"],\"font\":{\"color\":\"#2a3f5f\"},\"geo\":{\"bgcolor\":\"white\",\"lakecolor\":\"white\",\"landcolor\":\"#E5ECF6\",\"showlakes\":true,\"showland\":true,\"subunitcolor\":\"white\"},\"hoverlabel\":{\"align\":\"left\"},\"hovermode\":\"closest\",\"mapbox\":{\"style\":\"light\"},\"paper_bgcolor\":\"white\",\"plot_bgcolor\":\"#E5ECF6\",\"polar\":{\"angularaxis\":{\"gridcolor\":\"white\",\"linecolor\":\"white\",\"ticks\":\"\"},\"bgcolor\":\"#E5ECF6\",\"radialaxis\":{\"gridcolor\":\"white\",\"linecolor\":\"white\",\"ticks\":\"\"}},\"scene\":{\"xaxis\":{\"backgroundcolor\":\"#E5ECF6\",\"gridcolor\":\"white\",\"gridwidth\":2,\"linecolor\":\"white\",\"showbackground\":true,\"ticks\":\"\",\"zerolinecolor\":\"white\"},\"yaxis\":{\"backgroundcolor\":\"#E5ECF6\",\"gridcolor\":\"white\",\"gridwidth\":2,\"linecolor\":\"white\",\"showbackground\":true,\"ticks\":\"\",\"zerolinecolor\":\"white\"},\"zaxis\":{\"backgroundcolor\":\"#E5ECF6\",\"gridcolor\":\"white\",\"gridwidth\":2,\"linecolor\":\"white\",\"showbackground\":true,\"ticks\":\"\",\"zerolinecolor\":\"white\"}},\"shapedefaults\":{\"line\":{\"color\":\"#2a3f5f\"}},\"ternary\":{\"aaxis\":{\"gridcolor\":\"white\",\"linecolor\":\"white\",\"ticks\":\"\"},\"baxis\":{\"gridcolor\":\"white\",\"linecolor\":\"white\",\"ticks\":\"\"},\"bgcolor\":\"#E5ECF6\",\"caxis\":{\"gridcolor\":\"white\",\"linecolor\":\"white\",\"ticks\":\"\"}},\"title\":{\"x\":0.05},\"xaxis\":{\"automargin\":true,\"gridcolor\":\"white\",\"linecolor\":\"white\",\"ticks\":\"\",\"title\":{\"standoff\":15},\"zerolinecolor\":\"white\",\"zerolinewidth\":2},\"yaxis\":{\"automargin\":true,\"gridcolor\":\"white\",\"linecolor\":\"white\",\"ticks\":\"\",\"title\":{\"standoff\":15},\"zerolinecolor\":\"white\",\"zerolinewidth\":2}}}},                        {\"responsive\": true}                    ).then(function(){\n",
       "                            \n",
       "var gd = document.getElementById('bacf2c56-a4e6-457b-a65c-7821b57f6be7');\n",
       "var x = new MutationObserver(function (mutations, observer) {{\n",
       "        var display = window.getComputedStyle(gd).display;\n",
       "        if (!display || display === 'none') {{\n",
       "            console.log([gd, 'removed!']);\n",
       "            Plotly.purge(gd);\n",
       "            observer.disconnect();\n",
       "        }}\n",
       "}});\n",
       "\n",
       "// Listen for the removal of the full notebook cells\n",
       "var notebookContainer = gd.closest('#notebook-container');\n",
       "if (notebookContainer) {{\n",
       "    x.observe(notebookContainer, {childList: true});\n",
       "}}\n",
       "\n",
       "// Listen for the clearing of the current output cell\n",
       "var outputEl = gd.closest('.output');\n",
       "if (outputEl) {{\n",
       "    x.observe(outputEl, {childList: true});\n",
       "}}\n",
       "\n",
       "                        })                };                });            </script>        </div>"
      ]
     },
     "metadata": {},
     "output_type": "display_data"
    }
   ],
   "source": [
    "quat1 = quaternions.iloc[:, 0:4].to_numpy()[1:]\n",
    "ang_vel_1 = ang_velocities.iloc[:, 0:3].to_numpy()\n",
    "ang_mom_1 = ang_momenta.iloc[:, 0:3].to_numpy()\n",
    "# print(ang_vel_1)\n",
    "# print(ang_mom_1)\n",
    "\n",
    "inertia_1 = ang_mom_1[1:, :] / ang_vel_1[1:, :]\n",
    "# for i in range(100):\n",
    "    # print(inertia_1[i])\n",
    "\n",
    "# quaternion vectors are normalised\n",
    "# print(np.linalg.norm(quat1[:, 1:], axis=1))\n",
    "\n",
    "\n",
    "\n",
    "# quaternion package\n",
    "# print(quat1.shape)\n",
    "quat1 = quaternion.as_quat_array(quat1)\n",
    "# print(quat1[0])\n",
    "# print(quaternion.as_rotation_matrix(quat1)[0])\n",
    "q = quat1[0]\n",
    "R = quaternion.as_rotation_matrix(quat1)[0]\n",
    "# print(q)\n",
    "vector1 = np.array([2.5, 3.6, 3.7])\n",
    "vector1_Q = np.quaternion(0, 2.5, 3.6, 3.7)\n",
    "vector2_R = R @ vector1\n",
    "vector2_Q = q * vector1_Q * q.conjugate()\n",
    "\n",
    "\n",
    "# print(q)\n",
    "# print(q.conjugate())\n",
    "# print(R.shape)\n",
    "\n",
    "print(vector2_Q)\n",
    "print(quaternion.as_float_array(vector2_Q))\n",
    "\n",
    "\n",
    "vector_plot([vector1, vector2_R, quaternion.as_float_array(vector2_Q)[1:]])\n",
    "\n",
    "\n"
   ]
  },
  {
   "cell_type": "code",
   "execution_count": 51,
   "metadata": {},
   "outputs": [
    {
     "name": "stdout",
     "output_type": "stream",
     "text": [
      "quaternion(0, 1, 0, 0)\n"
     ]
    },
    {
     "data": {
      "application/vnd.plotly.v1+json": {
       "config": {
        "plotlyServerURL": "https://plot.ly"
       },
       "data": [
        {
         "marker": {
          "color": [
           "blue"
          ],
          "line": {
           "color": "DarkSlateGrey",
           "width": 5
          },
          "size": [
           0,
           5
          ]
         },
         "name": "Vector1",
         "type": "scatter3d",
         "x": [
          0,
          -0.9996907259368092
         ],
         "y": [
          0,
          -0.006313466277199999
         ],
         "z": [
          0,
          0.0240322049689056
         ]
        },
        {
         "marker": {
          "color": [
           "blue"
          ],
          "line": {
           "color": "DarkSlateGrey",
           "width": 5
          },
          "size": [
           0,
           5
          ]
         },
         "name": "Vector2",
         "type": "scatter3d",
         "x": [
          0,
          -0.9990828569085894
         ],
         "y": [
          0,
          0.0016039947185560004
         ],
         "z": [
          0,
          0.042779683974428086
         ]
        },
        {
         "marker": {
          "color": [
           "blue"
          ],
          "line": {
           "color": "DarkSlateGrey",
           "width": 5
          },
          "size": [
           0,
           5
          ]
         },
         "name": "Vector3",
         "type": "scatter3d",
         "x": [
          0,
          -0.9970685620091301
         ],
         "y": [
          0,
          0.02358701371416
         ],
         "z": [
          0,
          0.0727962698856
         ]
        },
        {
         "marker": {
          "color": [
           "blue"
          ],
          "line": {
           "color": "DarkSlateGrey",
           "width": 5
          },
          "size": [
           0,
           5
          ]
         },
         "name": "Vector4",
         "type": "scatter3d",
         "x": [
          0,
          -0.9960460353786924
         ],
         "y": [
          0,
          0.033369010477644
         ],
         "z": [
          0,
          0.082343984974388
         ]
        },
        {
         "marker": {
          "color": [
           "blue"
          ],
          "line": {
           "color": "DarkSlateGrey",
           "width": 5
          },
          "size": [
           0,
           5
          ]
         },
         "name": "Vector5",
         "type": "scatter3d",
         "x": [
          0,
          -0.9975106225544401
         ],
         "y": [
          0,
          0.044602477278020004
         ],
         "z": [
          0,
          0.05461585340556
         ]
        },
        {
         "marker": {
          "color": [
           "blue"
          ],
          "line": {
           "color": "DarkSlateGrey",
           "width": 5
          },
          "size": [
           0,
           5
          ]
         },
         "name": "Vector6",
         "type": "scatter3d",
         "x": [
          0,
          -0.9967745399756244
         ],
         "y": [
          0,
          0.07958028805404001
         ],
         "z": [
          0,
          0.010325685234440002
         ]
        },
        {
         "marker": {
          "color": [
           "blue"
          ],
          "line": {
           "color": "DarkSlateGrey",
           "width": 5
          },
          "size": [
           0,
           5
          ]
         },
         "name": "Vector7",
         "type": "scatter3d",
         "x": [
          0,
          -0.99301676078601
         ],
         "y": [
          0,
          0.11074406504792002
         ],
         "z": [
          0,
          -0.04067182853028
         ]
        },
        {
         "marker": {
          "color": [
           "blue"
          ],
          "line": {
           "color": "DarkSlateGrey",
           "width": 5
          },
          "size": [
           0,
           5
          ]
         },
         "name": "Vector8",
         "type": "scatter3d",
         "x": [
          0,
          -0.99175207483064
         ],
         "y": [
          0,
          0.09744421815325999
         ],
         "z": [
          0,
          -0.08325661885552
         ]
        },
        {
         "marker": {
          "color": [
           "blue"
          ],
          "line": {
           "color": "DarkSlateGrey",
           "width": 5
          },
          "size": [
           0,
           5
          ]
         },
         "name": "Vector9",
         "type": "scatter3d",
         "x": [
          0,
          -0.9926159768263
         ],
         "y": [
          0,
          0.0712853409828
         ],
         "z": [
          0,
          -0.0981472691916
         ]
        },
        {
         "marker": {
          "color": [
           "blue"
          ],
          "line": {
           "color": "DarkSlateGrey",
           "width": 5
          },
          "size": [
           0,
           5
          ]
         },
         "name": "Vector10",
         "type": "scatter3d",
         "x": [
          0,
          -0.9920474442809799
         ],
         "y": [
          0,
          0.09161860601964
         ],
         "z": [
          0,
          -0.086299285485
         ]
        }
       ],
       "layout": {
        "margin": {
         "b": 4,
         "l": 4,
         "r": 4,
         "t": 4
        },
        "template": {
         "data": {
          "bar": [
           {
            "error_x": {
             "color": "#2a3f5f"
            },
            "error_y": {
             "color": "#2a3f5f"
            },
            "marker": {
             "line": {
              "color": "#E5ECF6",
              "width": 0.5
             },
             "pattern": {
              "fillmode": "overlay",
              "size": 10,
              "solidity": 0.2
             }
            },
            "type": "bar"
           }
          ],
          "barpolar": [
           {
            "marker": {
             "line": {
              "color": "#E5ECF6",
              "width": 0.5
             },
             "pattern": {
              "fillmode": "overlay",
              "size": 10,
              "solidity": 0.2
             }
            },
            "type": "barpolar"
           }
          ],
          "carpet": [
           {
            "aaxis": {
             "endlinecolor": "#2a3f5f",
             "gridcolor": "white",
             "linecolor": "white",
             "minorgridcolor": "white",
             "startlinecolor": "#2a3f5f"
            },
            "baxis": {
             "endlinecolor": "#2a3f5f",
             "gridcolor": "white",
             "linecolor": "white",
             "minorgridcolor": "white",
             "startlinecolor": "#2a3f5f"
            },
            "type": "carpet"
           }
          ],
          "choropleth": [
           {
            "colorbar": {
             "outlinewidth": 0,
             "ticks": ""
            },
            "type": "choropleth"
           }
          ],
          "contour": [
           {
            "colorbar": {
             "outlinewidth": 0,
             "ticks": ""
            },
            "colorscale": [
             [
              0,
              "#0d0887"
             ],
             [
              0.1111111111111111,
              "#46039f"
             ],
             [
              0.2222222222222222,
              "#7201a8"
             ],
             [
              0.3333333333333333,
              "#9c179e"
             ],
             [
              0.4444444444444444,
              "#bd3786"
             ],
             [
              0.5555555555555556,
              "#d8576b"
             ],
             [
              0.6666666666666666,
              "#ed7953"
             ],
             [
              0.7777777777777778,
              "#fb9f3a"
             ],
             [
              0.8888888888888888,
              "#fdca26"
             ],
             [
              1,
              "#f0f921"
             ]
            ],
            "type": "contour"
           }
          ],
          "contourcarpet": [
           {
            "colorbar": {
             "outlinewidth": 0,
             "ticks": ""
            },
            "type": "contourcarpet"
           }
          ],
          "heatmap": [
           {
            "colorbar": {
             "outlinewidth": 0,
             "ticks": ""
            },
            "colorscale": [
             [
              0,
              "#0d0887"
             ],
             [
              0.1111111111111111,
              "#46039f"
             ],
             [
              0.2222222222222222,
              "#7201a8"
             ],
             [
              0.3333333333333333,
              "#9c179e"
             ],
             [
              0.4444444444444444,
              "#bd3786"
             ],
             [
              0.5555555555555556,
              "#d8576b"
             ],
             [
              0.6666666666666666,
              "#ed7953"
             ],
             [
              0.7777777777777778,
              "#fb9f3a"
             ],
             [
              0.8888888888888888,
              "#fdca26"
             ],
             [
              1,
              "#f0f921"
             ]
            ],
            "type": "heatmap"
           }
          ],
          "heatmapgl": [
           {
            "colorbar": {
             "outlinewidth": 0,
             "ticks": ""
            },
            "colorscale": [
             [
              0,
              "#0d0887"
             ],
             [
              0.1111111111111111,
              "#46039f"
             ],
             [
              0.2222222222222222,
              "#7201a8"
             ],
             [
              0.3333333333333333,
              "#9c179e"
             ],
             [
              0.4444444444444444,
              "#bd3786"
             ],
             [
              0.5555555555555556,
              "#d8576b"
             ],
             [
              0.6666666666666666,
              "#ed7953"
             ],
             [
              0.7777777777777778,
              "#fb9f3a"
             ],
             [
              0.8888888888888888,
              "#fdca26"
             ],
             [
              1,
              "#f0f921"
             ]
            ],
            "type": "heatmapgl"
           }
          ],
          "histogram": [
           {
            "marker": {
             "pattern": {
              "fillmode": "overlay",
              "size": 10,
              "solidity": 0.2
             }
            },
            "type": "histogram"
           }
          ],
          "histogram2d": [
           {
            "colorbar": {
             "outlinewidth": 0,
             "ticks": ""
            },
            "colorscale": [
             [
              0,
              "#0d0887"
             ],
             [
              0.1111111111111111,
              "#46039f"
             ],
             [
              0.2222222222222222,
              "#7201a8"
             ],
             [
              0.3333333333333333,
              "#9c179e"
             ],
             [
              0.4444444444444444,
              "#bd3786"
             ],
             [
              0.5555555555555556,
              "#d8576b"
             ],
             [
              0.6666666666666666,
              "#ed7953"
             ],
             [
              0.7777777777777778,
              "#fb9f3a"
             ],
             [
              0.8888888888888888,
              "#fdca26"
             ],
             [
              1,
              "#f0f921"
             ]
            ],
            "type": "histogram2d"
           }
          ],
          "histogram2dcontour": [
           {
            "colorbar": {
             "outlinewidth": 0,
             "ticks": ""
            },
            "colorscale": [
             [
              0,
              "#0d0887"
             ],
             [
              0.1111111111111111,
              "#46039f"
             ],
             [
              0.2222222222222222,
              "#7201a8"
             ],
             [
              0.3333333333333333,
              "#9c179e"
             ],
             [
              0.4444444444444444,
              "#bd3786"
             ],
             [
              0.5555555555555556,
              "#d8576b"
             ],
             [
              0.6666666666666666,
              "#ed7953"
             ],
             [
              0.7777777777777778,
              "#fb9f3a"
             ],
             [
              0.8888888888888888,
              "#fdca26"
             ],
             [
              1,
              "#f0f921"
             ]
            ],
            "type": "histogram2dcontour"
           }
          ],
          "mesh3d": [
           {
            "colorbar": {
             "outlinewidth": 0,
             "ticks": ""
            },
            "type": "mesh3d"
           }
          ],
          "parcoords": [
           {
            "line": {
             "colorbar": {
              "outlinewidth": 0,
              "ticks": ""
             }
            },
            "type": "parcoords"
           }
          ],
          "pie": [
           {
            "automargin": true,
            "type": "pie"
           }
          ],
          "scatter": [
           {
            "marker": {
             "colorbar": {
              "outlinewidth": 0,
              "ticks": ""
             }
            },
            "type": "scatter"
           }
          ],
          "scatter3d": [
           {
            "line": {
             "colorbar": {
              "outlinewidth": 0,
              "ticks": ""
             }
            },
            "marker": {
             "colorbar": {
              "outlinewidth": 0,
              "ticks": ""
             }
            },
            "type": "scatter3d"
           }
          ],
          "scattercarpet": [
           {
            "marker": {
             "colorbar": {
              "outlinewidth": 0,
              "ticks": ""
             }
            },
            "type": "scattercarpet"
           }
          ],
          "scattergeo": [
           {
            "marker": {
             "colorbar": {
              "outlinewidth": 0,
              "ticks": ""
             }
            },
            "type": "scattergeo"
           }
          ],
          "scattergl": [
           {
            "marker": {
             "colorbar": {
              "outlinewidth": 0,
              "ticks": ""
             }
            },
            "type": "scattergl"
           }
          ],
          "scattermapbox": [
           {
            "marker": {
             "colorbar": {
              "outlinewidth": 0,
              "ticks": ""
             }
            },
            "type": "scattermapbox"
           }
          ],
          "scatterpolar": [
           {
            "marker": {
             "colorbar": {
              "outlinewidth": 0,
              "ticks": ""
             }
            },
            "type": "scatterpolar"
           }
          ],
          "scatterpolargl": [
           {
            "marker": {
             "colorbar": {
              "outlinewidth": 0,
              "ticks": ""
             }
            },
            "type": "scatterpolargl"
           }
          ],
          "scatterternary": [
           {
            "marker": {
             "colorbar": {
              "outlinewidth": 0,
              "ticks": ""
             }
            },
            "type": "scatterternary"
           }
          ],
          "surface": [
           {
            "colorbar": {
             "outlinewidth": 0,
             "ticks": ""
            },
            "colorscale": [
             [
              0,
              "#0d0887"
             ],
             [
              0.1111111111111111,
              "#46039f"
             ],
             [
              0.2222222222222222,
              "#7201a8"
             ],
             [
              0.3333333333333333,
              "#9c179e"
             ],
             [
              0.4444444444444444,
              "#bd3786"
             ],
             [
              0.5555555555555556,
              "#d8576b"
             ],
             [
              0.6666666666666666,
              "#ed7953"
             ],
             [
              0.7777777777777778,
              "#fb9f3a"
             ],
             [
              0.8888888888888888,
              "#fdca26"
             ],
             [
              1,
              "#f0f921"
             ]
            ],
            "type": "surface"
           }
          ],
          "table": [
           {
            "cells": {
             "fill": {
              "color": "#EBF0F8"
             },
             "line": {
              "color": "white"
             }
            },
            "header": {
             "fill": {
              "color": "#C8D4E3"
             },
             "line": {
              "color": "white"
             }
            },
            "type": "table"
           }
          ]
         },
         "layout": {
          "annotationdefaults": {
           "arrowcolor": "#2a3f5f",
           "arrowhead": 0,
           "arrowwidth": 1
          },
          "autotypenumbers": "strict",
          "coloraxis": {
           "colorbar": {
            "outlinewidth": 0,
            "ticks": ""
           }
          },
          "colorscale": {
           "diverging": [
            [
             0,
             "#8e0152"
            ],
            [
             0.1,
             "#c51b7d"
            ],
            [
             0.2,
             "#de77ae"
            ],
            [
             0.3,
             "#f1b6da"
            ],
            [
             0.4,
             "#fde0ef"
            ],
            [
             0.5,
             "#f7f7f7"
            ],
            [
             0.6,
             "#e6f5d0"
            ],
            [
             0.7,
             "#b8e186"
            ],
            [
             0.8,
             "#7fbc41"
            ],
            [
             0.9,
             "#4d9221"
            ],
            [
             1,
             "#276419"
            ]
           ],
           "sequential": [
            [
             0,
             "#0d0887"
            ],
            [
             0.1111111111111111,
             "#46039f"
            ],
            [
             0.2222222222222222,
             "#7201a8"
            ],
            [
             0.3333333333333333,
             "#9c179e"
            ],
            [
             0.4444444444444444,
             "#bd3786"
            ],
            [
             0.5555555555555556,
             "#d8576b"
            ],
            [
             0.6666666666666666,
             "#ed7953"
            ],
            [
             0.7777777777777778,
             "#fb9f3a"
            ],
            [
             0.8888888888888888,
             "#fdca26"
            ],
            [
             1,
             "#f0f921"
            ]
           ],
           "sequentialminus": [
            [
             0,
             "#0d0887"
            ],
            [
             0.1111111111111111,
             "#46039f"
            ],
            [
             0.2222222222222222,
             "#7201a8"
            ],
            [
             0.3333333333333333,
             "#9c179e"
            ],
            [
             0.4444444444444444,
             "#bd3786"
            ],
            [
             0.5555555555555556,
             "#d8576b"
            ],
            [
             0.6666666666666666,
             "#ed7953"
            ],
            [
             0.7777777777777778,
             "#fb9f3a"
            ],
            [
             0.8888888888888888,
             "#fdca26"
            ],
            [
             1,
             "#f0f921"
            ]
           ]
          },
          "colorway": [
           "#636efa",
           "#EF553B",
           "#00cc96",
           "#ab63fa",
           "#FFA15A",
           "#19d3f3",
           "#FF6692",
           "#B6E880",
           "#FF97FF",
           "#FECB52"
          ],
          "font": {
           "color": "#2a3f5f"
          },
          "geo": {
           "bgcolor": "white",
           "lakecolor": "white",
           "landcolor": "#E5ECF6",
           "showlakes": true,
           "showland": true,
           "subunitcolor": "white"
          },
          "hoverlabel": {
           "align": "left"
          },
          "hovermode": "closest",
          "mapbox": {
           "style": "light"
          },
          "paper_bgcolor": "white",
          "plot_bgcolor": "#E5ECF6",
          "polar": {
           "angularaxis": {
            "gridcolor": "white",
            "linecolor": "white",
            "ticks": ""
           },
           "bgcolor": "#E5ECF6",
           "radialaxis": {
            "gridcolor": "white",
            "linecolor": "white",
            "ticks": ""
           }
          },
          "scene": {
           "xaxis": {
            "backgroundcolor": "#E5ECF6",
            "gridcolor": "white",
            "gridwidth": 2,
            "linecolor": "white",
            "showbackground": true,
            "ticks": "",
            "zerolinecolor": "white"
           },
           "yaxis": {
            "backgroundcolor": "#E5ECF6",
            "gridcolor": "white",
            "gridwidth": 2,
            "linecolor": "white",
            "showbackground": true,
            "ticks": "",
            "zerolinecolor": "white"
           },
           "zaxis": {
            "backgroundcolor": "#E5ECF6",
            "gridcolor": "white",
            "gridwidth": 2,
            "linecolor": "white",
            "showbackground": true,
            "ticks": "",
            "zerolinecolor": "white"
           }
          },
          "shapedefaults": {
           "line": {
            "color": "#2a3f5f"
           }
          },
          "ternary": {
           "aaxis": {
            "gridcolor": "white",
            "linecolor": "white",
            "ticks": ""
           },
           "baxis": {
            "gridcolor": "white",
            "linecolor": "white",
            "ticks": ""
           },
           "bgcolor": "#E5ECF6",
           "caxis": {
            "gridcolor": "white",
            "linecolor": "white",
            "ticks": ""
           }
          },
          "title": {
           "x": 0.05
          },
          "xaxis": {
           "automargin": true,
           "gridcolor": "white",
           "linecolor": "white",
           "ticks": "",
           "title": {
            "standoff": 15
           },
           "zerolinecolor": "white",
           "zerolinewidth": 2
          },
          "yaxis": {
           "automargin": true,
           "gridcolor": "white",
           "linecolor": "white",
           "ticks": "",
           "title": {
            "standoff": 15
           },
           "zerolinecolor": "white",
           "zerolinewidth": 2
          }
         }
        }
       }
      },
      "text/html": [
       "<div>                            <div id=\"a90a4708-c2be-4fdf-a47a-cd00c69ceca2\" class=\"plotly-graph-div\" style=\"height:525px; width:100%;\"></div>            <script type=\"text/javascript\">                require([\"plotly\"], function(Plotly) {                    window.PLOTLYENV=window.PLOTLYENV || {};                                    if (document.getElementById(\"a90a4708-c2be-4fdf-a47a-cd00c69ceca2\")) {                    Plotly.newPlot(                        \"a90a4708-c2be-4fdf-a47a-cd00c69ceca2\",                        [{\"marker\":{\"color\":[\"blue\"],\"line\":{\"color\":\"DarkSlateGrey\",\"width\":5},\"size\":[0,5]},\"name\":\"Vector1\",\"x\":[0,-0.9996907259368092],\"y\":[0,-0.006313466277199999],\"z\":[0,0.0240322049689056],\"type\":\"scatter3d\"},{\"marker\":{\"color\":[\"blue\"],\"line\":{\"color\":\"DarkSlateGrey\",\"width\":5},\"size\":[0,5]},\"name\":\"Vector2\",\"x\":[0,-0.9990828569085894],\"y\":[0,0.0016039947185560004],\"z\":[0,0.042779683974428086],\"type\":\"scatter3d\"},{\"marker\":{\"color\":[\"blue\"],\"line\":{\"color\":\"DarkSlateGrey\",\"width\":5},\"size\":[0,5]},\"name\":\"Vector3\",\"x\":[0,-0.9970685620091301],\"y\":[0,0.02358701371416],\"z\":[0,0.0727962698856],\"type\":\"scatter3d\"},{\"marker\":{\"color\":[\"blue\"],\"line\":{\"color\":\"DarkSlateGrey\",\"width\":5},\"size\":[0,5]},\"name\":\"Vector4\",\"x\":[0,-0.9960460353786924],\"y\":[0,0.033369010477644],\"z\":[0,0.082343984974388],\"type\":\"scatter3d\"},{\"marker\":{\"color\":[\"blue\"],\"line\":{\"color\":\"DarkSlateGrey\",\"width\":5},\"size\":[0,5]},\"name\":\"Vector5\",\"x\":[0,-0.9975106225544401],\"y\":[0,0.044602477278020004],\"z\":[0,0.05461585340556],\"type\":\"scatter3d\"},{\"marker\":{\"color\":[\"blue\"],\"line\":{\"color\":\"DarkSlateGrey\",\"width\":5},\"size\":[0,5]},\"name\":\"Vector6\",\"x\":[0,-0.9967745399756244],\"y\":[0,0.07958028805404001],\"z\":[0,0.010325685234440002],\"type\":\"scatter3d\"},{\"marker\":{\"color\":[\"blue\"],\"line\":{\"color\":\"DarkSlateGrey\",\"width\":5},\"size\":[0,5]},\"name\":\"Vector7\",\"x\":[0,-0.99301676078601],\"y\":[0,0.11074406504792002],\"z\":[0,-0.04067182853028],\"type\":\"scatter3d\"},{\"marker\":{\"color\":[\"blue\"],\"line\":{\"color\":\"DarkSlateGrey\",\"width\":5},\"size\":[0,5]},\"name\":\"Vector8\",\"x\":[0,-0.99175207483064],\"y\":[0,0.09744421815325999],\"z\":[0,-0.08325661885552],\"type\":\"scatter3d\"},{\"marker\":{\"color\":[\"blue\"],\"line\":{\"color\":\"DarkSlateGrey\",\"width\":5},\"size\":[0,5]},\"name\":\"Vector9\",\"x\":[0,-0.9926159768263],\"y\":[0,0.0712853409828],\"z\":[0,-0.0981472691916],\"type\":\"scatter3d\"},{\"marker\":{\"color\":[\"blue\"],\"line\":{\"color\":\"DarkSlateGrey\",\"width\":5},\"size\":[0,5]},\"name\":\"Vector10\",\"x\":[0,-0.9920474442809799],\"y\":[0,0.09161860601964],\"z\":[0,-0.086299285485],\"type\":\"scatter3d\"}],                        {\"margin\":{\"b\":4,\"l\":4,\"r\":4,\"t\":4},\"template\":{\"data\":{\"bar\":[{\"error_x\":{\"color\":\"#2a3f5f\"},\"error_y\":{\"color\":\"#2a3f5f\"},\"marker\":{\"line\":{\"color\":\"#E5ECF6\",\"width\":0.5},\"pattern\":{\"fillmode\":\"overlay\",\"size\":10,\"solidity\":0.2}},\"type\":\"bar\"}],\"barpolar\":[{\"marker\":{\"line\":{\"color\":\"#E5ECF6\",\"width\":0.5},\"pattern\":{\"fillmode\":\"overlay\",\"size\":10,\"solidity\":0.2}},\"type\":\"barpolar\"}],\"carpet\":[{\"aaxis\":{\"endlinecolor\":\"#2a3f5f\",\"gridcolor\":\"white\",\"linecolor\":\"white\",\"minorgridcolor\":\"white\",\"startlinecolor\":\"#2a3f5f\"},\"baxis\":{\"endlinecolor\":\"#2a3f5f\",\"gridcolor\":\"white\",\"linecolor\":\"white\",\"minorgridcolor\":\"white\",\"startlinecolor\":\"#2a3f5f\"},\"type\":\"carpet\"}],\"choropleth\":[{\"colorbar\":{\"outlinewidth\":0,\"ticks\":\"\"},\"type\":\"choropleth\"}],\"contour\":[{\"colorbar\":{\"outlinewidth\":0,\"ticks\":\"\"},\"colorscale\":[[0.0,\"#0d0887\"],[0.1111111111111111,\"#46039f\"],[0.2222222222222222,\"#7201a8\"],[0.3333333333333333,\"#9c179e\"],[0.4444444444444444,\"#bd3786\"],[0.5555555555555556,\"#d8576b\"],[0.6666666666666666,\"#ed7953\"],[0.7777777777777778,\"#fb9f3a\"],[0.8888888888888888,\"#fdca26\"],[1.0,\"#f0f921\"]],\"type\":\"contour\"}],\"contourcarpet\":[{\"colorbar\":{\"outlinewidth\":0,\"ticks\":\"\"},\"type\":\"contourcarpet\"}],\"heatmap\":[{\"colorbar\":{\"outlinewidth\":0,\"ticks\":\"\"},\"colorscale\":[[0.0,\"#0d0887\"],[0.1111111111111111,\"#46039f\"],[0.2222222222222222,\"#7201a8\"],[0.3333333333333333,\"#9c179e\"],[0.4444444444444444,\"#bd3786\"],[0.5555555555555556,\"#d8576b\"],[0.6666666666666666,\"#ed7953\"],[0.7777777777777778,\"#fb9f3a\"],[0.8888888888888888,\"#fdca26\"],[1.0,\"#f0f921\"]],\"type\":\"heatmap\"}],\"heatmapgl\":[{\"colorbar\":{\"outlinewidth\":0,\"ticks\":\"\"},\"colorscale\":[[0.0,\"#0d0887\"],[0.1111111111111111,\"#46039f\"],[0.2222222222222222,\"#7201a8\"],[0.3333333333333333,\"#9c179e\"],[0.4444444444444444,\"#bd3786\"],[0.5555555555555556,\"#d8576b\"],[0.6666666666666666,\"#ed7953\"],[0.7777777777777778,\"#fb9f3a\"],[0.8888888888888888,\"#fdca26\"],[1.0,\"#f0f921\"]],\"type\":\"heatmapgl\"}],\"histogram\":[{\"marker\":{\"pattern\":{\"fillmode\":\"overlay\",\"size\":10,\"solidity\":0.2}},\"type\":\"histogram\"}],\"histogram2d\":[{\"colorbar\":{\"outlinewidth\":0,\"ticks\":\"\"},\"colorscale\":[[0.0,\"#0d0887\"],[0.1111111111111111,\"#46039f\"],[0.2222222222222222,\"#7201a8\"],[0.3333333333333333,\"#9c179e\"],[0.4444444444444444,\"#bd3786\"],[0.5555555555555556,\"#d8576b\"],[0.6666666666666666,\"#ed7953\"],[0.7777777777777778,\"#fb9f3a\"],[0.8888888888888888,\"#fdca26\"],[1.0,\"#f0f921\"]],\"type\":\"histogram2d\"}],\"histogram2dcontour\":[{\"colorbar\":{\"outlinewidth\":0,\"ticks\":\"\"},\"colorscale\":[[0.0,\"#0d0887\"],[0.1111111111111111,\"#46039f\"],[0.2222222222222222,\"#7201a8\"],[0.3333333333333333,\"#9c179e\"],[0.4444444444444444,\"#bd3786\"],[0.5555555555555556,\"#d8576b\"],[0.6666666666666666,\"#ed7953\"],[0.7777777777777778,\"#fb9f3a\"],[0.8888888888888888,\"#fdca26\"],[1.0,\"#f0f921\"]],\"type\":\"histogram2dcontour\"}],\"mesh3d\":[{\"colorbar\":{\"outlinewidth\":0,\"ticks\":\"\"},\"type\":\"mesh3d\"}],\"parcoords\":[{\"line\":{\"colorbar\":{\"outlinewidth\":0,\"ticks\":\"\"}},\"type\":\"parcoords\"}],\"pie\":[{\"automargin\":true,\"type\":\"pie\"}],\"scatter\":[{\"marker\":{\"colorbar\":{\"outlinewidth\":0,\"ticks\":\"\"}},\"type\":\"scatter\"}],\"scatter3d\":[{\"line\":{\"colorbar\":{\"outlinewidth\":0,\"ticks\":\"\"}},\"marker\":{\"colorbar\":{\"outlinewidth\":0,\"ticks\":\"\"}},\"type\":\"scatter3d\"}],\"scattercarpet\":[{\"marker\":{\"colorbar\":{\"outlinewidth\":0,\"ticks\":\"\"}},\"type\":\"scattercarpet\"}],\"scattergeo\":[{\"marker\":{\"colorbar\":{\"outlinewidth\":0,\"ticks\":\"\"}},\"type\":\"scattergeo\"}],\"scattergl\":[{\"marker\":{\"colorbar\":{\"outlinewidth\":0,\"ticks\":\"\"}},\"type\":\"scattergl\"}],\"scattermapbox\":[{\"marker\":{\"colorbar\":{\"outlinewidth\":0,\"ticks\":\"\"}},\"type\":\"scattermapbox\"}],\"scatterpolar\":[{\"marker\":{\"colorbar\":{\"outlinewidth\":0,\"ticks\":\"\"}},\"type\":\"scatterpolar\"}],\"scatterpolargl\":[{\"marker\":{\"colorbar\":{\"outlinewidth\":0,\"ticks\":\"\"}},\"type\":\"scatterpolargl\"}],\"scatterternary\":[{\"marker\":{\"colorbar\":{\"outlinewidth\":0,\"ticks\":\"\"}},\"type\":\"scatterternary\"}],\"surface\":[{\"colorbar\":{\"outlinewidth\":0,\"ticks\":\"\"},\"colorscale\":[[0.0,\"#0d0887\"],[0.1111111111111111,\"#46039f\"],[0.2222222222222222,\"#7201a8\"],[0.3333333333333333,\"#9c179e\"],[0.4444444444444444,\"#bd3786\"],[0.5555555555555556,\"#d8576b\"],[0.6666666666666666,\"#ed7953\"],[0.7777777777777778,\"#fb9f3a\"],[0.8888888888888888,\"#fdca26\"],[1.0,\"#f0f921\"]],\"type\":\"surface\"}],\"table\":[{\"cells\":{\"fill\":{\"color\":\"#EBF0F8\"},\"line\":{\"color\":\"white\"}},\"header\":{\"fill\":{\"color\":\"#C8D4E3\"},\"line\":{\"color\":\"white\"}},\"type\":\"table\"}]},\"layout\":{\"annotationdefaults\":{\"arrowcolor\":\"#2a3f5f\",\"arrowhead\":0,\"arrowwidth\":1},\"autotypenumbers\":\"strict\",\"coloraxis\":{\"colorbar\":{\"outlinewidth\":0,\"ticks\":\"\"}},\"colorscale\":{\"diverging\":[[0,\"#8e0152\"],[0.1,\"#c51b7d\"],[0.2,\"#de77ae\"],[0.3,\"#f1b6da\"],[0.4,\"#fde0ef\"],[0.5,\"#f7f7f7\"],[0.6,\"#e6f5d0\"],[0.7,\"#b8e186\"],[0.8,\"#7fbc41\"],[0.9,\"#4d9221\"],[1,\"#276419\"]],\"sequential\":[[0.0,\"#0d0887\"],[0.1111111111111111,\"#46039f\"],[0.2222222222222222,\"#7201a8\"],[0.3333333333333333,\"#9c179e\"],[0.4444444444444444,\"#bd3786\"],[0.5555555555555556,\"#d8576b\"],[0.6666666666666666,\"#ed7953\"],[0.7777777777777778,\"#fb9f3a\"],[0.8888888888888888,\"#fdca26\"],[1.0,\"#f0f921\"]],\"sequentialminus\":[[0.0,\"#0d0887\"],[0.1111111111111111,\"#46039f\"],[0.2222222222222222,\"#7201a8\"],[0.3333333333333333,\"#9c179e\"],[0.4444444444444444,\"#bd3786\"],[0.5555555555555556,\"#d8576b\"],[0.6666666666666666,\"#ed7953\"],[0.7777777777777778,\"#fb9f3a\"],[0.8888888888888888,\"#fdca26\"],[1.0,\"#f0f921\"]]},\"colorway\":[\"#636efa\",\"#EF553B\",\"#00cc96\",\"#ab63fa\",\"#FFA15A\",\"#19d3f3\",\"#FF6692\",\"#B6E880\",\"#FF97FF\",\"#FECB52\"],\"font\":{\"color\":\"#2a3f5f\"},\"geo\":{\"bgcolor\":\"white\",\"lakecolor\":\"white\",\"landcolor\":\"#E5ECF6\",\"showlakes\":true,\"showland\":true,\"subunitcolor\":\"white\"},\"hoverlabel\":{\"align\":\"left\"},\"hovermode\":\"closest\",\"mapbox\":{\"style\":\"light\"},\"paper_bgcolor\":\"white\",\"plot_bgcolor\":\"#E5ECF6\",\"polar\":{\"angularaxis\":{\"gridcolor\":\"white\",\"linecolor\":\"white\",\"ticks\":\"\"},\"bgcolor\":\"#E5ECF6\",\"radialaxis\":{\"gridcolor\":\"white\",\"linecolor\":\"white\",\"ticks\":\"\"}},\"scene\":{\"xaxis\":{\"backgroundcolor\":\"#E5ECF6\",\"gridcolor\":\"white\",\"gridwidth\":2,\"linecolor\":\"white\",\"showbackground\":true,\"ticks\":\"\",\"zerolinecolor\":\"white\"},\"yaxis\":{\"backgroundcolor\":\"#E5ECF6\",\"gridcolor\":\"white\",\"gridwidth\":2,\"linecolor\":\"white\",\"showbackground\":true,\"ticks\":\"\",\"zerolinecolor\":\"white\"},\"zaxis\":{\"backgroundcolor\":\"#E5ECF6\",\"gridcolor\":\"white\",\"gridwidth\":2,\"linecolor\":\"white\",\"showbackground\":true,\"ticks\":\"\",\"zerolinecolor\":\"white\"}},\"shapedefaults\":{\"line\":{\"color\":\"#2a3f5f\"}},\"ternary\":{\"aaxis\":{\"gridcolor\":\"white\",\"linecolor\":\"white\",\"ticks\":\"\"},\"baxis\":{\"gridcolor\":\"white\",\"linecolor\":\"white\",\"ticks\":\"\"},\"bgcolor\":\"#E5ECF6\",\"caxis\":{\"gridcolor\":\"white\",\"linecolor\":\"white\",\"ticks\":\"\"}},\"title\":{\"x\":0.05},\"xaxis\":{\"automargin\":true,\"gridcolor\":\"white\",\"linecolor\":\"white\",\"ticks\":\"\",\"title\":{\"standoff\":15},\"zerolinecolor\":\"white\",\"zerolinewidth\":2},\"yaxis\":{\"automargin\":true,\"gridcolor\":\"white\",\"linecolor\":\"white\",\"ticks\":\"\",\"title\":{\"standoff\":15},\"zerolinecolor\":\"white\",\"zerolinewidth\":2}}}},                        {\"responsive\": true}                    ).then(function(){\n",
       "                            \n",
       "var gd = document.getElementById('a90a4708-c2be-4fdf-a47a-cd00c69ceca2');\n",
       "var x = new MutationObserver(function (mutations, observer) {{\n",
       "        var display = window.getComputedStyle(gd).display;\n",
       "        if (!display || display === 'none') {{\n",
       "            console.log([gd, 'removed!']);\n",
       "            Plotly.purge(gd);\n",
       "            observer.disconnect();\n",
       "        }}\n",
       "}});\n",
       "\n",
       "// Listen for the removal of the full notebook cells\n",
       "var notebookContainer = gd.closest('#notebook-container');\n",
       "if (notebookContainer) {{\n",
       "    x.observe(notebookContainer, {childList: true});\n",
       "}}\n",
       "\n",
       "// Listen for the clearing of the current output cell\n",
       "var outputEl = gd.closest('.output');\n",
       "if (outputEl) {{\n",
       "    x.observe(outputEl, {childList: true});\n",
       "}}\n",
       "\n",
       "                        })                };                });            </script>        </div>"
      ]
     },
     "metadata": {},
     "output_type": "display_data"
    },
    {
     "name": "stdout",
     "output_type": "stream",
     "text": [
      "[array([-0.99969073, -0.00631347,  0.0240322 ]), array([-0.99908286,  0.00160399,  0.04277968]), array([-0.99706856,  0.02358701,  0.07279627]), array([-0.99604604,  0.03336901,  0.08234398]), array([-0.99751062,  0.04460248,  0.05461585]), array([-0.99677454,  0.07958029,  0.01032569]), array([-0.99301676,  0.11074407, -0.04067183]), array([-0.99175207,  0.09744422, -0.08325662]), array([-0.99261598,  0.07128534, -0.09814727]), array([-0.99204744,  0.09161861, -0.08629929])]\n"
     ]
    }
   ],
   "source": [
    "quat1 = quaternions.iloc[:, 0:4].to_numpy()[1:]\n",
    "quats = quaternion.as_quat_array(quat1[:10])\n",
    "# consider quaternions to be a rotation from x axis\n",
    "vector = np.quaternion(0, 1, 0, 0)\n",
    "print(vector)\n",
    "vector = quats * vector * quats.conjugate()\n",
    "\n",
    "# print(quats)\n",
    "# print(quats.conjugate())\n",
    "vectors = quaternion.as_float_array(vector)[:, 1:]\n",
    "# plots subsequent orientations\n",
    "vector_plot(list(vectors))\n",
    "print(list(vectors))"
   ]
  },
  {
   "cell_type": "code",
   "execution_count": null,
   "metadata": {},
   "outputs": [],
   "source": [
    "def get_batch_mod(traj,batch_size,batch_length,dt):\n",
    "\n",
    "  twice_dim = traj.size()[2]\n",
    "  dim = twice_dim//2\n",
    "  sampled_is = torch.randint(traj.shape[0],size = (batch_size,)).to(device)\n",
    "  sampled_js = torch.randint(traj.shape[1]-batch_length,size = (batch_size,)).to(device)\n",
    "  initial_time = sampled_js*dt\n",
    "\n",
    "  batch_t = torch.linspace(0.0,dt*(batch_length-1),batch_length).to(device)\n",
    "  qs = traj[sampled_is,sampled_js,:dim]\n",
    "  ps = traj[sampled_is,sampled_js,dim:]\n",
    "  pos_init = (ps, qs)\n",
    "  # print('p', ps)\n",
    "  # print('q', qs)\n",
    "\n",
    "  sampled_trajs = []\n",
    "\n",
    "  for i in range(batch_size):\n",
    "      qs = traj[sampled_is[i],sampled_js[i]:sampled_js[i]+batch_length,:dim].view(-1,dim)\n",
    "      ps = traj[sampled_is[i],sampled_js[i]:sampled_js[i]+batch_length,dim:].view(-1,dim)\n",
    "      x = torch.cat((ps, qs), dim=1)\n",
    "      sampled_trajs.append(x)\n",
    "\n",
    "      \n",
    "  batch_trajs = torch.stack(sampled_trajs,dim=1)\n",
    "  return batch_t,pos_init,batch_trajs\n",
    "     \n",
    "\n",
    "def get_data():\n",
    "    train_split = 0.9\n",
    "    test_split = 1 - train_split\n",
    "    trajs = np.load('data/trajectories/diatomic_spring_narrow.npy')\n",
    "    split_index = int(trajs.shape[0] * train_split)\n",
    "\n",
    "    np.random.shuffle(trajs)\n",
    "    training_trajs = torch.Tensor(trajs[:split_index, :, :]).to(device)\n",
    "    testing_trajs = torch.Tensor(trajs[split_index:, :, :]).to(device)\n",
    "    \n",
    "    return training_trajs, testing_trajs \n",
    "\n",
    "def train_model(niters, training_trajs, dt, sample_length, batch_size, learning_rate, nn_depth, nn_width):    \n",
    "    loss_meter = RunningAverageMeter()\n",
    "    dim = training_trajs.size()[2] // 2\n",
    "    func = ODEFunc(dim, nn_width, nn_depth).to(device)\n",
    "    optimizer = torch.optim.Adam(func.parameters(), lr=learning_rate)\n",
    "\n",
    "    for itr in range(1, niters + 1):\n",
    "        start = time.perf_counter()\n",
    "        optimizer.zero_grad()\n",
    "        \n",
    "        batch_t, batch_y0, batch_y = get_batch_mod(training_trajs, batch_size, sample_length,dt)\n",
    "        \n",
    "        # convert momentum to velocity (v = p / mu)\n",
    "        batch_y0 = (batch_y0[0] / func.mass, batch_y0[1])\n",
    "        pred_y = odeint_adjoint(func, batch_y0, batch_t, method='NVE')\n",
    "\n",
    "        # convert velocity to momentum (p = mu * v)\n",
    "        pred_y = (pred_y[0] * func.mass, pred_y[1])\n",
    "        pred_y = torch.cat(pred_y, dim=2)\n",
    "        \n",
    "        loss = torch.mean(torch.abs(pred_y[:, :, 0] - batch_y[:, :, 0]))\n",
    "        loss.backward() \n",
    "        optimizer.step()\n",
    "        loss_meter.update(loss.item())\n",
    "        \n",
    "        if itr % 10 == 0: # output log throughout\n",
    "            print('Iter: {}, running avg elbo: {:.4f}'.format(itr, loss_meter.avg))\n",
    "            print('current loss: {:.4f}'.format(loss_meter.val))\n",
    "            print('Last iteration took: ', time.perf_counter() - start)\n",
    "\n",
    "    return func, loss_meter\n",
    "\n",
    "def test_model(func, testing_trajs, dt):    \n",
    "    loss_meter = RunningAverageMeter()\n",
    "    batch_size = testing_trajs.shape[0]\n",
    "    sample_length = testing_trajs.shape[1]\n",
    "    batch_t, batch_y0, batch_y = get_first_batch(testing_trajs, batch_size, sample_length, dt)\n",
    "        \n",
    "    # convert momentum to velocity (v = p / mu)\n",
    "    batch_y0 = (batch_y0[0] / func.mass, batch_y0[1])\n",
    "    pred_y = odeint_adjoint(func, batch_y0, batch_t, method='NVE')\n",
    "\n",
    "    # convert velocity to momentum (p = mu * v)\n",
    "    pred_y = (pred_y[0] * func.mass, pred_y[1])\n",
    "    pred_y = torch.cat(pred_y, dim=2)\n",
    "    \n",
    "    loss = torch.mean(torch.abs(pred_y[:, :, 0] - batch_y[:, :, 0]))\n",
    "    loss_meter.update(loss.item())\n",
    "    \n",
    "    return loss_meter\n",
    "\n",
    "def evaluate_model(sample_length, batch_size, learning_rate, nn_depth, nn_width, activation_function):\n",
    "    niters = 300\n",
    "    dt = 0.1\n",
    "    t0 = time.perf_counter()\n",
    "\n",
    "    training_trajs, testing_trajs = get_data()\n",
    "    model, train_loss = train_model(niters, training_trajs, dt, sample_length, batch_size, learning_rate, nn_depth, nn_width)\n",
    "    training_time = time.perf_counter() - t0\n",
    "\n",
    "    test_loss = test_model(model, testing_trajs, dt)\n",
    "\n",
    "    training_and_testing_time = time.perf_counter() - t0\n",
    "    return train_loss, test_loss, training_time, training_and_testing_time\n",
    "\n",
    "\n",
    "import sigopt\n",
    "\n",
    "def run_and_track_in_sigopt():\n",
    "\n",
    "#   sigopt.log_dataset(DATASET_NAME)\n",
    "#   sigopt.log_metadata(key=\"Dataset Source\", value=DATASET_SRC)\n",
    "#   sigopt.log_metadata(key=\"Feature Eng Pipeline Name\", value=FEATURE_ENG_PIPELINE_NAME)\n",
    "#   sigopt.log_metadata(\n",
    "#     key=\"Dataset Rows\", value=features.shape[0]\n",
    "#   )  # assumes features X are like a numpy array with shape\n",
    "#   sigopt.log_metadata(key=\"Dataset Columns\", value=features.shape[1])\n",
    "#   sigopt.log_metadata(key=\"Execution Environment\", value=\"Colab Notebook\")\n",
    "  sigopt.log_model('Neural ODE Simple Harmonic Motion')\n",
    "  learning_rates = [10**i for i in range(-5, 1)]\n",
    "  sigopt.params.setdefaults(\n",
    "    sample_length=np.random.randint(low=3, high=50),\n",
    "    batch_size=np.random.randint(low=10, high=1000),\n",
    "    learning_rate=np.random.choice(learning_rates),\n",
    "    nn_depth=np.random.randint(low=1, high=5),\n",
    "    nn_width=np.random.randint(low=2, high=50),\n",
    "    # activation_function=,  \n",
    "  )\n",
    "\n",
    "  args = dict(\n",
    "    sample_length=sigopt.params.sample_length,\n",
    "    batch_size=sigopt.params.batch_size,\n",
    "    learning_rate=sigopt.params.learning_rate,\n",
    "    nn_depth=sigopt.params.nn_depth,\n",
    "    nn_width=sigopt.params.nn_width,\n",
    "    activation_function=None,\n",
    "  )\n",
    "\n",
    "  train_loss, test_loss, training_time, training_and_validation_time = evaluate_model(**args)\n",
    "\n",
    "  running_avg_train_loss = train_loss.avg\n",
    "  running_avg_test_loss = test_loss.avg\n",
    "\n",
    "  sigopt.log_metric(name=\"train_loss\", value=running_avg_train_loss)\n",
    "  sigopt.log_metric(name=\"test_loss\", value=running_avg_test_loss)\n",
    "  sigopt.log_metric(name=\"training time (s)\", value=training_time)\n",
    "  sigopt.log_metric(name=\"training and validation time (s)\", value=training_and_validation_time)\n",
    "\n",
    "run_and_track_in_sigopt()"
   ]
  },
  {
   "cell_type": "markdown",
   "metadata": {},
   "source": []
  }
 ],
 "metadata": {
  "interpreter": {
   "hash": "f1e3b4726387a5c6c68498f830a2fc3e7a44f6ea43c42b3041461a3d5a3b2971"
  },
  "kernelspec": {
   "display_name": "Python 3.9.6 ('base')",
   "language": "python",
   "name": "python3"
  },
  "language_info": {
   "codemirror_mode": {
    "name": "ipython",
    "version": 3
   },
   "file_extension": ".py",
   "mimetype": "text/x-python",
   "name": "python",
   "nbconvert_exporter": "python",
   "pygments_lexer": "ipython3",
   "version": "3.9.6"
  },
  "orig_nbformat": 4
 },
 "nbformat": 4,
 "nbformat_minor": 2
}
