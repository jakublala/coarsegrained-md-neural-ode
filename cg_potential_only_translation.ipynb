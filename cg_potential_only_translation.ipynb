{
 "cells": [
  {
   "cell_type": "markdown",
   "metadata": {},
   "source": [
    "### Training"
   ]
  },
  {
   "cell_type": "code",
   "execution_count": 1,
   "metadata": {},
   "outputs": [],
   "source": [
    "%load_ext autoreload\n",
    "%autoreload 2"
   ]
  },
  {
   "cell_type": "code",
   "execution_count": 2,
   "metadata": {},
   "outputs": [
    {
     "name": "stdout",
     "output_type": "stream",
     "text": [
      "Using cuda device\n"
     ]
    },
    {
     "name": "stderr",
     "output_type": "stream",
     "text": [
      "/home/jakub/anaconda3/lib/python3.9/site-packages/quaternion/numba_wrapper.py:23: UserWarning: \n",
      "\n",
      "!!!!!!!!!!!!!!!!!!!!!!!!!!!!!!!!!!!!!!!!!!!!!!!!!!!!!\n",
      "Could not import from numba, which means that some\n",
      "parts of this code may run MUCH more slowly.  You\n",
      "may wish to install numba.\n",
      "!!!!!!!!!!!!!!!!!!!!!!!!!!!!!!!!!!!!!!!!!!!!!!!!!!!!!\n",
      "\n",
      "  warnings.warn(warning_text)\n"
     ]
    }
   ],
   "source": [
    "from diffmd.solvers import odeint_adjoint\n",
    "from diffmd.utils import compute_grad\n",
    "from diffmd.utils import body_to_lab_frame, lab_to_body_frame, quat_to_euler_angles\n",
    "from analysis.reader import Reader\n",
    "\n",
    "\n",
    "import torch\n",
    "import torch.nn as nn\n",
    "import numpy as np\n",
    "import matplotlib.pyplot as plt\n",
    "import time\n",
    "import pandas as pd\n",
    "import os\n",
    "import shutil\n",
    "# TODO: fix quaternion module warning because of NUMBA\n",
    "import quaternion\n",
    "from torchviz import make_dot # visualize computation graphs\n",
    "\n",
    "device = torch.device(\"cuda\" if torch.cuda.is_available() else \"cpu\")\n",
    "# device = 'cpu'\n",
    "print(f'Using {device} device')\n",
    "\n",
    "class RunningAverageMeter(object):\n",
    "    \"\"\"Computes and stores the average and current value\"\"\"\n",
    "\n",
    "    def __init__(self, momentum=0.99):\n",
    "        self.momentum = momentum\n",
    "        self.losses = []\n",
    "        self.reset()\n",
    "\n",
    "    def reset(self):\n",
    "        self.val = None\n",
    "        self.avg = 0\n",
    "\n",
    "    def update(self, val):\n",
    "        if self.val is None:\n",
    "            self.avg = val\n",
    "        else:\n",
    "            self.avg = self.avg * self.momentum + val * (1 - self.momentum)\n",
    "        self.val = val\n",
    "        self.log(val)\n",
    "    \n",
    "    def log(self, val):\n",
    "        self.losses.append(val)\n",
    "\n",
    "def get_first_batch(trajs,nsample,sampleLength,dt):\n",
    "    twice_dim = trajs.size()[2]\n",
    "    dim = twice_dim//2\n",
    "    \n",
    "    q0 = trajs[0:nsample, 0, :dim].to(device)\n",
    "    p0 = trajs[0:nsample, 0, dim:].to(device)\n",
    "    batch_y0 = (p0, q0)\n",
    "    \n",
    "    q = trajs[0:nsample, 0:sampleLength, :dim].to(device)\n",
    "    p = trajs[0:nsample, 0:sampleLength, dim:].to(device)\n",
    "    batch_y = torch.cat((p, q), dim=2).swapaxes(0, 1)\n",
    "    \n",
    "    batch_t = torch.linspace(0.0,dt*(sampleLength-1),sampleLength).to(device)\n",
    "    return batch_t, batch_y0, batch_y\n",
    "\n",
    "class ODEFunc(nn.Module):\n",
    "    def __init__(self, nparticles, inertia, k, dim, width, depth):\n",
    "        super(ODEFunc, self).__init__()\n",
    "        self.dim = dim\n",
    "        self.nparticles = nparticles\n",
    "        layers = []\n",
    "        for i in range(depth):\n",
    "            if i == 0:\n",
    "                # first layer takes in all configurational variables (xyz and quaternions)\n",
    "                layers += [nn.Linear(self.dim, width), nn.Sigmoid()]\n",
    "            if i == (depth-1):\n",
    "                # last layer outputs a single potential energy value\n",
    "                layers += [nn.Linear(width, 1)]\n",
    "            else:\n",
    "                layers += [nn.Linear(width, width), nn.Sigmoid()]\n",
    "        self.net = nn.Sequential(*layers).type(torch.float64)\n",
    "\n",
    "        for m in self.net.modules():\n",
    "            if isinstance(m,nn.Linear):\n",
    "                nn.init.normal_(m.weight,mean=0,std=0.01)\n",
    "                nn.init.constant_(m.bias,val=0)\n",
    "\n",
    "        # testing only translational motion\n",
    "        layers = []\n",
    "        for i in range(depth):\n",
    "            if i == 0:\n",
    "                # first layer takes in all configurational variables (xyz and quaternions)\n",
    "                layers += [nn.Linear(1, width), nn.Sigmoid()]\n",
    "            if i == (depth-1):\n",
    "                # last layer outputs a single potential energy value\n",
    "                layers += [nn.Linear(width, 1)]\n",
    "            else:\n",
    "                layers += [nn.Linear(width, width), nn.Sigmoid()]\n",
    "        self.trans_net = nn.Sequential(*layers).type(torch.float64)\n",
    "\n",
    "        for m in self.trans_net.modules():\n",
    "            if isinstance(m,nn.Linear):\n",
    "                nn.init.normal_(m.weight,mean=0,std=0.01)\n",
    "                nn.init.constant_(m.bias,val=0)\n",
    "\n",
    "\n",
    "        # HACK\n",
    "        self.mass = 7.0\n",
    "        self.inertia = inertia\n",
    "        self.k = k\n",
    "\n",
    "    def forward(self, state):\n",
    "\n",
    "        with torch.set_grad_enabled(True):    \n",
    "            # TODO: make sure batching and dimensions are sent appropriately\n",
    "            v = state[0]\n",
    "            # print(v.requires_grad)\n",
    "            w = state[1]\n",
    "            x = state[2] # [number of bodies, number of trajectories, number of dimensions]\n",
    "            q = state[3]\n",
    "            \n",
    "            x.requires_grad = True\n",
    "            q.requires_grad = True\n",
    "            \n",
    "            # normalise quaternions to unit length\n",
    "            q = q / torch.norm(q, dim=2).unsqueeze(2)\n",
    "            assert torch.norm(q, dim=2).max() < 1.001, 'quaternions not normalised'\n",
    "            \n",
    "            # get separation between bodies\n",
    "            r_vector = x[0, :, :] - x[1, :, :]\n",
    "            r = torch.norm(r_vector, dim=-1).unsqueeze(1)\n",
    "            r_vector = r_vector / r\n",
    "            \n",
    "            assert torch.norm(r_vector, dim=1).max() < 1.1, 'separation vector not normalised'\n",
    "            \n",
    "            # TODO: is this the corect way to get euler angles? is the correct implementation in terms of the cosine and sine formula?\n",
    "            # TODO: test out different conventions of how to interpret quaternions\n",
    "            # TODO: write simple unit tests to check we are truly using the correct convention\n",
    "            # theta = quat_to_euler_angles(q).view(-1, 2*3)\n",
    "            # print(theta.shape)\n",
    "\n",
    "            # rtheta = torch.cat((r, theta), dim=1).view(-1, 2*3+1)\n",
    "            # print(rtheta.shape)\n",
    "            # torch.set_printoptions(profile=\"full\")\n",
    "            # print(rtheta)\n",
    "            # TODO: check that harmonic restraint is calculated correctly\n",
    "            # u = self.net(rtheta) - self.harmonic_restraint(r) # [potential energy, number of trajectories]\n",
    "            # fT = -compute_grad(inputs=rtheta, output=u.T) # [force _ torque, number of trajectories]\n",
    "            \n",
    "            # testing out only trans motion\n",
    "            u = self.trans_net(r) - self.harmonic_restraint(r) # [potential energy, number of trajectories]\n",
    "            # print(u)\n",
    "            f = -compute_grad(inputs=r, output=u.T) \n",
    "            \n",
    "            # HACK: make sure we are splitting based on number of coordinates\n",
    "            # f, T = torch.split(fT, [1, 6], dim=1) # capital T means in lab coordinates\n",
    "            \n",
    "            T = torch.zeros((f.shape[0], 6)).to(device)\n",
    "            # TODO: do this without assigning variables to speed up computation\n",
    "            fA = - f * r_vector # [force, number of trajectories]\n",
    "            fB = f * r_vector\n",
    "            f = torch.stack((fA, fB), dim=0)\n",
    "            \n",
    "            \n",
    "            # TODO; do the torque thing\n",
    "\n",
    "            # translational motion\n",
    "            # HACK: same mass for all bodies\n",
    "            dvdt = f / self.mass\n",
    "            # print('dvdt', torch.norm(dvdt, dim=[0, 2]).mean()* time_step * log_freq)\n",
    "            dxdt = v\n",
    "\n",
    "            # print('dxdt', torch.norm(dxdt, dim=[0, 2]).mean() * time_step * log_freq)\n",
    "\n",
    "\n",
    "            # rotational motion\n",
    "            q_conj = torch.cat((q[:, :, 0:1], -q[:, :, 1:]), dim=2) # get conguarient quaternions\n",
    "            dLdt = torch.cat((torch.zeros(q.shape[0], q.shape[1], 1).to(device), T.reshape(2, -1, 3)), dim=2) # [number of bodies, number of trajectories, 4]\n",
    "            dldt = q * dLdt * q_conj\n",
    "            dwdt = dldt[:, :, 1:] / self.inertia[:, None, :]\n",
    "            dqdt = (0.5 * body_to_lab_frame(w) @ q[:, :, :, None]).squeeze()\n",
    "            assert torch.all(dqdt[0, 0, :] == (0.5 * body_to_lab_frame(w)[0, 0, :, :] @ q[0, 0, :, None]).squeeze()), 'dqdt tensor update is incorrect'\n",
    "\n",
    "        return (dvdt, dwdt, dxdt, dqdt)\n",
    "\n",
    "    def harmonic_restraint(self, diff):\n",
    "        # TODO: train different ks separately, or do a batch of k spring constants, that you update with each get_batch?\n",
    "        return 0.5 * self.k * torch.square(diff)\n",
    "\n",
    "    # def compute_grad(self, q, dq):\n",
    "    #     # using this over compute_grad from nff seems to make no difference\n",
    "    #     # HACK: does this only work with q_n => n=1? \n",
    "    #     return (self.net(q+dq) - self.net(q-dq)) / (2 * dq)\n",
    "\n",
    "def get_data():\n",
    "    # train_split = 0.9\n",
    "    # test_split = 1 - train_split\n",
    "    df = pd.read_csv(file_name+'-reduced_traj.csv')\n",
    "    # HACK: do this based on the column names, not explicitly\n",
    "    com = ['c_com_1[1]', 'c_com_1[2]', 'c_com_1[3]', 'c_com_2[1]', 'c_com_2[2]', 'c_com_2[3]']\n",
    "    q = ['c_q_1[1]', 'c_q_1[2]', 'c_q_1[3]', 'c_q_1[4]', 'c_q_2[1]', 'c_q_2[2]', 'c_q_2[3]', 'c_q_2[4]']\n",
    "    vel = ['c_vel_1[1]', 'c_vel_1[2]', 'c_vel_1[3]', 'c_vel_2[1]', 'c_vel_2[2]', 'c_vel_2[3]'] \n",
    "    av = ['c_av_1[1]', 'c_av_1[2]', 'c_av_1[3]', 'c_av_2[1]', 'c_av_2[2]', 'c_av_2[3]']\n",
    "    am = ['c_am_1[1]', 'c_am_1[2]', 'c_am_1[3]', 'c_am_2[1]', 'c_am_2[2]', 'c_am_2[3]']\n",
    "    inertia = ['c_i_1[1]', 'c_i_1[2]', 'c_i_1[3]', 'c_i_2[1]', 'c_i_2[2]', 'c_i_2[3]']\n",
    "    \n",
    "    centre_of_masses = df.loc[:, ['timestep', *com]]\n",
    "    quaternions = df.loc[:, ['timestep', *q]]\n",
    "    velocities = df.loc[:, ['timestep', *vel]]\n",
    "    ang_velocities = df.loc[:, ['timestep', *av]]\n",
    "    ang_momenta = df.loc[:, ['timestep', *am]]\n",
    "    # inertia = df.loc[0, ['timestep', *inertia]]\n",
    "    inertia = df.loc[:, ['timestep', *inertia]]\n",
    "    # TODO: use DataLoaders?\n",
    "    \n",
    "    # trajs = np.load('data/trajectories/diatomic_spring_narrow.npy')\n",
    "    # split_index = int(trajs.shape[0] * train_split)\n",
    "\n",
    "    # np.random.shuffle(trajs)\n",
    "    # training_trajs = torch.Tensor(trajs[:split_index, :, :]).to(device)\n",
    "    # testing_trajs = torch.Tensor(trajs[split_index:, :, :]).to(device)\n",
    "    \n",
    "    return centre_of_masses, quaternions, velocities, ang_velocities, ang_momenta, inertia\n",
    "\n",
    "def process_inertia(inertia):\n",
    "    assert np.all(inertia.std().iloc[1:].to_numpy() == 0), 'inertia is not constant'\n",
    "    inertia = inertia.iloc[0, 1:].to_numpy().reshape(2, 3)\n",
    "    return torch.from_numpy(inertia).to(device)\n",
    "\n",
    "def process_data(centre_of_masses, quaternions, velocities, ang_momenta, inertia):\n",
    "    # HACK: send a single trajectory\n",
    "    ntraj = 1\n",
    "\n",
    "    # HACK: pair potential\n",
    "    nparticles = 2\n",
    "    vel_dim = 3\n",
    "    angvel_dim = 3\n",
    "    com_dim = 3\n",
    "    quat_dim = 4\n",
    "\n",
    "    # Get centre of masses\n",
    "    com1 = centre_of_masses.loc[:, ['c_com_1[1]', 'c_com_1[2]', 'c_com_1[3]']].to_numpy()\n",
    "    com2 = centre_of_masses.loc[:, ['c_com_2[1]', 'c_com_2[2]', 'c_com_2[3]']].to_numpy()\n",
    "    # separation = np.linalg.norm(com1-com2, axis=1).reshape(-1, 1)\n",
    "    coms = torch.from_numpy(np.hstack((com1, com2))).to(device).view(ntraj, -1, nparticles, com_dim)\n",
    "    \n",
    "    # Get quaternion rotations\n",
    "    quat1 = quaternions.loc[:, ['c_q_1[1]', 'c_q_1[2]', 'c_q_1[3]', \"c_q_1[4]\"]].to_numpy()\n",
    "    quat2 = quaternions.loc[:, ['c_q_2[1]', 'c_q_2[2]', 'c_q_2[3]', \"c_q_2[4]\"]].to_numpy()\n",
    "    quats = torch.from_numpy(np.hstack((quat1, quat2))).to(device).view(ntraj, -1, nparticles, quat_dim)\n",
    "    \n",
    "    # Get translation velocities\n",
    "    vel1 = velocities.loc[:, ['c_vel_1[1]', 'c_vel_1[2]', 'c_vel_1[3]']].to_numpy()\n",
    "    vel2 = velocities.loc[:, ['c_vel_2[1]', 'c_vel_2[2]', 'c_vel_2[3]']].to_numpy() \n",
    "    # hexagon_mass = 7.0\n",
    "    # mom = torch.from_numpy(np.hstack((vel1 * hexagon_mass, vel2 * hexagon_mass))).to(device).view(ntraj, -1, nparticles, vel_dim)\n",
    "    vel = torch.from_numpy(np.hstack((vel1, vel2))).to(device).view(ntraj, -1, nparticles, vel_dim)\n",
    "\n",
    "    # Get angular velocities\n",
    "    ang_mom = torch.from_numpy(ang_momenta.iloc[:, 1:].to_numpy()).to(device).view(ntraj, -1, nparticles, angvel_dim)\n",
    "    ang_vel = ang_mom / inertia.view(ntraj, -1, nparticles, angvel_dim)\n",
    "    return (vel, ang_vel, coms, quats)\n",
    "\n"
   ]
  },
  {
   "cell_type": "code",
   "execution_count": 17,
   "metadata": {},
   "outputs": [],
   "source": [
    "def get_batch_mod(traj, batch_size, batch_length, dt):\n",
    "    # TODO: change everything from ANGULAR VELOCITY to ANGULAR MOMENTUM\n",
    "    \"\"\"\n",
    "    Get a batch of data from a trajectory.\n",
    "        \n",
    "    Args:\n",
    "        traj (tuple): torch tensors containing the data (velocities, angular velocities, centre of masses, quaternions)\n",
    "        batch_size (int): number of trajectories in the batch\n",
    "        batch_length (int): length of each trajectory in the batch\n",
    "        dt (float): time step\n",
    "    \n",
    "    Returns:\n",
    "        batch_t (torch.Tensor): time steps for the batch\n",
    "        pos_init (torch.Tensor): initial positions for the batch\n",
    "        batch_trajs (tuple): batch of torch tensors containing the data (velocities, angular velocities, centre of masses, quaternions - in the form (nparticles, batch_size, batch_length, dim))\n",
    "    \"\"\"\n",
    "    nparticles = trajectory[0].shape[2]\n",
    "    vel_dim = trajectory[0].size()[3]\n",
    "    angvel_dim = trajectory[1].size()[3]\n",
    "    com_dim = trajectory[2].size()[3]\n",
    "    quat_dim = trajectory[3].size()[3]\n",
    "\n",
    "    assert vel_dim == 3, 'velocity dimension must be 3'\n",
    "    assert angvel_dim == 3, 'angular velocity dimension must be 3'\n",
    "    assert com_dim == 3, 'centre of mass dimension must be 3'\n",
    "    assert quat_dim == 4, 'quaternion dimension must be 4'\n",
    "\n",
    "    sampled_is = torch.randint(traj[0].shape[0],size = (batch_size,)).to(device)\n",
    "    sampled_js = torch.randint(traj[0].shape[1]-batch_length,size = (batch_size,)).to(device)\n",
    "    # print(sampled_js)\n",
    "    # sampled_js = torch.zeros((traj[0].shape[1]-batch_length,)).to(device)\n",
    "    initial_time = sampled_js*dt\n",
    "   \n",
    "    batch_t = torch.linspace(0.0,dt*(batch_length-1),batch_length).to(device)\n",
    "    \n",
    "    vels = torch.swapaxes(traj[0][sampled_is,sampled_js,:,:], 0, 1)\n",
    "    ang_vels = torch.swapaxes(traj[1][sampled_is,sampled_js,:,:], 0, 1)\n",
    "    coms = torch.swapaxes(traj[2][sampled_is,sampled_js,:,:], 0, 1)\n",
    "    quats = torch.swapaxes(traj[3][sampled_is,sampled_js,:,:], 0, 1)\n",
    "    \n",
    "    pos_init = (vels, ang_vels, coms, quats)\n",
    "\n",
    "    sampled_vels = []\n",
    "    sampled_ang_vels = []\n",
    "    sampled_coms = []\n",
    "    sampled_quats = []\n",
    "    for i in range(batch_size):\n",
    "        vels = torch.swapaxes(traj[0][sampled_is[i],sampled_js[i]:sampled_js[i]+batch_length,:], 0, 1)\n",
    "        ang_vels = torch.swapaxes(traj[1][sampled_is[i],sampled_js[i]:sampled_js[i]+batch_length,:], 0, 1)\n",
    "        coms = torch.swapaxes(traj[2][sampled_is[i],sampled_js[i]:sampled_js[i]+batch_length,:], 0, 1)\n",
    "        quats = torch.swapaxes(traj[3][sampled_is[i],sampled_js[i]:sampled_js[i]+batch_length,:], 0, 1)\n",
    "        \n",
    "        sampled_vels.append(vels)\n",
    "        sampled_ang_vels.append(ang_vels)\n",
    "        sampled_coms.append(coms)\n",
    "        sampled_quats.append(quats)\n",
    "        \n",
    "    sampled_vels = torch.stack(sampled_vels, dim=1).type(torch.float64)\n",
    "    sampled_ang_vels = torch.stack(sampled_ang_vels, dim=1).type(torch.float64)\n",
    "    sampled_coms = torch.stack(sampled_coms, dim=1).type(torch.float64)\n",
    "    sampled_quats = torch.stack(sampled_quats, dim=1).type(torch.float64)\n",
    "    batch_trajs = (sampled_vels, sampled_ang_vels, sampled_coms, sampled_quats)\n",
    "\n",
    "    return batch_t, pos_init, batch_trajs\n"
   ]
  },
  {
   "cell_type": "code",
   "execution_count": 42,
   "metadata": {},
   "outputs": [
    {
     "data": {
      "image/png": "[encoded data removed]",
      "text/plain": [
       "<Figure size 640x480 with 1 Axes>"
      ]
     },
     "metadata": {},
     "output_type": "display_data"
    }
   ],
   "source": [
    "centre_of_masses, quaternions, velocities, ang_velocities, ang_momenta, inertia = get_data()\n",
    "com = centre_of_masses.iloc[:, 1:4].to_numpy()\n",
    "vel = velocities.iloc[:, 1:4].to_numpy()\n",
    "# use phase space to plot how far we are?\n",
    "# plt.plot(com[:, 0], vel[:, 0])\n",
    "plt.plot(com[1000:1010, 0])\n",
    "plt.show()"
   ]
  },
  {
   "cell_type": "code",
   "execution_count": 44,
   "metadata": {},
   "outputs": [
    {
     "name": "stdout",
     "output_type": "stream",
     "text": [
      "Found timestep: 1e-05, n of run steps: 100000000, and dump log freq: 10000\n",
      "Iter: 10, running avg elbo: 0.0073\n",
      "current loss: 0.0067\n",
      "Last iteration took:      0.43710642866790295\n",
      "Iter: 20, running avg elbo: 0.0073\n",
      "current loss: 0.0061\n",
      "Last iteration took:      0.4321589767932892\n",
      "Iter: 30, running avg elbo: 0.0073\n",
      "current loss: 0.0075\n",
      "Last iteration took:      0.4365565702319145\n",
      "Iter: 40, running avg elbo: 0.0072\n",
      "current loss: 0.0080\n",
      "Last iteration took:      0.43502719700336456\n",
      "Iter: 50, running avg elbo: 0.0072\n",
      "current loss: 0.0065\n",
      "Last iteration took:      0.4360312018543482\n",
      "Iter: 60, running avg elbo: 0.0072\n",
      "current loss: 0.0064\n",
      "Last iteration took:      0.43501818366348743\n",
      "Iter: 70, running avg elbo: 0.0072\n",
      "current loss: 0.0073\n",
      "Last iteration took:      0.44860510528087616\n",
      "Iter: 80, running avg elbo: 0.0072\n",
      "current loss: 0.0070\n",
      "Last iteration took:      0.4416044559329748\n",
      "Iter: 90, running avg elbo: 0.0072\n",
      "current loss: 0.0073\n",
      "Last iteration took:      0.4351020995527506\n",
      "Iter: 100, running avg elbo: 0.0072\n",
      "current loss: 0.0046\n",
      "Last iteration took:      6.76832864060998\n",
      "========================================================\n"
     ]
    }
   ],
   "source": [
    "from diffmd.solvers import odeint_adjoint\n",
    "torch.manual_seed(5)\n",
    "\n",
    "\n",
    "if os.path.exists('temp'):\n",
    "    shutil.rmtree('temp')\n",
    "\n",
    "if not os.path.exists('temp'):\n",
    "    os.makedirs('temp')\n",
    "\n",
    "prefix = 'hexagons/trajectories/dump_2503/cutoff-2.5/'\n",
    "file_name = prefix+'NVE-temp-2.25_K-0.018140589569161_r-0_s-5'\n",
    "\n",
    "# prefix = 'hexagons/trajectories/smooth/'\n",
    "# file_name = prefix+'NVE-temp-0.45_K-0.219478737997257_r-0_s-5'\n",
    "\n",
    "\n",
    "reader = Reader(file_name)\n",
    "# log_labels, log_lines = reader.read_simulation_log()\n",
    "traj_labels, traj_lines = reader.read_reduced_traj(save=True)\n",
    "orig_labels, orig_lines = reader.read_original_traj(save=True)\n",
    "\n",
    "\n",
    "centre_of_masses, quaternions, velocities, ang_velocities, ang_momenta, inertia = get_data()\n",
    "\n",
    "inertia = process_inertia(inertia)\n",
    "trajectory = process_data(centre_of_masses, quaternions, velocities, ang_momenta, inertia)\n",
    "\n",
    "# Trying to learn dynamics only from centre of masses\n",
    "quats = torch.zeros_like(trajectory[3])\n",
    "quats[:, :, :, -1] = 1\n",
    "trajectory = (trajectory[0], torch.zeros_like(trajectory[1]), trajectory[2], quats)\n",
    "\n",
    "# Trying to learn on tenth of the trajectory\n",
    "traj_length = trajectory[0].shape[1]\n",
    "divider = 1\n",
    "# print(traj_length)\n",
    "# plt.plot(trajectory[0][0, :, 0, 0].detach().cpu().numpy())\n",
    "# plt.show()\n",
    "trajectory = (trajectory[0][:, :traj_length // divider, :, :], trajectory[1][:, :traj_length // divider, :, :], trajectory[2][:, :traj_length // divider, :, :], trajectory[3][:, :traj_length // divider, :, :])\n",
    "# assert 0 == 1\n",
    "# dim = nparticles * ((trajectory[2].size()[-1]) + (trajectory[3].size()[-1])) # add number of quaternions and centre of masses degrees of freedom\n",
    "dim = 1 + (2 * 3)\n",
    "\n",
    "\n",
    "niters = 100\n",
    "nn_width = 50\n",
    "nn_depth = 2\n",
    "learning_rate = [1e-3]#[1.0, 0.1, 0.01, 0.001]\n",
    "nparticles = 2 # trajectory[2].shape[0] ? \n",
    "batch_size = 800\n",
    "batch_length = 10\n",
    "# HACK: read logging frequency from file and then make dt = dt * log_freq\n",
    "log_freq = 10000\n",
    "time_step = 1e-05\n",
    "dt = time_step * log_freq\n",
    "\n",
    "losses_log = []\n",
    "\n",
    "for lr in learning_rate:\n",
    "    loss_meter = RunningAverageMeter()\n",
    "    # HACK: harmonic constant - 0.018140589569161\n",
    "    func = ODEFunc(nparticles, inertia, 0.018140589569161, dim, nn_width, nn_depth).to(device)\n",
    "    optimizer = torch.optim.Adam(func.parameters(), lr=lr)\n",
    "\n",
    "    for itr in range(1, niters + 1):\n",
    "        start = time.perf_counter()\n",
    "        # zero out gradients with less memory operations\n",
    "        for param in func.parameters():\n",
    "            param.grad = None\n",
    "        \n",
    "        # HACK: to try sending in a trajectory\n",
    "        batch_t, batch_y0, batch_y = get_batch_mod(trajectory, batch_size, batch_length, dt)   \n",
    "\n",
    "        # TODO: add assertion to check right dimensions\n",
    "        pred_y = odeint_adjoint(func, batch_y0, batch_t, method='NVE')\n",
    "\n",
    "        pred_y = torch.cat(pred_y, dim=-1)\n",
    "        batch_y = torch.swapaxes(torch.swapaxes(torch.cat(batch_y, dim=-1), 0, 2), 1, 2)\n",
    "\n",
    "        # TODO: there is something fundamentally wrong with the dimensions as the plotted data makes no sense\n",
    "        # TODO: it currently shows an oscillating behaviour at a weird timescale which is just not true\n",
    "\n",
    "        # TODO: train only on specifics and not all of the data\n",
    "        # training only on translational information\n",
    "        pred_y_trans = torch.cat((pred_y[:, :, :, 0:3], pred_y[:, :, :, 6:9]))\n",
    "        batch_y_trans = torch.cat((batch_y[:, :, :, 0:3], batch_y[:, :, :, 6:9]))\n",
    "        \n",
    "        loss = torch.mean(torch.abs(pred_y_trans - batch_y_trans))\n",
    "        loss.backward() \n",
    "        optimizer.step()\n",
    "        loss_meter.update(loss.item())\n",
    "        \n",
    "        if itr % 100 == 0:\n",
    "            with torch.no_grad():\n",
    "                batch_t, batch_y0, batch_y = get_batch_mod(trajectory, 2, 1000, dt)   \n",
    "\n",
    "                pred_y = odeint_adjoint(func, batch_y0, batch_t, method='NVE')\n",
    "\n",
    "                pred_y = torch.cat(pred_y, dim=-1)            \n",
    "                batch_y = torch.swapaxes(torch.swapaxes(torch.cat(batch_y, dim=-1), 0, 2), 1, 2)\n",
    "                # print(batch_y.shape)\n",
    "                # assert 0 == 1\n",
    "                ind_vel = [0, 1, 2]\n",
    "                ind_pos = [6, 7, 8]\n",
    "                for i in ind_vel:\n",
    "                    plt.title('velocities')\n",
    "                    plt.plot(batch_t.cpu().numpy(), batch_y.cpu().numpy()[:,0,0,i], 'k--', alpha=0.3, label=f'true {i}')\n",
    "                    plt.plot(batch_t.cpu().numpy(), pred_y.cpu().numpy()[:,0,0,i], 'r-', alpha=0.5, label=f'pred {i}')\n",
    "                plt.savefig(f'temp/{itr}_vel.png')\n",
    "                plt.close()\n",
    "                for i in ind_pos:\n",
    "                    plt.title('positions')\n",
    "                    plt.plot(batch_t.cpu().numpy(), batch_y.cpu().numpy()[:,0,0,i], 'k--', alpha=0.3, label=f'true {i}')\n",
    "                    plt.plot(batch_t.cpu().numpy(), pred_y.cpu().numpy()[:,0,0,i], 'r-', alpha=0.5, label=f'pred {i}')\n",
    "                plt.savefig(f'temp/{itr}_pos.png')\n",
    "                plt.close()\n",
    "                \n",
    "\n",
    "        if itr % 10 == 0: # output log throughout\n",
    "            print('Iter: {}, running avg elbo: {:.4f}'.format(itr, loss_meter.avg))\n",
    "            print('current loss: {:.4f}'.format(loss_meter.val))\n",
    "            print('Last iteration took:     ', time.perf_counter() - start)\n",
    "\n",
    "    print('========================================================')\n",
    "        \n",
    "    losses_log.append(loss_meter.losses)\n",
    "        "
   ]
  },
  {
   "cell_type": "code",
   "execution_count": 23,
   "metadata": {},
   "outputs": [
    {
     "name": "stdout",
     "output_type": "stream",
     "text": [
      "0.1\n"
     ]
    }
   ],
   "source": [
    "print(10000 * 1e-5)"
   ]
  },
  {
   "cell_type": "code",
   "execution_count": 22,
   "metadata": {},
   "outputs": [
    {
     "name": "stdout",
     "output_type": "stream",
     "text": [
      "[[ 0.330807    0.466561   -0.539575  ]\n",
      " [-0.501856    0.229824   -0.31557   ]\n",
      " [ 0.469263    0.00821721  0.360321  ]\n",
      " [-0.27629     0.1167     -0.223378  ]\n",
      " [ 0.41892    -0.00477013  0.370613  ]\n",
      " [ 0.294175    0.740057    0.0249534 ]\n",
      " [ 0.444888    0.106165   -0.642416  ]\n",
      " [ 0.469263    0.00821721  0.360321  ]\n",
      " [-0.313959    0.332104   -0.614065  ]\n",
      " [ 0.402951    0.186684   -0.336445  ]\n",
      " [ 0.0207267   0.565495    0.0687283 ]\n",
      " [-0.308562   -0.241897   -0.120791  ]\n",
      " [-0.0624816  -0.38196     0.383526  ]\n",
      " [-0.609905    0.486766   -0.397031  ]\n",
      " [-0.475348   -0.0299944  -0.309344  ]\n",
      " [ 0.431189    0.218114   -0.594781  ]\n",
      " [ 0.690777    0.209635    0.202027  ]\n",
      " [-0.0624816  -0.38196     0.383526  ]\n",
      " [ 0.371419    0.00464408 -0.341709  ]\n",
      " [ 0.543647    0.251389    0.394125  ]]\n",
      "0.8941757762112548\n"
     ]
    }
   ],
   "source": [
    "print(batch_y.cpu().numpy()[:,0,0,0:3])\n",
    "v = batch_y.cpu().numpy()[:,0,0,0:3]\n",
    "print(np.linalg.norm(v[0] - v[1]))"
   ]
  },
  {
   "cell_type": "code",
   "execution_count": 91,
   "metadata": {},
   "outputs": [
    {
     "data": {
      "image/png": "[encoded data removed]",
      "text/plain": [
       "<Figure size 640x480 with 1 Axes>"
      ]
     },
     "metadata": {},
     "output_type": "display_data"
    }
   ],
   "source": [
    "plt.plot(loss_meter.losses)\n",
    "plt.show()"
   ]
  },
  {
   "cell_type": "code",
   "execution_count": null,
   "metadata": {},
   "outputs": [
    {
     "name": "stdout",
     "output_type": "stream",
     "text": [
      "Found timestep: 1e-05, n of run steps: 100000000, and dump log freq: 10000\n"
     ]
    },
    {
     "ename": "RuntimeError",
     "evalue": "CUDA error: CUBLAS_STATUS_INVALID_VALUE when calling `cublasDgemm( handle, opa, opb, m, n, k, &alpha, a, lda, b, ldb, &beta, c, ldc)`",
     "output_type": "error",
     "traceback": [
      "\u001b[0;31m---------------------------------------------------------------------------\u001b[0m",
      "\u001b[0;31mRuntimeError\u001b[0m                              Traceback (most recent call last)",
      "\u001b[0;32m<ipython-input-9-36fb96328d46>\u001b[0m in \u001b[0;36m<module>\u001b[0;34m\u001b[0m\n\u001b[1;32m     44\u001b[0m     \u001b[0;31m# HACK: to try sending in a trajectory\u001b[0m\u001b[0;34m\u001b[0m\u001b[0;34m\u001b[0m\u001b[0;34m\u001b[0m\u001b[0m\n\u001b[1;32m     45\u001b[0m     \u001b[0mbatch_t\u001b[0m\u001b[0;34m,\u001b[0m \u001b[0mbatch_y0\u001b[0m\u001b[0;34m,\u001b[0m \u001b[0mbatch_y\u001b[0m \u001b[0;34m=\u001b[0m \u001b[0mget_batch_mod\u001b[0m\u001b[0;34m(\u001b[0m\u001b[0mtrajectory\u001b[0m\u001b[0;34m,\u001b[0m \u001b[0mbatch_size\u001b[0m\u001b[0;34m,\u001b[0m \u001b[0mbatch_length\u001b[0m\u001b[0;34m,\u001b[0m \u001b[0;36m0.0005\u001b[0m\u001b[0;34m)\u001b[0m\u001b[0;34m\u001b[0m\u001b[0;34m\u001b[0m\u001b[0m\n\u001b[0;32m---> 46\u001b[0;31m     \u001b[0mpred_y\u001b[0m \u001b[0;34m=\u001b[0m \u001b[0modeint_adjoint\u001b[0m\u001b[0;34m(\u001b[0m\u001b[0mfunc\u001b[0m\u001b[0;34m,\u001b[0m \u001b[0mbatch_y0\u001b[0m\u001b[0;34m,\u001b[0m \u001b[0mbatch_t\u001b[0m\u001b[0;34m,\u001b[0m \u001b[0mmethod\u001b[0m\u001b[0;34m=\u001b[0m\u001b[0;34m'NVE'\u001b[0m\u001b[0;34m)\u001b[0m\u001b[0;34m\u001b[0m\u001b[0;34m\u001b[0m\u001b[0m\n\u001b[0m\u001b[1;32m     47\u001b[0m \u001b[0;34m\u001b[0m\u001b[0m\n\u001b[1;32m     48\u001b[0m     \u001b[0mpred_y\u001b[0m \u001b[0;34m=\u001b[0m \u001b[0mtorch\u001b[0m\u001b[0;34m.\u001b[0m\u001b[0mcat\u001b[0m\u001b[0;34m(\u001b[0m\u001b[0mpred_y\u001b[0m\u001b[0;34m,\u001b[0m \u001b[0mdim\u001b[0m\u001b[0;34m=\u001b[0m\u001b[0;34m-\u001b[0m\u001b[0;36m1\u001b[0m\u001b[0;34m)\u001b[0m\u001b[0;34m\u001b[0m\u001b[0;34m\u001b[0m\u001b[0m\n",
      "\u001b[0;32m~/coarsegrained-md-neural-ode/diffmd/solvers.py\u001b[0m in \u001b[0;36modeint_adjoint\u001b[0;34m(diffeq, state, t, method, options)\u001b[0m\n\u001b[1;32m    172\u001b[0m \u001b[0;34m\u001b[0m\u001b[0m\n\u001b[1;32m    173\u001b[0m     \u001b[0mflat_params\u001b[0m \u001b[0;34m=\u001b[0m \u001b[0m_flatten\u001b[0m\u001b[0;34m(\u001b[0m\u001b[0mdiffeq\u001b[0m\u001b[0;34m.\u001b[0m\u001b[0mparameters\u001b[0m\u001b[0;34m(\u001b[0m\u001b[0;34m)\u001b[0m\u001b[0;34m)\u001b[0m\u001b[0;34m\u001b[0m\u001b[0;34m\u001b[0m\u001b[0m\n\u001b[0;32m--> 174\u001b[0;31m     \u001b[0mexpanded_states\u001b[0m \u001b[0;34m=\u001b[0m \u001b[0mOdeintAdjointMethod\u001b[0m\u001b[0;34m.\u001b[0m\u001b[0mapply\u001b[0m\u001b[0;34m(\u001b[0m\u001b[0;34m*\u001b[0m\u001b[0mstate\u001b[0m\u001b[0;34m,\u001b[0m \u001b[0mdiffeq\u001b[0m\u001b[0;34m,\u001b[0m \u001b[0mt\u001b[0m\u001b[0;34m,\u001b[0m \u001b[0mflat_params\u001b[0m\u001b[0;34m,\u001b[0m \u001b[0mmethod\u001b[0m\u001b[0;34m,\u001b[0m \u001b[0moptions\u001b[0m\u001b[0;34m)\u001b[0m\u001b[0;34m\u001b[0m\u001b[0;34m\u001b[0m\u001b[0m\n\u001b[0m\u001b[1;32m    175\u001b[0m \u001b[0;34m\u001b[0m\u001b[0m\n\u001b[1;32m    176\u001b[0m     \u001b[0;32mreturn\u001b[0m \u001b[0mexpanded_states\u001b[0m\u001b[0;34m\u001b[0m\u001b[0;34m\u001b[0m\u001b[0m\n",
      "\u001b[0;32m~/coarsegrained-md-neural-ode/diffmd/solvers.py\u001b[0m in \u001b[0;36mforward\u001b[0;34m(ctx, *args)\u001b[0m\n\u001b[1;32m    207\u001b[0m \u001b[0;34m\u001b[0m\u001b[0m\n\u001b[1;32m    208\u001b[0m         \u001b[0;32mwith\u001b[0m \u001b[0mtorch\u001b[0m\u001b[0;34m.\u001b[0m\u001b[0mno_grad\u001b[0m\u001b[0;34m(\u001b[0m\u001b[0;34m)\u001b[0m\u001b[0;34m:\u001b[0m\u001b[0;34m\u001b[0m\u001b[0;34m\u001b[0m\u001b[0m\n\u001b[0;32m--> 209\u001b[0;31m             \u001b[0mtraj\u001b[0m \u001b[0;34m=\u001b[0m \u001b[0modeint\u001b[0m\u001b[0;34m(\u001b[0m\u001b[0mdiffeq\u001b[0m\u001b[0;34m,\u001b[0m \u001b[0mstate\u001b[0m\u001b[0;34m,\u001b[0m \u001b[0mt\u001b[0m\u001b[0;34m,\u001b[0m \u001b[0mmethod\u001b[0m\u001b[0;34m=\u001b[0m\u001b[0mmethod\u001b[0m\u001b[0;34m,\u001b[0m \u001b[0moptions\u001b[0m\u001b[0;34m=\u001b[0m\u001b[0moptions\u001b[0m\u001b[0;34m)\u001b[0m\u001b[0;34m\u001b[0m\u001b[0;34m\u001b[0m\u001b[0m\n\u001b[0m\u001b[1;32m    210\u001b[0m         \u001b[0mctx\u001b[0m\u001b[0;34m.\u001b[0m\u001b[0msave_for_backward\u001b[0m\u001b[0;34m(\u001b[0m\u001b[0mt\u001b[0m\u001b[0;34m,\u001b[0m \u001b[0mflat_params\u001b[0m\u001b[0;34m,\u001b[0m \u001b[0;34m*\u001b[0m\u001b[0mtraj\u001b[0m\u001b[0;34m)\u001b[0m\u001b[0;34m\u001b[0m\u001b[0;34m\u001b[0m\u001b[0m\n\u001b[1;32m    211\u001b[0m         \u001b[0;32mreturn\u001b[0m \u001b[0mtraj\u001b[0m\u001b[0;34m\u001b[0m\u001b[0;34m\u001b[0m\u001b[0m\n",
      "\u001b[0;32m~/coarsegrained-md-neural-ode/diffmd/solvers.py\u001b[0m in \u001b[0;36modeint\u001b[0;34m(diffeq, state, t, method, options)\u001b[0m\n\u001b[1;32m    137\u001b[0m \u001b[0;34m\u001b[0m\u001b[0m\n\u001b[1;32m    138\u001b[0m     \u001b[0msolver\u001b[0m \u001b[0;34m=\u001b[0m \u001b[0mSOLVERS\u001b[0m\u001b[0;34m[\u001b[0m\u001b[0mmethod\u001b[0m\u001b[0;34m]\u001b[0m\u001b[0;34m(\u001b[0m\u001b[0mdiffeq\u001b[0m\u001b[0;34m,\u001b[0m \u001b[0mstate\u001b[0m\u001b[0;34m,\u001b[0m \u001b[0;34m**\u001b[0m\u001b[0moptions\u001b[0m\u001b[0;34m)\u001b[0m\u001b[0;34m\u001b[0m\u001b[0;34m\u001b[0m\u001b[0m\n\u001b[0;32m--> 139\u001b[0;31m     \u001b[0msolution\u001b[0m \u001b[0;34m=\u001b[0m \u001b[0msolver\u001b[0m\u001b[0;34m.\u001b[0m\u001b[0mintegrate\u001b[0m\u001b[0;34m(\u001b[0m\u001b[0mt\u001b[0m\u001b[0;34m)\u001b[0m\u001b[0;34m\u001b[0m\u001b[0;34m\u001b[0m\u001b[0m\n\u001b[0m\u001b[1;32m    140\u001b[0m     \u001b[0;32mif\u001b[0m \u001b[0mtensor_input\u001b[0m\u001b[0;34m:\u001b[0m\u001b[0;34m\u001b[0m\u001b[0;34m\u001b[0m\u001b[0m\n\u001b[1;32m    141\u001b[0m         \u001b[0msolution\u001b[0m \u001b[0;34m=\u001b[0m \u001b[0msolution\u001b[0m\u001b[0;34m[\u001b[0m\u001b[0;36m0\u001b[0m\u001b[0;34m]\u001b[0m\u001b[0;34m\u001b[0m\u001b[0;34m\u001b[0m\u001b[0m\n",
      "\u001b[0;32m~/coarsegrained-md-neural-ode/diffmd/solver_base.py\u001b[0m in \u001b[0;36mintegrate\u001b[0;34m(self, t)\u001b[0m\n\u001b[1;32m    131\u001b[0m         \u001b[0;32mfor\u001b[0m \u001b[0mt0\u001b[0m\u001b[0;34m,\u001b[0m \u001b[0mt1\u001b[0m \u001b[0;32min\u001b[0m \u001b[0mzip\u001b[0m\u001b[0;34m(\u001b[0m\u001b[0mtime_grid\u001b[0m\u001b[0;34m[\u001b[0m\u001b[0;34m:\u001b[0m\u001b[0;34m-\u001b[0m\u001b[0;36m1\u001b[0m\u001b[0;34m]\u001b[0m\u001b[0;34m,\u001b[0m \u001b[0mtime_grid\u001b[0m\u001b[0;34m[\u001b[0m\u001b[0;36m1\u001b[0m\u001b[0;34m:\u001b[0m\u001b[0;34m]\u001b[0m\u001b[0;34m)\u001b[0m\u001b[0;34m:\u001b[0m\u001b[0;34m\u001b[0m\u001b[0;34m\u001b[0m\u001b[0m\n\u001b[1;32m    132\u001b[0m             \u001b[0mdt\u001b[0m \u001b[0;34m=\u001b[0m \u001b[0mt1\u001b[0m \u001b[0;34m-\u001b[0m \u001b[0mt0\u001b[0m\u001b[0;34m\u001b[0m\u001b[0;34m\u001b[0m\u001b[0m\n\u001b[0;32m--> 133\u001b[0;31m             \u001b[0mstep_state\u001b[0m \u001b[0;34m=\u001b[0m \u001b[0mself\u001b[0m\u001b[0;34m.\u001b[0m\u001b[0mstep_func\u001b[0m\u001b[0;34m(\u001b[0m\u001b[0mself\u001b[0m\u001b[0;34m.\u001b[0m\u001b[0mdiffeq\u001b[0m\u001b[0;34m,\u001b[0m \u001b[0mdt\u001b[0m\u001b[0;34m,\u001b[0m \u001b[0mstate\u001b[0m\u001b[0;34m)\u001b[0m\u001b[0;34m\u001b[0m\u001b[0;34m\u001b[0m\u001b[0m\n\u001b[0m\u001b[1;32m    134\u001b[0m             \u001b[0mnew_state\u001b[0m \u001b[0;34m=\u001b[0m \u001b[0mtuple\u001b[0m\u001b[0;34m(\u001b[0m\u001b[0mstate_\u001b[0m \u001b[0;34m+\u001b[0m \u001b[0mstep_\u001b[0m \u001b[0;32mfor\u001b[0m \u001b[0mstate_\u001b[0m\u001b[0;34m,\u001b[0m \u001b[0mstep_\u001b[0m \u001b[0;32min\u001b[0m \u001b[0mzip\u001b[0m\u001b[0;34m(\u001b[0m\u001b[0mstate\u001b[0m\u001b[0;34m,\u001b[0m \u001b[0mstep_state\u001b[0m\u001b[0;34m)\u001b[0m\u001b[0;34m)\u001b[0m\u001b[0;34m\u001b[0m\u001b[0;34m\u001b[0m\u001b[0m\n\u001b[1;32m    135\u001b[0m             \u001b[0mstate\u001b[0m \u001b[0;34m=\u001b[0m \u001b[0mnew_state\u001b[0m\u001b[0;34m\u001b[0m\u001b[0;34m\u001b[0m\u001b[0m\n",
      "\u001b[0;32m~/coarsegrained-md-neural-ode/diffmd/solvers.py\u001b[0m in \u001b[0;36mstep_func\u001b[0;34m(self, diffeq, dt, state)\u001b[0m\n\u001b[1;32m     36\u001b[0m \u001b[0;34m\u001b[0m\u001b[0m\n\u001b[1;32m     37\u001b[0m         \u001b[0;32mif\u001b[0m \u001b[0mlen\u001b[0m\u001b[0;34m(\u001b[0m\u001b[0mstate\u001b[0m\u001b[0;34m)\u001b[0m \u001b[0;34m==\u001b[0m \u001b[0mNUM_VAR\u001b[0m\u001b[0;34m:\u001b[0m \u001b[0;31m# integrator in the forward call\u001b[0m\u001b[0;34m\u001b[0m\u001b[0;34m\u001b[0m\u001b[0m\n\u001b[0;32m---> 38\u001b[0;31m             \u001b[0mdvdt_0\u001b[0m\u001b[0;34m,\u001b[0m \u001b[0mdwdt_0\u001b[0m\u001b[0;34m,\u001b[0m \u001b[0mdxdt_0\u001b[0m\u001b[0;34m,\u001b[0m \u001b[0mdqdt_0\u001b[0m \u001b[0;34m=\u001b[0m \u001b[0mdiffeq\u001b[0m\u001b[0;34m(\u001b[0m\u001b[0mstate\u001b[0m\u001b[0;34m)\u001b[0m\u001b[0;34m\u001b[0m\u001b[0;34m\u001b[0m\u001b[0m\n\u001b[0m\u001b[1;32m     39\u001b[0m \u001b[0;34m\u001b[0m\u001b[0m\n\u001b[1;32m     40\u001b[0m             \u001b[0;31m# angular/translational velocity half-step\u001b[0m\u001b[0;34m\u001b[0m\u001b[0;34m\u001b[0m\u001b[0;34m\u001b[0m\u001b[0m\n",
      "\u001b[0;32m~/anaconda3/lib/python3.9/site-packages/torch/nn/modules/module.py\u001b[0m in \u001b[0;36m_call_impl\u001b[0;34m(self, *input, **kwargs)\u001b[0m\n\u001b[1;32m   1049\u001b[0m         if not (self._backward_hooks or self._forward_hooks or self._forward_pre_hooks or _global_backward_hooks\n\u001b[1;32m   1050\u001b[0m                 or _global_forward_hooks or _global_forward_pre_hooks):\n\u001b[0;32m-> 1051\u001b[0;31m             \u001b[0;32mreturn\u001b[0m \u001b[0mforward_call\u001b[0m\u001b[0;34m(\u001b[0m\u001b[0;34m*\u001b[0m\u001b[0minput\u001b[0m\u001b[0;34m,\u001b[0m \u001b[0;34m**\u001b[0m\u001b[0mkwargs\u001b[0m\u001b[0;34m)\u001b[0m\u001b[0;34m\u001b[0m\u001b[0;34m\u001b[0m\u001b[0m\n\u001b[0m\u001b[1;32m   1052\u001b[0m         \u001b[0;31m# Do not call functions when jit is used\u001b[0m\u001b[0;34m\u001b[0m\u001b[0;34m\u001b[0m\u001b[0;34m\u001b[0m\u001b[0m\n\u001b[1;32m   1053\u001b[0m         \u001b[0mfull_backward_hooks\u001b[0m\u001b[0;34m,\u001b[0m \u001b[0mnon_full_backward_hooks\u001b[0m \u001b[0;34m=\u001b[0m \u001b[0;34m[\u001b[0m\u001b[0;34m]\u001b[0m\u001b[0;34m,\u001b[0m \u001b[0;34m[\u001b[0m\u001b[0;34m]\u001b[0m\u001b[0;34m\u001b[0m\u001b[0;34m\u001b[0m\u001b[0m\n",
      "\u001b[0;32m<ipython-input-1-c8b490b695f8>\u001b[0m in \u001b[0;36mforward\u001b[0;34m(self, state)\u001b[0m\n\u001b[1;32m    118\u001b[0m \u001b[0;34m\u001b[0m\u001b[0m\n\u001b[1;32m    119\u001b[0m             \u001b[0;31m# TODO: add a method inside ODEFunc that subtracts the harmonic restraing from the potential energy\u001b[0m\u001b[0;34m\u001b[0m\u001b[0;34m\u001b[0m\u001b[0;34m\u001b[0m\u001b[0m\n\u001b[0;32m--> 120\u001b[0;31m             \u001b[0mu\u001b[0m \u001b[0;34m=\u001b[0m \u001b[0mself\u001b[0m\u001b[0;34m.\u001b[0m\u001b[0mnet\u001b[0m\u001b[0;34m(\u001b[0m\u001b[0mrtheta\u001b[0m\u001b[0;34m)\u001b[0m \u001b[0;31m# [potential energy, number of trajectories]\u001b[0m\u001b[0;34m\u001b[0m\u001b[0;34m\u001b[0m\u001b[0m\n\u001b[0m\u001b[1;32m    121\u001b[0m \u001b[0;34m\u001b[0m\u001b[0m\n\u001b[1;32m    122\u001b[0m             \u001b[0mfT\u001b[0m \u001b[0;34m=\u001b[0m \u001b[0;34m-\u001b[0m\u001b[0mcompute_grad\u001b[0m\u001b[0;34m(\u001b[0m\u001b[0minputs\u001b[0m\u001b[0;34m=\u001b[0m\u001b[0mrtheta\u001b[0m\u001b[0;34m,\u001b[0m \u001b[0moutput\u001b[0m\u001b[0;34m=\u001b[0m\u001b[0mu\u001b[0m\u001b[0;34m.\u001b[0m\u001b[0mT\u001b[0m\u001b[0;34m)\u001b[0m \u001b[0;31m# [force _ torque, number of trajectories]\u001b[0m\u001b[0;34m\u001b[0m\u001b[0;34m\u001b[0m\u001b[0m\n",
      "\u001b[0;32m~/anaconda3/lib/python3.9/site-packages/torch/nn/modules/module.py\u001b[0m in \u001b[0;36m_call_impl\u001b[0;34m(self, *input, **kwargs)\u001b[0m\n\u001b[1;32m   1049\u001b[0m         if not (self._backward_hooks or self._forward_hooks or self._forward_pre_hooks or _global_backward_hooks\n\u001b[1;32m   1050\u001b[0m                 or _global_forward_hooks or _global_forward_pre_hooks):\n\u001b[0;32m-> 1051\u001b[0;31m             \u001b[0;32mreturn\u001b[0m \u001b[0mforward_call\u001b[0m\u001b[0;34m(\u001b[0m\u001b[0;34m*\u001b[0m\u001b[0minput\u001b[0m\u001b[0;34m,\u001b[0m \u001b[0;34m**\u001b[0m\u001b[0mkwargs\u001b[0m\u001b[0;34m)\u001b[0m\u001b[0;34m\u001b[0m\u001b[0;34m\u001b[0m\u001b[0m\n\u001b[0m\u001b[1;32m   1052\u001b[0m         \u001b[0;31m# Do not call functions when jit is used\u001b[0m\u001b[0;34m\u001b[0m\u001b[0;34m\u001b[0m\u001b[0;34m\u001b[0m\u001b[0m\n\u001b[1;32m   1053\u001b[0m         \u001b[0mfull_backward_hooks\u001b[0m\u001b[0;34m,\u001b[0m \u001b[0mnon_full_backward_hooks\u001b[0m \u001b[0;34m=\u001b[0m \u001b[0;34m[\u001b[0m\u001b[0;34m]\u001b[0m\u001b[0;34m,\u001b[0m \u001b[0;34m[\u001b[0m\u001b[0;34m]\u001b[0m\u001b[0;34m\u001b[0m\u001b[0;34m\u001b[0m\u001b[0m\n",
      "\u001b[0;32m~/anaconda3/lib/python3.9/site-packages/torch/nn/modules/container.py\u001b[0m in \u001b[0;36mforward\u001b[0;34m(self, input)\u001b[0m\n\u001b[1;32m    137\u001b[0m     \u001b[0;32mdef\u001b[0m \u001b[0mforward\u001b[0m\u001b[0;34m(\u001b[0m\u001b[0mself\u001b[0m\u001b[0;34m,\u001b[0m \u001b[0minput\u001b[0m\u001b[0;34m)\u001b[0m\u001b[0;34m:\u001b[0m\u001b[0;34m\u001b[0m\u001b[0;34m\u001b[0m\u001b[0m\n\u001b[1;32m    138\u001b[0m         \u001b[0;32mfor\u001b[0m \u001b[0mmodule\u001b[0m \u001b[0;32min\u001b[0m \u001b[0mself\u001b[0m\u001b[0;34m:\u001b[0m\u001b[0;34m\u001b[0m\u001b[0;34m\u001b[0m\u001b[0m\n\u001b[0;32m--> 139\u001b[0;31m             \u001b[0minput\u001b[0m \u001b[0;34m=\u001b[0m \u001b[0mmodule\u001b[0m\u001b[0;34m(\u001b[0m\u001b[0minput\u001b[0m\u001b[0;34m)\u001b[0m\u001b[0;34m\u001b[0m\u001b[0;34m\u001b[0m\u001b[0m\n\u001b[0m\u001b[1;32m    140\u001b[0m         \u001b[0;32mreturn\u001b[0m \u001b[0minput\u001b[0m\u001b[0;34m\u001b[0m\u001b[0;34m\u001b[0m\u001b[0m\n\u001b[1;32m    141\u001b[0m \u001b[0;34m\u001b[0m\u001b[0m\n",
      "\u001b[0;32m~/anaconda3/lib/python3.9/site-packages/torch/nn/modules/module.py\u001b[0m in \u001b[0;36m_call_impl\u001b[0;34m(self, *input, **kwargs)\u001b[0m\n\u001b[1;32m   1049\u001b[0m         if not (self._backward_hooks or self._forward_hooks or self._forward_pre_hooks or _global_backward_hooks\n\u001b[1;32m   1050\u001b[0m                 or _global_forward_hooks or _global_forward_pre_hooks):\n\u001b[0;32m-> 1051\u001b[0;31m             \u001b[0;32mreturn\u001b[0m \u001b[0mforward_call\u001b[0m\u001b[0;34m(\u001b[0m\u001b[0;34m*\u001b[0m\u001b[0minput\u001b[0m\u001b[0;34m,\u001b[0m \u001b[0;34m**\u001b[0m\u001b[0mkwargs\u001b[0m\u001b[0;34m)\u001b[0m\u001b[0;34m\u001b[0m\u001b[0;34m\u001b[0m\u001b[0m\n\u001b[0m\u001b[1;32m   1052\u001b[0m         \u001b[0;31m# Do not call functions when jit is used\u001b[0m\u001b[0;34m\u001b[0m\u001b[0;34m\u001b[0m\u001b[0;34m\u001b[0m\u001b[0m\n\u001b[1;32m   1053\u001b[0m         \u001b[0mfull_backward_hooks\u001b[0m\u001b[0;34m,\u001b[0m \u001b[0mnon_full_backward_hooks\u001b[0m \u001b[0;34m=\u001b[0m \u001b[0;34m[\u001b[0m\u001b[0;34m]\u001b[0m\u001b[0;34m,\u001b[0m \u001b[0;34m[\u001b[0m\u001b[0;34m]\u001b[0m\u001b[0;34m\u001b[0m\u001b[0;34m\u001b[0m\u001b[0m\n",
      "\u001b[0;32m~/anaconda3/lib/python3.9/site-packages/torch/nn/modules/linear.py\u001b[0m in \u001b[0;36mforward\u001b[0;34m(self, input)\u001b[0m\n\u001b[1;32m     94\u001b[0m \u001b[0;34m\u001b[0m\u001b[0m\n\u001b[1;32m     95\u001b[0m     \u001b[0;32mdef\u001b[0m \u001b[0mforward\u001b[0m\u001b[0;34m(\u001b[0m\u001b[0mself\u001b[0m\u001b[0;34m,\u001b[0m \u001b[0minput\u001b[0m\u001b[0;34m:\u001b[0m \u001b[0mTensor\u001b[0m\u001b[0;34m)\u001b[0m \u001b[0;34m->\u001b[0m \u001b[0mTensor\u001b[0m\u001b[0;34m:\u001b[0m\u001b[0;34m\u001b[0m\u001b[0;34m\u001b[0m\u001b[0m\n\u001b[0;32m---> 96\u001b[0;31m         \u001b[0;32mreturn\u001b[0m \u001b[0mF\u001b[0m\u001b[0;34m.\u001b[0m\u001b[0mlinear\u001b[0m\u001b[0;34m(\u001b[0m\u001b[0minput\u001b[0m\u001b[0;34m,\u001b[0m \u001b[0mself\u001b[0m\u001b[0;34m.\u001b[0m\u001b[0mweight\u001b[0m\u001b[0;34m,\u001b[0m \u001b[0mself\u001b[0m\u001b[0;34m.\u001b[0m\u001b[0mbias\u001b[0m\u001b[0;34m)\u001b[0m\u001b[0;34m\u001b[0m\u001b[0;34m\u001b[0m\u001b[0m\n\u001b[0m\u001b[1;32m     97\u001b[0m \u001b[0;34m\u001b[0m\u001b[0m\n\u001b[1;32m     98\u001b[0m     \u001b[0;32mdef\u001b[0m \u001b[0mextra_repr\u001b[0m\u001b[0;34m(\u001b[0m\u001b[0mself\u001b[0m\u001b[0;34m)\u001b[0m \u001b[0;34m->\u001b[0m \u001b[0mstr\u001b[0m\u001b[0;34m:\u001b[0m\u001b[0;34m\u001b[0m\u001b[0;34m\u001b[0m\u001b[0m\n",
      "\u001b[0;32m~/anaconda3/lib/python3.9/site-packages/torch/nn/functional.py\u001b[0m in \u001b[0;36mlinear\u001b[0;34m(input, weight, bias)\u001b[0m\n\u001b[1;32m   1845\u001b[0m     \u001b[0;32mif\u001b[0m \u001b[0mhas_torch_function_variadic\u001b[0m\u001b[0;34m(\u001b[0m\u001b[0minput\u001b[0m\u001b[0;34m,\u001b[0m \u001b[0mweight\u001b[0m\u001b[0;34m)\u001b[0m\u001b[0;34m:\u001b[0m\u001b[0;34m\u001b[0m\u001b[0;34m\u001b[0m\u001b[0m\n\u001b[1;32m   1846\u001b[0m         \u001b[0;32mreturn\u001b[0m \u001b[0mhandle_torch_function\u001b[0m\u001b[0;34m(\u001b[0m\u001b[0mlinear\u001b[0m\u001b[0;34m,\u001b[0m \u001b[0;34m(\u001b[0m\u001b[0minput\u001b[0m\u001b[0;34m,\u001b[0m \u001b[0mweight\u001b[0m\u001b[0;34m)\u001b[0m\u001b[0;34m,\u001b[0m \u001b[0minput\u001b[0m\u001b[0;34m,\u001b[0m \u001b[0mweight\u001b[0m\u001b[0;34m,\u001b[0m \u001b[0mbias\u001b[0m\u001b[0;34m=\u001b[0m\u001b[0mbias\u001b[0m\u001b[0;34m)\u001b[0m\u001b[0;34m\u001b[0m\u001b[0;34m\u001b[0m\u001b[0m\n\u001b[0;32m-> 1847\u001b[0;31m     \u001b[0;32mreturn\u001b[0m \u001b[0mtorch\u001b[0m\u001b[0;34m.\u001b[0m\u001b[0m_C\u001b[0m\u001b[0;34m.\u001b[0m\u001b[0m_nn\u001b[0m\u001b[0;34m.\u001b[0m\u001b[0mlinear\u001b[0m\u001b[0;34m(\u001b[0m\u001b[0minput\u001b[0m\u001b[0;34m,\u001b[0m \u001b[0mweight\u001b[0m\u001b[0;34m,\u001b[0m \u001b[0mbias\u001b[0m\u001b[0;34m)\u001b[0m\u001b[0;34m\u001b[0m\u001b[0;34m\u001b[0m\u001b[0m\n\u001b[0m\u001b[1;32m   1848\u001b[0m \u001b[0;34m\u001b[0m\u001b[0m\n\u001b[1;32m   1849\u001b[0m \u001b[0;34m\u001b[0m\u001b[0m\n",
      "\u001b[0;31mRuntimeError\u001b[0m: CUDA error: CUBLAS_STATUS_INVALID_VALUE when calling `cublasDgemm( handle, opa, opb, m, n, k, &alpha, a, lda, b, ldb, &beta, c, ldc)`"
     ]
    }
   ],
   "source": [
    "from diffmd.solvers import odeint_adjoint\n",
    "\n",
    "prefix = 'hexagons/trajectories/dump_2503/cutoff-2.5/'\n",
    "file_name = prefix+'NVE-temp-1.5_K-0.0272108843537415_r-0_s-5'\n",
    "\n",
    "reader = Reader(file_name)\n",
    "# log_labels, log_lines = reader.read_simulation_log()\n",
    "traj_labels, traj_lines = reader.read_reduced_traj(save=True)\n",
    "orig_labels, orig_lines = reader.read_original_traj(save=True)\n",
    "\n",
    "centre_of_masses, quaternions, velocities, ang_velocities, ang_momenta, inertia = get_data()\n",
    "\n",
    "inertia = process_inertia(inertia)\n",
    "trajectory = process_data(centre_of_masses, quaternions, velocities, ang_momenta, inertia)\n",
    "\n",
    "niters = 10\n",
    "nn_width = 50\n",
    "nn_depth = 3\n",
    "learning_rate = 1e-1\n",
    "nparticles = 2 # trajectory[2].shape[0] ? \n",
    "batch_size = 10\n",
    "batch_length = 10\n",
    "\n",
    "# Trying to learn dynamics only from centre of masses\n",
    "quats = torch.zeros_like(trajectory[3])\n",
    "quats[:, :, :, -1] = 1\n",
    "trajectory = (trajectory[0], torch.zeros_like(trajectory[1]), trajectory[2], quats)\n",
    "\n",
    "# Trying to learn on tenth of the trajectory\n",
    "traj_length = trajectory[0].shape[1]\n",
    "trajectory = (trajectory[0][:, :traj_length // 10, :, :], trajectory[1][:, :traj_length // 10, :, :], trajectory[2][:, :traj_length // 10, :, :], trajectory[3][:, :traj_length // 10, :, :])\n",
    "print(trajectory[0].shape)\n",
    "\n",
    "loss_meter = RunningAverageMeter()\n",
    "# dim = nparticles * ((trajectory[2].size()[-1]) + (trajectory[3].size()[-1])) # add number of quaternions and centre of masses degrees of freedom\n",
    "dim = nparticles * (3 + 3)\n",
    "func = ODEFunc(nparticles, inertia, dim, nn_width, nn_depth).to(device)\n",
    "optimizer = torch.optim.Adam(func.parameters(), lr=learning_rate)\n",
    "\n",
    "for itr in range(1, niters + 1):\n",
    "    start = time.perf_counter()\n",
    "    optimizer.zero_grad()\n",
    "\n",
    "    # HACK: to try sending in a trajectory\n",
    "    batch_t, batch_y0, batch_y = get_batch_mod(trajectory, batch_size, batch_length, 0.0005)\n",
    "    pred_y = odeint_adjoint(func, batch_y0, batch_t, method='NVE')\n",
    "\n",
    "    pred_y = torch.cat(pred_y, dim=-1)\n",
    "    batch_y = torch.cat(batch_y, dim=-1).view(pred_y.shape)\n",
    "    \n",
    "    # TODO: train only on specifics and not all of the data\n",
    "    loss = torch.mean(torch.abs(pred_y - batch_y))\n",
    "    loss.backward() \n",
    "    optimizer.step()\n",
    "    loss_meter.update(loss.item())\n",
    "    \n",
    "    if itr % 250 == 0:\n",
    "        with torch.no_grad():\n",
    "            for i in range(6):\n",
    "                plt.plot(batch_t.cpu().numpy(), batch_y.cpu().numpy()[:,0,0,i], 'k--', alpha=0.3, label=f'true {i}')\n",
    "                plt.plot(batch_t.cpu().numpy(), pred_y.cpu().numpy()[:,0,0,i], 'r-', label=f'pred {i}')\n",
    "            plt.show()\n",
    "\n",
    "    if itr % 10 == 0: # output log throughout\n",
    "        print('Iter: {}, running avg elbo: {:.4f}'.format(itr, loss_meter.avg))\n",
    "        print('current loss: {:.4f}'.format(loss_meter.val))\n",
    "        print('Last iteration took: ', time.perf_counter() - start)"
   ]
  },
  {
   "cell_type": "code",
   "execution_count": null,
   "metadata": {},
   "outputs": [],
   "source": []
  },
  {
   "cell_type": "code",
   "execution_count": 95,
   "metadata": {},
   "outputs": [],
   "source": [
    "import plotly.graph_objs as go\n",
    "\n",
    "def vector_plot(tvects,is_vect=True,orig=[0,0,0]):\n",
    "    \"\"\"Plot vectors using plotly\"\"\"\n",
    "\n",
    "    if is_vect:\n",
    "        if not hasattr(orig[0],\"__iter__\"):\n",
    "            coords = [[orig,np.sum([orig,v],axis=0)] for v in tvects]\n",
    "        else:\n",
    "            coords = [[o,np.sum([o,v],axis=0)] for o,v in zip(orig,tvects)]\n",
    "    else:\n",
    "        coords = tvects\n",
    "\n",
    "    data = []\n",
    "    for i,c in enumerate(coords):\n",
    "        X1, Y1, Z1 = zip(c[0])\n",
    "        X2, Y2, Z2 = zip(c[1])\n",
    "        vector = go.Scatter3d(x = [X1[0],X2[0]],\n",
    "                              y = [Y1[0],Y2[0]],\n",
    "                              z = [Z1[0],Z2[0]],\n",
    "                              marker = dict(size = [0,5],\n",
    "                                            color = ['blue'],\n",
    "                                            line=dict(width=5,\n",
    "                                                      color='DarkSlateGrey')),\n",
    "                              name = 'Vector'+str(i+1))\n",
    "        data.append(vector)\n",
    "\n",
    "    layout = go.Layout(\n",
    "             margin = dict(l = 4,\n",
    "                           r = 4,\n",
    "                           b = 4,\n",
    "                           t = 4)\n",
    "                  )\n",
    "    fig = go.Figure(data=data,layout=layout)\n",
    "    fig.show()"
   ]
  },
  {
   "cell_type": "code",
   "execution_count": null,
   "metadata": {},
   "outputs": [
    {
     "name": "stdout",
     "output_type": "stream",
     "text": [
      "(array([[ 0.        ,  0.        ,  0.        , ...,  0.        ,\n",
      "         0.        ,  0.        ],\n",
      "       [ 0.01518218, -0.0139471 ,  0.01710846, ..., -0.0215073 ,\n",
      "        -0.0290482 , -0.00088951],\n",
      "       [-0.02682069,  0.0195529 , -0.06787774, ..., -0.173707  ,\n",
      "        -0.0441775 , -0.0367169 ],\n",
      "       ...,\n",
      "       [-0.0213354 ,  0.277402  , -0.0801334 , ...,  0.099064  ,\n",
      "         0.111093  ,  0.0802596 ],\n",
      "       [-0.0109809 ,  0.315444  , -0.1316132 , ...,  0.0687512 ,\n",
      "         0.115968  ,  0.0391946 ],\n",
      "       [ 0.0974403 ,  0.292485  , -0.0782197 , ...,  0.00388676,\n",
      "         0.0939857 , -0.0465734 ]]), array([[ 0.00000000e+00,  0.00000000e+00,  0.00000000e+00,\n",
      "         0.00000000e+00,  0.00000000e+00],\n",
      "       [ 2.44322943e+00,  9.99824108e-01, -4.29189831e-03,\n",
      "        -1.81224667e-02, -2.07064793e-03],\n",
      "       [ 2.42378183e+00,  9.99116925e-01, -4.32879377e-03,\n",
      "        -3.99009689e-02,  1.23820525e-02],\n",
      "       ...,\n",
      "       [ 6.38621611e+00, -7.11082596e-01,  4.32012695e-01,\n",
      "        -3.97570040e-01, -3.86866107e-01],\n",
      "       [ 6.49585182e+00, -6.42040511e-01,  4.06612862e-01,\n",
      "        -4.47437126e-01, -4.71432679e-01],\n",
      "       [ 6.59372060e+00, -5.73090744e-01,  3.67059054e-01,\n",
      "        -4.99125337e-01, -5.36384242e-01]]))\n"
     ]
    }
   ],
   "source": [
    "print(trajectory)"
   ]
  },
  {
   "cell_type": "code",
   "execution_count": null,
   "metadata": {},
   "outputs": [],
   "source": []
  },
  {
   "cell_type": "code",
   "execution_count": null,
   "metadata": {},
   "outputs": [
    {
     "name": "stdout",
     "output_type": "stream",
     "text": [
      "    index  timestep  body_id    id         x         y         z\n",
      "0      28    1000.0      1.0   1.0  0.989920  0.005859 -0.020850\n",
      "1      29    1000.0      1.0   2.0  0.495232  0.874905 -0.014301\n",
      "2      30    1000.0      1.0   3.0 -0.504460  0.881011  0.009731\n",
      "3      31    1000.0      1.0   4.0 -1.009460  0.018072  0.027215\n",
      "4      32    1000.0      1.0   5.0 -0.514776 -0.850974  0.020666\n",
      "5      33    1000.0      1.0   6.0  0.484916 -0.857080 -0.003366\n",
      "6      34    1000.0      1.0   7.0 -0.009772  0.011965  0.003183\n",
      "7      35    1000.0      2.0   8.0  2.005380  1.006250  2.004160\n",
      "8      36    1000.0      2.0   9.0  1.503160  1.870960  1.996230\n",
      "9      37    1000.0      2.0  10.0  0.503239  1.868330  1.984050\n",
      "10     38    1000.0      2.0  11.0  0.005532  1.000990  1.979800\n",
      "11     39    1000.0      2.0  12.0  0.507748  0.136286  1.987730\n",
      "12     40    1000.0      2.0  13.0  1.507670  0.138914  1.999910\n",
      "13     41    1000.0      2.0  14.0  1.005450  1.003620  1.991980\n",
      "          x         y\n",
      "0  0.989920  0.005859\n",
      "1  0.495232  0.874905\n",
      "2 -0.504460  0.881011\n",
      "3 -1.009460  0.018072\n",
      "4 -0.514776 -0.850974\n",
      "5  0.484916 -0.857080\n",
      "6 -0.009772  0.011965\n"
     ]
    },
    {
     "data": {
      "image/png": "[encoded data removed]",
      "text/plain": [
       "<Figure size 640x480 with 1 Axes>"
      ]
     },
     "metadata": {},
     "output_type": "display_data"
    }
   ],
   "source": [
    "firstStep = orig_traj.loc[orig_traj['timestep'] == 1000].reset_index()\n",
    "firstHexagon = firstStep.loc[:6, ['x', 'y']]\n",
    "print(firstStep)\n",
    "print(firstHexagon)\n",
    "plt.plot(firstHexagon.iloc[:, 0], firstHexagon.iloc[:, 1], 'o')\n",
    "plt.xlabel('x')\n",
    "plt.ylabel('y')\n",
    "plt.show()"
   ]
  },
  {
   "cell_type": "code",
   "execution_count": null,
   "metadata": {},
   "outputs": [
    {
     "name": "stdout",
     "output_type": "stream",
     "text": [
      "quaternion(6.93889390390723e-18, -2.38796216413147, -3.63768324282903, 3.73695904748035)\n",
      "[ 6.93889390e-18 -2.38796216e+00 -3.63768324e+00  3.73695905e+00]\n"
     ]
    },
    {
     "data": {
      "application/vnd.plotly.v1+json": {
       "config": {
        "plotlyServerURL": "https://plot.ly"
       },
       "data": [
        {
         "marker": {
          "color": [
           "blue"
          ],
          "line": {
           "color": "DarkSlateGrey",
           "width": 5
          },
          "size": [
           0,
           5
          ]
         },
         "name": "Vector1",
         "type": "scatter3d",
         "x": [
          0,
          2.5
         ],
         "y": [
          0,
          3.6
         ],
         "z": [
          0,
          3.7
         ]
        },
        {
         "marker": {
          "color": [
           "blue"
          ],
          "line": {
           "color": "DarkSlateGrey",
           "width": 5
          },
          "size": [
           0,
           5
          ]
         },
         "name": "Vector2",
         "type": "scatter3d",
         "x": [
          0,
          -2.387963412730804
         ],
         "y": [
          0,
          -3.637685144872938
         ],
         "z": [
          0,
          3.7369610014328223
         ]
        },
        {
         "marker": {
          "color": [
           "blue"
          ],
          "line": {
           "color": "DarkSlateGrey",
           "width": 5
          },
          "size": [
           0,
           5
          ]
         },
         "name": "Vector3",
         "type": "scatter3d",
         "x": [
          0,
          -2.3879621641314697
         ],
         "y": [
          0,
          -3.637683242829034
         ],
         "z": [
          0,
          3.736959047480348
         ]
        }
       ],
       "layout": {
        "margin": {
         "b": 4,
         "l": 4,
         "r": 4,
         "t": 4
        },
        "template": {
         "data": {
          "bar": [
           {
            "error_x": {
             "color": "#2a3f5f"
            },
            "error_y": {
             "color": "#2a3f5f"
            },
            "marker": {
             "line": {
              "color": "#E5ECF6",
              "width": 0.5
             },
             "pattern": {
              "fillmode": "overlay",
              "size": 10,
              "solidity": 0.2
             }
            },
            "type": "bar"
           }
          ],
          "barpolar": [
           {
            "marker": {
             "line": {
              "color": "#E5ECF6",
              "width": 0.5
             },
             "pattern": {
              "fillmode": "overlay",
              "size": 10,
              "solidity": 0.2
             }
            },
            "type": "barpolar"
           }
          ],
          "carpet": [
           {
            "aaxis": {
             "endlinecolor": "#2a3f5f",
             "gridcolor": "white",
             "linecolor": "white",
             "minorgridcolor": "white",
             "startlinecolor": "#2a3f5f"
            },
            "baxis": {
             "endlinecolor": "#2a3f5f",
             "gridcolor": "white",
             "linecolor": "white",
             "minorgridcolor": "white",
             "startlinecolor": "#2a3f5f"
            },
            "type": "carpet"
           }
          ],
          "choropleth": [
           {
            "colorbar": {
             "outlinewidth": 0,
             "ticks": ""
            },
            "type": "choropleth"
           }
          ],
          "contour": [
           {
            "colorbar": {
             "outlinewidth": 0,
             "ticks": ""
            },
            "colorscale": [
             [
              0,
              "#0d0887"
             ],
             [
              0.1111111111111111,
              "#46039f"
             ],
             [
              0.2222222222222222,
              "#7201a8"
             ],
             [
              0.3333333333333333,
              "#9c179e"
             ],
             [
              0.4444444444444444,
              "#bd3786"
             ],
             [
              0.5555555555555556,
              "#d8576b"
             ],
             [
              0.6666666666666666,
              "#ed7953"
             ],
             [
              0.7777777777777778,
              "#fb9f3a"
             ],
             [
              0.8888888888888888,
              "#fdca26"
             ],
             [
              1,
              "#f0f921"
             ]
            ],
            "type": "contour"
           }
          ],
          "contourcarpet": [
           {
            "colorbar": {
             "outlinewidth": 0,
             "ticks": ""
            },
            "type": "contourcarpet"
           }
          ],
          "heatmap": [
           {
            "colorbar": {
             "outlinewidth": 0,
             "ticks": ""
            },
            "colorscale": [
             [
              0,
              "#0d0887"
             ],
             [
              0.1111111111111111,
              "#46039f"
             ],
             [
              0.2222222222222222,
              "#7201a8"
             ],
             [
              0.3333333333333333,
              "#9c179e"
             ],
             [
              0.4444444444444444,
              "#bd3786"
             ],
             [
              0.5555555555555556,
              "#d8576b"
             ],
             [
              0.6666666666666666,
              "#ed7953"
             ],
             [
              0.7777777777777778,
              "#fb9f3a"
             ],
             [
              0.8888888888888888,
              "#fdca26"
             ],
             [
              1,
              "#f0f921"
             ]
            ],
            "type": "heatmap"
           }
          ],
          "heatmapgl": [
           {
            "colorbar": {
             "outlinewidth": 0,
             "ticks": ""
            },
            "colorscale": [
             [
              0,
              "#0d0887"
             ],
             [
              0.1111111111111111,
              "#46039f"
             ],
             [
              0.2222222222222222,
              "#7201a8"
             ],
             [
              0.3333333333333333,
              "#9c179e"
             ],
             [
              0.4444444444444444,
              "#bd3786"
             ],
             [
              0.5555555555555556,
              "#d8576b"
             ],
             [
              0.6666666666666666,
              "#ed7953"
             ],
             [
              0.7777777777777778,
              "#fb9f3a"
             ],
             [
              0.8888888888888888,
              "#fdca26"
             ],
             [
              1,
              "#f0f921"
             ]
            ],
            "type": "heatmapgl"
           }
          ],
          "histogram": [
           {
            "marker": {
             "pattern": {
              "fillmode": "overlay",
              "size": 10,
              "solidity": 0.2
             }
            },
            "type": "histogram"
           }
          ],
          "histogram2d": [
           {
            "colorbar": {
             "outlinewidth": 0,
             "ticks": ""
            },
            "colorscale": [
             [
              0,
              "#0d0887"
             ],
             [
              0.1111111111111111,
              "#46039f"
             ],
             [
              0.2222222222222222,
              "#7201a8"
             ],
             [
              0.3333333333333333,
              "#9c179e"
             ],
             [
              0.4444444444444444,
              "#bd3786"
             ],
             [
              0.5555555555555556,
              "#d8576b"
             ],
             [
              0.6666666666666666,
              "#ed7953"
             ],
             [
              0.7777777777777778,
              "#fb9f3a"
             ],
             [
              0.8888888888888888,
              "#fdca26"
             ],
             [
              1,
              "#f0f921"
             ]
            ],
            "type": "histogram2d"
           }
          ],
          "histogram2dcontour": [
           {
            "colorbar": {
             "outlinewidth": 0,
             "ticks": ""
            },
            "colorscale": [
             [
              0,
              "#0d0887"
             ],
             [
              0.1111111111111111,
              "#46039f"
             ],
             [
              0.2222222222222222,
              "#7201a8"
             ],
             [
              0.3333333333333333,
              "#9c179e"
             ],
             [
              0.4444444444444444,
              "#bd3786"
             ],
             [
              0.5555555555555556,
              "#d8576b"
             ],
             [
              0.6666666666666666,
              "#ed7953"
             ],
             [
              0.7777777777777778,
              "#fb9f3a"
             ],
             [
              0.8888888888888888,
              "#fdca26"
             ],
             [
              1,
              "#f0f921"
             ]
            ],
            "type": "histogram2dcontour"
           }
          ],
          "mesh3d": [
           {
            "colorbar": {
             "outlinewidth": 0,
             "ticks": ""
            },
            "type": "mesh3d"
           }
          ],
          "parcoords": [
           {
            "line": {
             "colorbar": {
              "outlinewidth": 0,
              "ticks": ""
             }
            },
            "type": "parcoords"
           }
          ],
          "pie": [
           {
            "automargin": true,
            "type": "pie"
           }
          ],
          "scatter": [
           {
            "marker": {
             "colorbar": {
              "outlinewidth": 0,
              "ticks": ""
             }
            },
            "type": "scatter"
           }
          ],
          "scatter3d": [
           {
            "line": {
             "colorbar": {
              "outlinewidth": 0,
              "ticks": ""
             }
            },
            "marker": {
             "colorbar": {
              "outlinewidth": 0,
              "ticks": ""
             }
            },
            "type": "scatter3d"
           }
          ],
          "scattercarpet": [
           {
            "marker": {
             "colorbar": {
              "outlinewidth": 0,
              "ticks": ""
             }
            },
            "type": "scattercarpet"
           }
          ],
          "scattergeo": [
           {
            "marker": {
             "colorbar": {
              "outlinewidth": 0,
              "ticks": ""
             }
            },
            "type": "scattergeo"
           }
          ],
          "scattergl": [
           {
            "marker": {
             "colorbar": {
              "outlinewidth": 0,
              "ticks": ""
             }
            },
            "type": "scattergl"
           }
          ],
          "scattermapbox": [
           {
            "marker": {
             "colorbar": {
              "outlinewidth": 0,
              "ticks": ""
             }
            },
            "type": "scattermapbox"
           }
          ],
          "scatterpolar": [
           {
            "marker": {
             "colorbar": {
              "outlinewidth": 0,
              "ticks": ""
             }
            },
            "type": "scatterpolar"
           }
          ],
          "scatterpolargl": [
           {
            "marker": {
             "colorbar": {
              "outlinewidth": 0,
              "ticks": ""
             }
            },
            "type": "scatterpolargl"
           }
          ],
          "scatterternary": [
           {
            "marker": {
             "colorbar": {
              "outlinewidth": 0,
              "ticks": ""
             }
            },
            "type": "scatterternary"
           }
          ],
          "surface": [
           {
            "colorbar": {
             "outlinewidth": 0,
             "ticks": ""
            },
            "colorscale": [
             [
              0,
              "#0d0887"
             ],
             [
              0.1111111111111111,
              "#46039f"
             ],
             [
              0.2222222222222222,
              "#7201a8"
             ],
             [
              0.3333333333333333,
              "#9c179e"
             ],
             [
              0.4444444444444444,
              "#bd3786"
             ],
             [
              0.5555555555555556,
              "#d8576b"
             ],
             [
              0.6666666666666666,
              "#ed7953"
             ],
             [
              0.7777777777777778,
              "#fb9f3a"
             ],
             [
              0.8888888888888888,
              "#fdca26"
             ],
             [
              1,
              "#f0f921"
             ]
            ],
            "type": "surface"
           }
          ],
          "table": [
           {
            "cells": {
             "fill": {
              "color": "#EBF0F8"
             },
             "line": {
              "color": "white"
             }
            },
            "header": {
             "fill": {
              "color": "#C8D4E3"
             },
             "line": {
              "color": "white"
             }
            },
            "type": "table"
           }
          ]
         },
         "layout": {
          "annotationdefaults": {
           "arrowcolor": "#2a3f5f",
           "arrowhead": 0,
           "arrowwidth": 1
          },
          "autotypenumbers": "strict",
          "coloraxis": {
           "colorbar": {
            "outlinewidth": 0,
            "ticks": ""
           }
          },
          "colorscale": {
           "diverging": [
            [
             0,
             "#8e0152"
            ],
            [
             0.1,
             "#c51b7d"
            ],
            [
             0.2,
             "#de77ae"
            ],
            [
             0.3,
             "#f1b6da"
            ],
            [
             0.4,
             "#fde0ef"
            ],
            [
             0.5,
             "#f7f7f7"
            ],
            [
             0.6,
             "#e6f5d0"
            ],
            [
             0.7,
             "#b8e186"
            ],
            [
             0.8,
             "#7fbc41"
            ],
            [
             0.9,
             "#4d9221"
            ],
            [
             1,
             "#276419"
            ]
           ],
           "sequential": [
            [
             0,
             "#0d0887"
            ],
            [
             0.1111111111111111,
             "#46039f"
            ],
            [
             0.2222222222222222,
             "#7201a8"
            ],
            [
             0.3333333333333333,
             "#9c179e"
            ],
            [
             0.4444444444444444,
             "#bd3786"
            ],
            [
             0.5555555555555556,
             "#d8576b"
            ],
            [
             0.6666666666666666,
             "#ed7953"
            ],
            [
             0.7777777777777778,
             "#fb9f3a"
            ],
            [
             0.8888888888888888,
             "#fdca26"
            ],
            [
             1,
             "#f0f921"
            ]
           ],
           "sequentialminus": [
            [
             0,
             "#0d0887"
            ],
            [
             0.1111111111111111,
             "#46039f"
            ],
            [
             0.2222222222222222,
             "#7201a8"
            ],
            [
             0.3333333333333333,
             "#9c179e"
            ],
            [
             0.4444444444444444,
             "#bd3786"
            ],
            [
             0.5555555555555556,
             "#d8576b"
            ],
            [
             0.6666666666666666,
             "#ed7953"
            ],
            [
             0.7777777777777778,
             "#fb9f3a"
            ],
            [
             0.8888888888888888,
             "#fdca26"
            ],
            [
             1,
             "#f0f921"
            ]
           ]
          },
          "colorway": [
           "#636efa",
           "#EF553B",
           "#00cc96",
           "#ab63fa",
           "#FFA15A",
           "#19d3f3",
           "#FF6692",
           "#B6E880",
           "#FF97FF",
           "#FECB52"
          ],
          "font": {
           "color": "#2a3f5f"
          },
          "geo": {
           "bgcolor": "white",
           "lakecolor": "white",
           "landcolor": "#E5ECF6",
           "showlakes": true,
           "showland": true,
           "subunitcolor": "white"
          },
          "hoverlabel": {
           "align": "left"
          },
          "hovermode": "closest",
          "mapbox": {
           "style": "light"
          },
          "paper_bgcolor": "white",
          "plot_bgcolor": "#E5ECF6",
          "polar": {
           "angularaxis": {
            "gridcolor": "white",
            "linecolor": "white",
            "ticks": ""
           },
           "bgcolor": "#E5ECF6",
           "radialaxis": {
            "gridcolor": "white",
            "linecolor": "white",
            "ticks": ""
           }
          },
          "scene": {
           "xaxis": {
            "backgroundcolor": "#E5ECF6",
            "gridcolor": "white",
            "gridwidth": 2,
            "linecolor": "white",
            "showbackground": true,
            "ticks": "",
            "zerolinecolor": "white"
           },
           "yaxis": {
            "backgroundcolor": "#E5ECF6",
            "gridcolor": "white",
            "gridwidth": 2,
            "linecolor": "white",
            "showbackground": true,
            "ticks": "",
            "zerolinecolor": "white"
           },
           "zaxis": {
            "backgroundcolor": "#E5ECF6",
            "gridcolor": "white",
            "gridwidth": 2,
            "linecolor": "white",
            "showbackground": true,
            "ticks": "",
            "zerolinecolor": "white"
           }
          },
          "shapedefaults": {
           "line": {
            "color": "#2a3f5f"
           }
          },
          "ternary": {
           "aaxis": {
            "gridcolor": "white",
            "linecolor": "white",
            "ticks": ""
           },
           "baxis": {
            "gridcolor": "white",
            "linecolor": "white",
            "ticks": ""
           },
           "bgcolor": "#E5ECF6",
           "caxis": {
            "gridcolor": "white",
            "linecolor": "white",
            "ticks": ""
           }
          },
          "title": {
           "x": 0.05
          },
          "xaxis": {
           "automargin": true,
           "gridcolor": "white",
           "linecolor": "white",
           "ticks": "",
           "title": {
            "standoff": 15
           },
           "zerolinecolor": "white",
           "zerolinewidth": 2
          },
          "yaxis": {
           "automargin": true,
           "gridcolor": "white",
           "linecolor": "white",
           "ticks": "",
           "title": {
            "standoff": 15
           },
           "zerolinecolor": "white",
           "zerolinewidth": 2
          }
         }
        }
       }
      },
      "text/html": [
       "<div>                            <div id=\"bacf2c56-a4e6-457b-a65c-7821b57f6be7\" class=\"plotly-graph-div\" style=\"height:525px; width:100%;\"></div>            <script type=\"text/javascript\">                require([\"plotly\"], function(Plotly) {                    window.PLOTLYENV=window.PLOTLYENV || {};                                    if (document.getElementById(\"bacf2c56-a4e6-457b-a65c-7821b57f6be7\")) {                    Plotly.newPlot(                        \"bacf2c56-a4e6-457b-a65c-7821b57f6be7\",                        [{\"marker\":{\"color\":[\"blue\"],\"line\":{\"color\":\"DarkSlateGrey\",\"width\":5},\"size\":[0,5]},\"name\":\"Vector1\",\"x\":[0,2.5],\"y\":[0,3.6],\"z\":[0,3.7],\"type\":\"scatter3d\"},{\"marker\":{\"color\":[\"blue\"],\"line\":{\"color\":\"DarkSlateGrey\",\"width\":5},\"size\":[0,5]},\"name\":\"Vector2\",\"x\":[0,-2.387963412730804],\"y\":[0,-3.637685144872938],\"z\":[0,3.7369610014328223],\"type\":\"scatter3d\"},{\"marker\":{\"color\":[\"blue\"],\"line\":{\"color\":\"DarkSlateGrey\",\"width\":5},\"size\":[0,5]},\"name\":\"Vector3\",\"x\":[0,-2.3879621641314697],\"y\":[0,-3.637683242829034],\"z\":[0,3.736959047480348],\"type\":\"scatter3d\"}],                        {\"margin\":{\"b\":4,\"l\":4,\"r\":4,\"t\":4},\"template\":{\"data\":{\"bar\":[{\"error_x\":{\"color\":\"#2a3f5f\"},\"error_y\":{\"color\":\"#2a3f5f\"},\"marker\":{\"line\":{\"color\":\"#E5ECF6\",\"width\":0.5},\"pattern\":{\"fillmode\":\"overlay\",\"size\":10,\"solidity\":0.2}},\"type\":\"bar\"}],\"barpolar\":[{\"marker\":{\"line\":{\"color\":\"#E5ECF6\",\"width\":0.5},\"pattern\":{\"fillmode\":\"overlay\",\"size\":10,\"solidity\":0.2}},\"type\":\"barpolar\"}],\"carpet\":[{\"aaxis\":{\"endlinecolor\":\"#2a3f5f\",\"gridcolor\":\"white\",\"linecolor\":\"white\",\"minorgridcolor\":\"white\",\"startlinecolor\":\"#2a3f5f\"},\"baxis\":{\"endlinecolor\":\"#2a3f5f\",\"gridcolor\":\"white\",\"linecolor\":\"white\",\"minorgridcolor\":\"white\",\"startlinecolor\":\"#2a3f5f\"},\"type\":\"carpet\"}],\"choropleth\":[{\"colorbar\":{\"outlinewidth\":0,\"ticks\":\"\"},\"type\":\"choropleth\"}],\"contour\":[{\"colorbar\":{\"outlinewidth\":0,\"ticks\":\"\"},\"colorscale\":[[0.0,\"#0d0887\"],[0.1111111111111111,\"#46039f\"],[0.2222222222222222,\"#7201a8\"],[0.3333333333333333,\"#9c179e\"],[0.4444444444444444,\"#bd3786\"],[0.5555555555555556,\"#d8576b\"],[0.6666666666666666,\"#ed7953\"],[0.7777777777777778,\"#fb9f3a\"],[0.8888888888888888,\"#fdca26\"],[1.0,\"#f0f921\"]],\"type\":\"contour\"}],\"contourcarpet\":[{\"colorbar\":{\"outlinewidth\":0,\"ticks\":\"\"},\"type\":\"contourcarpet\"}],\"heatmap\":[{\"colorbar\":{\"outlinewidth\":0,\"ticks\":\"\"},\"colorscale\":[[0.0,\"#0d0887\"],[0.1111111111111111,\"#46039f\"],[0.2222222222222222,\"#7201a8\"],[0.3333333333333333,\"#9c179e\"],[0.4444444444444444,\"#bd3786\"],[0.5555555555555556,\"#d8576b\"],[0.6666666666666666,\"#ed7953\"],[0.7777777777777778,\"#fb9f3a\"],[0.8888888888888888,\"#fdca26\"],[1.0,\"#f0f921\"]],\"type\":\"heatmap\"}],\"heatmapgl\":[{\"colorbar\":{\"outlinewidth\":0,\"ticks\":\"\"},\"colorscale\":[[0.0,\"#0d0887\"],[0.1111111111111111,\"#46039f\"],[0.2222222222222222,\"#7201a8\"],[0.3333333333333333,\"#9c179e\"],[0.4444444444444444,\"#bd3786\"],[0.5555555555555556,\"#d8576b\"],[0.6666666666666666,\"#ed7953\"],[0.7777777777777778,\"#fb9f3a\"],[0.8888888888888888,\"#fdca26\"],[1.0,\"#f0f921\"]],\"type\":\"heatmapgl\"}],\"histogram\":[{\"marker\":{\"pattern\":{\"fillmode\":\"overlay\",\"size\":10,\"solidity\":0.2}},\"type\":\"histogram\"}],\"histogram2d\":[{\"colorbar\":{\"outlinewidth\":0,\"ticks\":\"\"},\"colorscale\":[[0.0,\"#0d0887\"],[0.1111111111111111,\"#46039f\"],[0.2222222222222222,\"#7201a8\"],[0.3333333333333333,\"#9c179e\"],[0.4444444444444444,\"#bd3786\"],[0.5555555555555556,\"#d8576b\"],[0.6666666666666666,\"#ed7953\"],[0.7777777777777778,\"#fb9f3a\"],[0.8888888888888888,\"#fdca26\"],[1.0,\"#f0f921\"]],\"type\":\"histogram2d\"}],\"histogram2dcontour\":[{\"colorbar\":{\"outlinewidth\":0,\"ticks\":\"\"},\"colorscale\":[[0.0,\"#0d0887\"],[0.1111111111111111,\"#46039f\"],[0.2222222222222222,\"#7201a8\"],[0.3333333333333333,\"#9c179e\"],[0.4444444444444444,\"#bd3786\"],[0.5555555555555556,\"#d8576b\"],[0.6666666666666666,\"#ed7953\"],[0.7777777777777778,\"#fb9f3a\"],[0.8888888888888888,\"#fdca26\"],[1.0,\"#f0f921\"]],\"type\":\"histogram2dcontour\"}],\"mesh3d\":[{\"colorbar\":{\"outlinewidth\":0,\"ticks\":\"\"},\"type\":\"mesh3d\"}],\"parcoords\":[{\"line\":{\"colorbar\":{\"outlinewidth\":0,\"ticks\":\"\"}},\"type\":\"parcoords\"}],\"pie\":[{\"automargin\":true,\"type\":\"pie\"}],\"scatter\":[{\"marker\":{\"colorbar\":{\"outlinewidth\":0,\"ticks\":\"\"}},\"type\":\"scatter\"}],\"scatter3d\":[{\"line\":{\"colorbar\":{\"outlinewidth\":0,\"ticks\":\"\"}},\"marker\":{\"colorbar\":{\"outlinewidth\":0,\"ticks\":\"\"}},\"type\":\"scatter3d\"}],\"scattercarpet\":[{\"marker\":{\"colorbar\":{\"outlinewidth\":0,\"ticks\":\"\"}},\"type\":\"scattercarpet\"}],\"scattergeo\":[{\"marker\":{\"colorbar\":{\"outlinewidth\":0,\"ticks\":\"\"}},\"type\":\"scattergeo\"}],\"scattergl\":[{\"marker\":{\"colorbar\":{\"outlinewidth\":0,\"ticks\":\"\"}},\"type\":\"scattergl\"}],\"scattermapbox\":[{\"marker\":{\"colorbar\":{\"outlinewidth\":0,\"ticks\":\"\"}},\"type\":\"scattermapbox\"}],\"scatterpolar\":[{\"marker\":{\"colorbar\":{\"outlinewidth\":0,\"ticks\":\"\"}},\"type\":\"scatterpolar\"}],\"scatterpolargl\":[{\"marker\":{\"colorbar\":{\"outlinewidth\":0,\"ticks\":\"\"}},\"type\":\"scatterpolargl\"}],\"scatterternary\":[{\"marker\":{\"colorbar\":{\"outlinewidth\":0,\"ticks\":\"\"}},\"type\":\"scatterternary\"}],\"surface\":[{\"colorbar\":{\"outlinewidth\":0,\"ticks\":\"\"},\"colorscale\":[[0.0,\"#0d0887\"],[0.1111111111111111,\"#46039f\"],[0.2222222222222222,\"#7201a8\"],[0.3333333333333333,\"#9c179e\"],[0.4444444444444444,\"#bd3786\"],[0.5555555555555556,\"#d8576b\"],[0.6666666666666666,\"#ed7953\"],[0.7777777777777778,\"#fb9f3a\"],[0.8888888888888888,\"#fdca26\"],[1.0,\"#f0f921\"]],\"type\":\"surface\"}],\"table\":[{\"cells\":{\"fill\":{\"color\":\"#EBF0F8\"},\"line\":{\"color\":\"white\"}},\"header\":{\"fill\":{\"color\":\"#C8D4E3\"},\"line\":{\"color\":\"white\"}},\"type\":\"table\"}]},\"layout\":{\"annotationdefaults\":{\"arrowcolor\":\"#2a3f5f\",\"arrowhead\":0,\"arrowwidth\":1},\"autotypenumbers\":\"strict\",\"coloraxis\":{\"colorbar\":{\"outlinewidth\":0,\"ticks\":\"\"}},\"colorscale\":{\"diverging\":[[0,\"#8e0152\"],[0.1,\"#c51b7d\"],[0.2,\"#de77ae\"],[0.3,\"#f1b6da\"],[0.4,\"#fde0ef\"],[0.5,\"#f7f7f7\"],[0.6,\"#e6f5d0\"],[0.7,\"#b8e186\"],[0.8,\"#7fbc41\"],[0.9,\"#4d9221\"],[1,\"#276419\"]],\"sequential\":[[0.0,\"#0d0887\"],[0.1111111111111111,\"#46039f\"],[0.2222222222222222,\"#7201a8\"],[0.3333333333333333,\"#9c179e\"],[0.4444444444444444,\"#bd3786\"],[0.5555555555555556,\"#d8576b\"],[0.6666666666666666,\"#ed7953\"],[0.7777777777777778,\"#fb9f3a\"],[0.8888888888888888,\"#fdca26\"],[1.0,\"#f0f921\"]],\"sequentialminus\":[[0.0,\"#0d0887\"],[0.1111111111111111,\"#46039f\"],[0.2222222222222222,\"#7201a8\"],[0.3333333333333333,\"#9c179e\"],[0.4444444444444444,\"#bd3786\"],[0.5555555555555556,\"#d8576b\"],[0.6666666666666666,\"#ed7953\"],[0.7777777777777778,\"#fb9f3a\"],[0.8888888888888888,\"#fdca26\"],[1.0,\"#f0f921\"]]},\"colorway\":[\"#636efa\",\"#EF553B\",\"#00cc96\",\"#ab63fa\",\"#FFA15A\",\"#19d3f3\",\"#FF6692\",\"#B6E880\",\"#FF97FF\",\"#FECB52\"],\"font\":{\"color\":\"#2a3f5f\"},\"geo\":{\"bgcolor\":\"white\",\"lakecolor\":\"white\",\"landcolor\":\"#E5ECF6\",\"showlakes\":true,\"showland\":true,\"subunitcolor\":\"white\"},\"hoverlabel\":{\"align\":\"left\"},\"hovermode\":\"closest\",\"mapbox\":{\"style\":\"light\"},\"paper_bgcolor\":\"white\",\"plot_bgcolor\":\"#E5ECF6\",\"polar\":{\"angularaxis\":{\"gridcolor\":\"white\",\"linecolor\":\"white\",\"ticks\":\"\"},\"bgcolor\":\"#E5ECF6\",\"radialaxis\":{\"gridcolor\":\"white\",\"linecolor\":\"white\",\"ticks\":\"\"}},\"scene\":{\"xaxis\":{\"backgroundcolor\":\"#E5ECF6\",\"gridcolor\":\"white\",\"gridwidth\":2,\"linecolor\":\"white\",\"showbackground\":true,\"ticks\":\"\",\"zerolinecolor\":\"white\"},\"yaxis\":{\"backgroundcolor\":\"#E5ECF6\",\"gridcolor\":\"white\",\"gridwidth\":2,\"linecolor\":\"white\",\"showbackground\":true,\"ticks\":\"\",\"zerolinecolor\":\"white\"},\"zaxis\":{\"backgroundcolor\":\"#E5ECF6\",\"gridcolor\":\"white\",\"gridwidth\":2,\"linecolor\":\"white\",\"showbackground\":true,\"ticks\":\"\",\"zerolinecolor\":\"white\"}},\"shapedefaults\":{\"line\":{\"color\":\"#2a3f5f\"}},\"ternary\":{\"aaxis\":{\"gridcolor\":\"white\",\"linecolor\":\"white\",\"ticks\":\"\"},\"baxis\":{\"gridcolor\":\"white\",\"linecolor\":\"white\",\"ticks\":\"\"},\"bgcolor\":\"#E5ECF6\",\"caxis\":{\"gridcolor\":\"white\",\"linecolor\":\"white\",\"ticks\":\"\"}},\"title\":{\"x\":0.05},\"xaxis\":{\"automargin\":true,\"gridcolor\":\"white\",\"linecolor\":\"white\",\"ticks\":\"\",\"title\":{\"standoff\":15},\"zerolinecolor\":\"white\",\"zerolinewidth\":2},\"yaxis\":{\"automargin\":true,\"gridcolor\":\"white\",\"linecolor\":\"white\",\"ticks\":\"\",\"title\":{\"standoff\":15},\"zerolinecolor\":\"white\",\"zerolinewidth\":2}}}},                        {\"responsive\": true}                    ).then(function(){\n",
       "                            \n",
       "var gd = document.getElementById('bacf2c56-a4e6-457b-a65c-7821b57f6be7');\n",
       "var x = new MutationObserver(function (mutations, observer) {{\n",
       "        var display = window.getComputedStyle(gd).display;\n",
       "        if (!display || display === 'none') {{\n",
       "            console.log([gd, 'removed!']);\n",
       "            Plotly.purge(gd);\n",
       "            observer.disconnect();\n",
       "        }}\n",
       "}});\n",
       "\n",
       "// Listen for the removal of the full notebook cells\n",
       "var notebookContainer = gd.closest('#notebook-container');\n",
       "if (notebookContainer) {{\n",
       "    x.observe(notebookContainer, {childList: true});\n",
       "}}\n",
       "\n",
       "// Listen for the clearing of the current output cell\n",
       "var outputEl = gd.closest('.output');\n",
       "if (outputEl) {{\n",
       "    x.observe(outputEl, {childList: true});\n",
       "}}\n",
       "\n",
       "                        })                };                });            </script>        </div>"
      ]
     },
     "metadata": {},
     "output_type": "display_data"
    }
   ],
   "source": [
    "quat1 = quaternions.iloc[:, 0:4].to_numpy()[1:]\n",
    "ang_vel_1 = ang_velocities.iloc[:, 0:3].to_numpy()\n",
    "ang_mom_1 = ang_momenta.iloc[:, 0:3].to_numpy()\n",
    "# print(ang_vel_1)\n",
    "# print(ang_mom_1)\n",
    "\n",
    "inertia_1 = ang_mom_1[1:, :] / ang_vel_1[1:, :]\n",
    "# for i in range(100):\n",
    "    # print(inertia_1[i])\n",
    "\n",
    "# quaternion vectors are normalised\n",
    "# print(np.linalg.norm(quat1[:, 1:], axis=1))\n",
    "\n",
    "\n",
    "\n",
    "# quaternion package\n",
    "# print(quat1.shape)\n",
    "quat1 = quaternion.as_quat_array(quat1)\n",
    "# print(quat1[0])\n",
    "# print(quaternion.as_rotation_matrix(quat1)[0])\n",
    "q = quat1[0]\n",
    "R = quaternion.as_rotation_matrix(quat1)[0]\n",
    "# print(q)\n",
    "vector1 = np.array([2.5, 3.6, 3.7])\n",
    "vector1_Q = np.quaternion(0, 2.5, 3.6, 3.7)\n",
    "vector2_R = R @ vector1\n",
    "vector2_Q = q * vector1_Q * q.conjugate()\n",
    "\n",
    "\n",
    "# print(q)\n",
    "# print(q.conjugate())\n",
    "# print(R.shape)\n",
    "\n",
    "print(vector2_Q)\n",
    "print(quaternion.as_float_array(vector2_Q))\n",
    "\n",
    "\n",
    "vector_plot([vector1, vector2_R, quaternion.as_float_array(vector2_Q)[1:]])\n",
    "\n",
    "\n"
   ]
  },
  {
   "cell_type": "code",
   "execution_count": null,
   "metadata": {},
   "outputs": [
    {
     "name": "stdout",
     "output_type": "stream",
     "text": [
      "quaternion(0, 1, 0, 0)\n"
     ]
    },
    {
     "data": {
      "application/vnd.plotly.v1+json": {
       "config": {
        "plotlyServerURL": "https://plot.ly"
       },
       "data": [
        {
         "marker": {
          "color": [
           "blue"
          ],
          "line": {
           "color": "DarkSlateGrey",
           "width": 5
          },
          "size": [
           0,
           5
          ]
         },
         "name": "Vector1",
         "type": "scatter3d",
         "x": [
          0,
          -0.9996907259368092
         ],
         "y": [
          0,
          -0.006313466277199999
         ],
         "z": [
          0,
          0.0240322049689056
         ]
        },
        {
         "marker": {
          "color": [
           "blue"
          ],
          "line": {
           "color": "DarkSlateGrey",
           "width": 5
          },
          "size": [
           0,
           5
          ]
         },
         "name": "Vector2",
         "type": "scatter3d",
         "x": [
          0,
          -0.9990828569085894
         ],
         "y": [
          0,
          0.0016039947185560004
         ],
         "z": [
          0,
          0.042779683974428086
         ]
        },
        {
         "marker": {
          "color": [
           "blue"
          ],
          "line": {
           "color": "DarkSlateGrey",
           "width": 5
          },
          "size": [
           0,
           5
          ]
         },
         "name": "Vector3",
         "type": "scatter3d",
         "x": [
          0,
          -0.9970685620091301
         ],
         "y": [
          0,
          0.02358701371416
         ],
         "z": [
          0,
          0.0727962698856
         ]
        },
        {
         "marker": {
          "color": [
           "blue"
          ],
          "line": {
           "color": "DarkSlateGrey",
           "width": 5
          },
          "size": [
           0,
           5
          ]
         },
         "name": "Vector4",
         "type": "scatter3d",
         "x": [
          0,
          -0.9960460353786924
         ],
         "y": [
          0,
          0.033369010477644
         ],
         "z": [
          0,
          0.082343984974388
         ]
        },
        {
         "marker": {
          "color": [
           "blue"
          ],
          "line": {
           "color": "DarkSlateGrey",
           "width": 5
          },
          "size": [
           0,
           5
          ]
         },
         "name": "Vector5",
         "type": "scatter3d",
         "x": [
          0,
          -0.9975106225544401
         ],
         "y": [
          0,
          0.044602477278020004
         ],
         "z": [
          0,
          0.05461585340556
         ]
        },
        {
         "marker": {
          "color": [
           "blue"
          ],
          "line": {
           "color": "DarkSlateGrey",
           "width": 5
          },
          "size": [
           0,
           5
          ]
         },
         "name": "Vector6",
         "type": "scatter3d",
         "x": [
          0,
          -0.9967745399756244
         ],
         "y": [
          0,
          0.07958028805404001
         ],
         "z": [
          0,
          0.010325685234440002
         ]
        },
        {
         "marker": {
          "color": [
           "blue"
          ],
          "line": {
           "color": "DarkSlateGrey",
           "width": 5
          },
          "size": [
           0,
           5
          ]
         },
         "name": "Vector7",
         "type": "scatter3d",
         "x": [
          0,
          -0.99301676078601
         ],
         "y": [
          0,
          0.11074406504792002
         ],
         "z": [
          0,
          -0.04067182853028
         ]
        },
        {
         "marker": {
          "color": [
           "blue"
          ],
          "line": {
           "color": "DarkSlateGrey",
           "width": 5
          },
          "size": [
           0,
           5
          ]
         },
         "name": "Vector8",
         "type": "scatter3d",
         "x": [
          0,
          -0.99175207483064
         ],
         "y": [
          0,
          0.09744421815325999
         ],
         "z": [
          0,
          -0.08325661885552
         ]
        },
        {
         "marker": {
          "color": [
           "blue"
          ],
          "line": {
           "color": "DarkSlateGrey",
           "width": 5
          },
          "size": [
           0,
           5
          ]
         },
         "name": "Vector9",
         "type": "scatter3d",
         "x": [
          0,
          -0.9926159768263
         ],
         "y": [
          0,
          0.0712853409828
         ],
         "z": [
          0,
          -0.0981472691916
         ]
        },
        {
         "marker": {
          "color": [
           "blue"
          ],
          "line": {
           "color": "DarkSlateGrey",
           "width": 5
          },
          "size": [
           0,
           5
          ]
         },
         "name": "Vector10",
         "type": "scatter3d",
         "x": [
          0,
          -0.9920474442809799
         ],
         "y": [
          0,
          0.09161860601964
         ],
         "z": [
          0,
          -0.086299285485
         ]
        }
       ],
       "layout": {
        "margin": {
         "b": 4,
         "l": 4,
         "r": 4,
         "t": 4
        },
        "template": {
         "data": {
          "bar": [
           {
            "error_x": {
             "color": "#2a3f5f"
            },
            "error_y": {
             "color": "#2a3f5f"
            },
            "marker": {
             "line": {
              "color": "#E5ECF6",
              "width": 0.5
             },
             "pattern": {
              "fillmode": "overlay",
              "size": 10,
              "solidity": 0.2
             }
            },
            "type": "bar"
           }
          ],
          "barpolar": [
           {
            "marker": {
             "line": {
              "color": "#E5ECF6",
              "width": 0.5
             },
             "pattern": {
              "fillmode": "overlay",
              "size": 10,
              "solidity": 0.2
             }
            },
            "type": "barpolar"
           }
          ],
          "carpet": [
           {
            "aaxis": {
             "endlinecolor": "#2a3f5f",
             "gridcolor": "white",
             "linecolor": "white",
             "minorgridcolor": "white",
             "startlinecolor": "#2a3f5f"
            },
            "baxis": {
             "endlinecolor": "#2a3f5f",
             "gridcolor": "white",
             "linecolor": "white",
             "minorgridcolor": "white",
             "startlinecolor": "#2a3f5f"
            },
            "type": "carpet"
           }
          ],
          "choropleth": [
           {
            "colorbar": {
             "outlinewidth": 0,
             "ticks": ""
            },
            "type": "choropleth"
           }
          ],
          "contour": [
           {
            "colorbar": {
             "outlinewidth": 0,
             "ticks": ""
            },
            "colorscale": [
             [
              0,
              "#0d0887"
             ],
             [
              0.1111111111111111,
              "#46039f"
             ],
             [
              0.2222222222222222,
              "#7201a8"
             ],
             [
              0.3333333333333333,
              "#9c179e"
             ],
             [
              0.4444444444444444,
              "#bd3786"
             ],
             [
              0.5555555555555556,
              "#d8576b"
             ],
             [
              0.6666666666666666,
              "#ed7953"
             ],
             [
              0.7777777777777778,
              "#fb9f3a"
             ],
             [
              0.8888888888888888,
              "#fdca26"
             ],
             [
              1,
              "#f0f921"
             ]
            ],
            "type": "contour"
           }
          ],
          "contourcarpet": [
           {
            "colorbar": {
             "outlinewidth": 0,
             "ticks": ""
            },
            "type": "contourcarpet"
           }
          ],
          "heatmap": [
           {
            "colorbar": {
             "outlinewidth": 0,
             "ticks": ""
            },
            "colorscale": [
             [
              0,
              "#0d0887"
             ],
             [
              0.1111111111111111,
              "#46039f"
             ],
             [
              0.2222222222222222,
              "#7201a8"
             ],
             [
              0.3333333333333333,
              "#9c179e"
             ],
             [
              0.4444444444444444,
              "#bd3786"
             ],
             [
              0.5555555555555556,
              "#d8576b"
             ],
             [
              0.6666666666666666,
              "#ed7953"
             ],
             [
              0.7777777777777778,
              "#fb9f3a"
             ],
             [
              0.8888888888888888,
              "#fdca26"
             ],
             [
              1,
              "#f0f921"
             ]
            ],
            "type": "heatmap"
           }
          ],
          "heatmapgl": [
           {
            "colorbar": {
             "outlinewidth": 0,
             "ticks": ""
            },
            "colorscale": [
             [
              0,
              "#0d0887"
             ],
             [
              0.1111111111111111,
              "#46039f"
             ],
             [
              0.2222222222222222,
              "#7201a8"
             ],
             [
              0.3333333333333333,
              "#9c179e"
             ],
             [
              0.4444444444444444,
              "#bd3786"
             ],
             [
              0.5555555555555556,
              "#d8576b"
             ],
             [
              0.6666666666666666,
              "#ed7953"
             ],
             [
              0.7777777777777778,
              "#fb9f3a"
             ],
             [
              0.8888888888888888,
              "#fdca26"
             ],
             [
              1,
              "#f0f921"
             ]
            ],
            "type": "heatmapgl"
           }
          ],
          "histogram": [
           {
            "marker": {
             "pattern": {
              "fillmode": "overlay",
              "size": 10,
              "solidity": 0.2
             }
            },
            "type": "histogram"
           }
          ],
          "histogram2d": [
           {
            "colorbar": {
             "outlinewidth": 0,
             "ticks": ""
            },
            "colorscale": [
             [
              0,
              "#0d0887"
             ],
             [
              0.1111111111111111,
              "#46039f"
             ],
             [
              0.2222222222222222,
              "#7201a8"
             ],
             [
              0.3333333333333333,
              "#9c179e"
             ],
             [
              0.4444444444444444,
              "#bd3786"
             ],
             [
              0.5555555555555556,
              "#d8576b"
             ],
             [
              0.6666666666666666,
              "#ed7953"
             ],
             [
              0.7777777777777778,
              "#fb9f3a"
             ],
             [
              0.8888888888888888,
              "#fdca26"
             ],
             [
              1,
              "#f0f921"
             ]
            ],
            "type": "histogram2d"
           }
          ],
          "histogram2dcontour": [
           {
            "colorbar": {
             "outlinewidth": 0,
             "ticks": ""
            },
            "colorscale": [
             [
              0,
              "#0d0887"
             ],
             [
              0.1111111111111111,
              "#46039f"
             ],
             [
              0.2222222222222222,
              "#7201a8"
             ],
             [
              0.3333333333333333,
              "#9c179e"
             ],
             [
              0.4444444444444444,
              "#bd3786"
             ],
             [
              0.5555555555555556,
              "#d8576b"
             ],
             [
              0.6666666666666666,
              "#ed7953"
             ],
             [
              0.7777777777777778,
              "#fb9f3a"
             ],
             [
              0.8888888888888888,
              "#fdca26"
             ],
             [
              1,
              "#f0f921"
             ]
            ],
            "type": "histogram2dcontour"
           }
          ],
          "mesh3d": [
           {
            "colorbar": {
             "outlinewidth": 0,
             "ticks": ""
            },
            "type": "mesh3d"
           }
          ],
          "parcoords": [
           {
            "line": {
             "colorbar": {
              "outlinewidth": 0,
              "ticks": ""
             }
            },
            "type": "parcoords"
           }
          ],
          "pie": [
           {
            "automargin": true,
            "type": "pie"
           }
          ],
          "scatter": [
           {
            "marker": {
             "colorbar": {
              "outlinewidth": 0,
              "ticks": ""
             }
            },
            "type": "scatter"
           }
          ],
          "scatter3d": [
           {
            "line": {
             "colorbar": {
              "outlinewidth": 0,
              "ticks": ""
             }
            },
            "marker": {
             "colorbar": {
              "outlinewidth": 0,
              "ticks": ""
             }
            },
            "type": "scatter3d"
           }
          ],
          "scattercarpet": [
           {
            "marker": {
             "colorbar": {
              "outlinewidth": 0,
              "ticks": ""
             }
            },
            "type": "scattercarpet"
           }
          ],
          "scattergeo": [
           {
            "marker": {
             "colorbar": {
              "outlinewidth": 0,
              "ticks": ""
             }
            },
            "type": "scattergeo"
           }
          ],
          "scattergl": [
           {
            "marker": {
             "colorbar": {
              "outlinewidth": 0,
              "ticks": ""
             }
            },
            "type": "scattergl"
           }
          ],
          "scattermapbox": [
           {
            "marker": {
             "colorbar": {
              "outlinewidth": 0,
              "ticks": ""
             }
            },
            "type": "scattermapbox"
           }
          ],
          "scatterpolar": [
           {
            "marker": {
             "colorbar": {
              "outlinewidth": 0,
              "ticks": ""
             }
            },
            "type": "scatterpolar"
           }
          ],
          "scatterpolargl": [
           {
            "marker": {
             "colorbar": {
              "outlinewidth": 0,
              "ticks": ""
             }
            },
            "type": "scatterpolargl"
           }
          ],
          "scatterternary": [
           {
            "marker": {
             "colorbar": {
              "outlinewidth": 0,
              "ticks": ""
             }
            },
            "type": "scatterternary"
           }
          ],
          "surface": [
           {
            "colorbar": {
             "outlinewidth": 0,
             "ticks": ""
            },
            "colorscale": [
             [
              0,
              "#0d0887"
             ],
             [
              0.1111111111111111,
              "#46039f"
             ],
             [
              0.2222222222222222,
              "#7201a8"
             ],
             [
              0.3333333333333333,
              "#9c179e"
             ],
             [
              0.4444444444444444,
              "#bd3786"
             ],
             [
              0.5555555555555556,
              "#d8576b"
             ],
             [
              0.6666666666666666,
              "#ed7953"
             ],
             [
              0.7777777777777778,
              "#fb9f3a"
             ],
             [
              0.8888888888888888,
              "#fdca26"
             ],
             [
              1,
              "#f0f921"
             ]
            ],
            "type": "surface"
           }
          ],
          "table": [
           {
            "cells": {
             "fill": {
              "color": "#EBF0F8"
             },
             "line": {
              "color": "white"
             }
            },
            "header": {
             "fill": {
              "color": "#C8D4E3"
             },
             "line": {
              "color": "white"
             }
            },
            "type": "table"
           }
          ]
         },
         "layout": {
          "annotationdefaults": {
           "arrowcolor": "#2a3f5f",
           "arrowhead": 0,
           "arrowwidth": 1
          },
          "autotypenumbers": "strict",
          "coloraxis": {
           "colorbar": {
            "outlinewidth": 0,
            "ticks": ""
           }
          },
          "colorscale": {
           "diverging": [
            [
             0,
             "#8e0152"
            ],
            [
             0.1,
             "#c51b7d"
            ],
            [
             0.2,
             "#de77ae"
            ],
            [
             0.3,
             "#f1b6da"
            ],
            [
             0.4,
             "#fde0ef"
            ],
            [
             0.5,
             "#f7f7f7"
            ],
            [
             0.6,
             "#e6f5d0"
            ],
            [
             0.7,
             "#b8e186"
            ],
            [
             0.8,
             "#7fbc41"
            ],
            [
             0.9,
             "#4d9221"
            ],
            [
             1,
             "#276419"
            ]
           ],
           "sequential": [
            [
             0,
             "#0d0887"
            ],
            [
             0.1111111111111111,
             "#46039f"
            ],
            [
             0.2222222222222222,
             "#7201a8"
            ],
            [
             0.3333333333333333,
             "#9c179e"
            ],
            [
             0.4444444444444444,
             "#bd3786"
            ],
            [
             0.5555555555555556,
             "#d8576b"
            ],
            [
             0.6666666666666666,
             "#ed7953"
            ],
            [
             0.7777777777777778,
             "#fb9f3a"
            ],
            [
             0.8888888888888888,
             "#fdca26"
            ],
            [
             1,
             "#f0f921"
            ]
           ],
           "sequentialminus": [
            [
             0,
             "#0d0887"
            ],
            [
             0.1111111111111111,
             "#46039f"
            ],
            [
             0.2222222222222222,
             "#7201a8"
            ],
            [
             0.3333333333333333,
             "#9c179e"
            ],
            [
             0.4444444444444444,
             "#bd3786"
            ],
            [
             0.5555555555555556,
             "#d8576b"
            ],
            [
             0.6666666666666666,
             "#ed7953"
            ],
            [
             0.7777777777777778,
             "#fb9f3a"
            ],
            [
             0.8888888888888888,
             "#fdca26"
            ],
            [
             1,
             "#f0f921"
            ]
           ]
          },
          "colorway": [
           "#636efa",
           "#EF553B",
           "#00cc96",
           "#ab63fa",
           "#FFA15A",
           "#19d3f3",
           "#FF6692",
           "#B6E880",
           "#FF97FF",
           "#FECB52"
          ],
          "font": {
           "color": "#2a3f5f"
          },
          "geo": {
           "bgcolor": "white",
           "lakecolor": "white",
           "landcolor": "#E5ECF6",
           "showlakes": true,
           "showland": true,
           "subunitcolor": "white"
          },
          "hoverlabel": {
           "align": "left"
          },
          "hovermode": "closest",
          "mapbox": {
           "style": "light"
          },
          "paper_bgcolor": "white",
          "plot_bgcolor": "#E5ECF6",
          "polar": {
           "angularaxis": {
            "gridcolor": "white",
            "linecolor": "white",
            "ticks": ""
           },
           "bgcolor": "#E5ECF6",
           "radialaxis": {
            "gridcolor": "white",
            "linecolor": "white",
            "ticks": ""
           }
          },
          "scene": {
           "xaxis": {
            "backgroundcolor": "#E5ECF6",
            "gridcolor": "white",
            "gridwidth": 2,
            "linecolor": "white",
            "showbackground": true,
            "ticks": "",
            "zerolinecolor": "white"
           },
           "yaxis": {
            "backgroundcolor": "#E5ECF6",
            "gridcolor": "white",
            "gridwidth": 2,
            "linecolor": "white",
            "showbackground": true,
            "ticks": "",
            "zerolinecolor": "white"
           },
           "zaxis": {
            "backgroundcolor": "#E5ECF6",
            "gridcolor": "white",
            "gridwidth": 2,
            "linecolor": "white",
            "showbackground": true,
            "ticks": "",
            "zerolinecolor": "white"
           }
          },
          "shapedefaults": {
           "line": {
            "color": "#2a3f5f"
           }
          },
          "ternary": {
           "aaxis": {
            "gridcolor": "white",
            "linecolor": "white",
            "ticks": ""
           },
           "baxis": {
            "gridcolor": "white",
            "linecolor": "white",
            "ticks": ""
           },
           "bgcolor": "#E5ECF6",
           "caxis": {
            "gridcolor": "white",
            "linecolor": "white",
            "ticks": ""
           }
          },
          "title": {
           "x": 0.05
          },
          "xaxis": {
           "automargin": true,
           "gridcolor": "white",
           "linecolor": "white",
           "ticks": "",
           "title": {
            "standoff": 15
           },
           "zerolinecolor": "white",
           "zerolinewidth": 2
          },
          "yaxis": {
           "automargin": true,
           "gridcolor": "white",
           "linecolor": "white",
           "ticks": "",
           "title": {
            "standoff": 15
           },
           "zerolinecolor": "white",
           "zerolinewidth": 2
          }
         }
        }
       }
      },
      "text/html": [
       "<div>                            <div id=\"a90a4708-c2be-4fdf-a47a-cd00c69ceca2\" class=\"plotly-graph-div\" style=\"height:525px; width:100%;\"></div>            <script type=\"text/javascript\">                require([\"plotly\"], function(Plotly) {                    window.PLOTLYENV=window.PLOTLYENV || {};                                    if (document.getElementById(\"a90a4708-c2be-4fdf-a47a-cd00c69ceca2\")) {                    Plotly.newPlot(                        \"a90a4708-c2be-4fdf-a47a-cd00c69ceca2\",                        [{\"marker\":{\"color\":[\"blue\"],\"line\":{\"color\":\"DarkSlateGrey\",\"width\":5},\"size\":[0,5]},\"name\":\"Vector1\",\"x\":[0,-0.9996907259368092],\"y\":[0,-0.006313466277199999],\"z\":[0,0.0240322049689056],\"type\":\"scatter3d\"},{\"marker\":{\"color\":[\"blue\"],\"line\":{\"color\":\"DarkSlateGrey\",\"width\":5},\"size\":[0,5]},\"name\":\"Vector2\",\"x\":[0,-0.9990828569085894],\"y\":[0,0.0016039947185560004],\"z\":[0,0.042779683974428086],\"type\":\"scatter3d\"},{\"marker\":{\"color\":[\"blue\"],\"line\":{\"color\":\"DarkSlateGrey\",\"width\":5},\"size\":[0,5]},\"name\":\"Vector3\",\"x\":[0,-0.9970685620091301],\"y\":[0,0.02358701371416],\"z\":[0,0.0727962698856],\"type\":\"scatter3d\"},{\"marker\":{\"color\":[\"blue\"],\"line\":{\"color\":\"DarkSlateGrey\",\"width\":5},\"size\":[0,5]},\"name\":\"Vector4\",\"x\":[0,-0.9960460353786924],\"y\":[0,0.033369010477644],\"z\":[0,0.082343984974388],\"type\":\"scatter3d\"},{\"marker\":{\"color\":[\"blue\"],\"line\":{\"color\":\"DarkSlateGrey\",\"width\":5},\"size\":[0,5]},\"name\":\"Vector5\",\"x\":[0,-0.9975106225544401],\"y\":[0,0.044602477278020004],\"z\":[0,0.05461585340556],\"type\":\"scatter3d\"},{\"marker\":{\"color\":[\"blue\"],\"line\":{\"color\":\"DarkSlateGrey\",\"width\":5},\"size\":[0,5]},\"name\":\"Vector6\",\"x\":[0,-0.9967745399756244],\"y\":[0,0.07958028805404001],\"z\":[0,0.010325685234440002],\"type\":\"scatter3d\"},{\"marker\":{\"color\":[\"blue\"],\"line\":{\"color\":\"DarkSlateGrey\",\"width\":5},\"size\":[0,5]},\"name\":\"Vector7\",\"x\":[0,-0.99301676078601],\"y\":[0,0.11074406504792002],\"z\":[0,-0.04067182853028],\"type\":\"scatter3d\"},{\"marker\":{\"color\":[\"blue\"],\"line\":{\"color\":\"DarkSlateGrey\",\"width\":5},\"size\":[0,5]},\"name\":\"Vector8\",\"x\":[0,-0.99175207483064],\"y\":[0,0.09744421815325999],\"z\":[0,-0.08325661885552],\"type\":\"scatter3d\"},{\"marker\":{\"color\":[\"blue\"],\"line\":{\"color\":\"DarkSlateGrey\",\"width\":5},\"size\":[0,5]},\"name\":\"Vector9\",\"x\":[0,-0.9926159768263],\"y\":[0,0.0712853409828],\"z\":[0,-0.0981472691916],\"type\":\"scatter3d\"},{\"marker\":{\"color\":[\"blue\"],\"line\":{\"color\":\"DarkSlateGrey\",\"width\":5},\"size\":[0,5]},\"name\":\"Vector10\",\"x\":[0,-0.9920474442809799],\"y\":[0,0.09161860601964],\"z\":[0,-0.086299285485],\"type\":\"scatter3d\"}],                        {\"margin\":{\"b\":4,\"l\":4,\"r\":4,\"t\":4},\"template\":{\"data\":{\"bar\":[{\"error_x\":{\"color\":\"#2a3f5f\"},\"error_y\":{\"color\":\"#2a3f5f\"},\"marker\":{\"line\":{\"color\":\"#E5ECF6\",\"width\":0.5},\"pattern\":{\"fillmode\":\"overlay\",\"size\":10,\"solidity\":0.2}},\"type\":\"bar\"}],\"barpolar\":[{\"marker\":{\"line\":{\"color\":\"#E5ECF6\",\"width\":0.5},\"pattern\":{\"fillmode\":\"overlay\",\"size\":10,\"solidity\":0.2}},\"type\":\"barpolar\"}],\"carpet\":[{\"aaxis\":{\"endlinecolor\":\"#2a3f5f\",\"gridcolor\":\"white\",\"linecolor\":\"white\",\"minorgridcolor\":\"white\",\"startlinecolor\":\"#2a3f5f\"},\"baxis\":{\"endlinecolor\":\"#2a3f5f\",\"gridcolor\":\"white\",\"linecolor\":\"white\",\"minorgridcolor\":\"white\",\"startlinecolor\":\"#2a3f5f\"},\"type\":\"carpet\"}],\"choropleth\":[{\"colorbar\":{\"outlinewidth\":0,\"ticks\":\"\"},\"type\":\"choropleth\"}],\"contour\":[{\"colorbar\":{\"outlinewidth\":0,\"ticks\":\"\"},\"colorscale\":[[0.0,\"#0d0887\"],[0.1111111111111111,\"#46039f\"],[0.2222222222222222,\"#7201a8\"],[0.3333333333333333,\"#9c179e\"],[0.4444444444444444,\"#bd3786\"],[0.5555555555555556,\"#d8576b\"],[0.6666666666666666,\"#ed7953\"],[0.7777777777777778,\"#fb9f3a\"],[0.8888888888888888,\"#fdca26\"],[1.0,\"#f0f921\"]],\"type\":\"contour\"}],\"contourcarpet\":[{\"colorbar\":{\"outlinewidth\":0,\"ticks\":\"\"},\"type\":\"contourcarpet\"}],\"heatmap\":[{\"colorbar\":{\"outlinewidth\":0,\"ticks\":\"\"},\"colorscale\":[[0.0,\"#0d0887\"],[0.1111111111111111,\"#46039f\"],[0.2222222222222222,\"#7201a8\"],[0.3333333333333333,\"#9c179e\"],[0.4444444444444444,\"#bd3786\"],[0.5555555555555556,\"#d8576b\"],[0.6666666666666666,\"#ed7953\"],[0.7777777777777778,\"#fb9f3a\"],[0.8888888888888888,\"#fdca26\"],[1.0,\"#f0f921\"]],\"type\":\"heatmap\"}],\"heatmapgl\":[{\"colorbar\":{\"outlinewidth\":0,\"ticks\":\"\"},\"colorscale\":[[0.0,\"#0d0887\"],[0.1111111111111111,\"#46039f\"],[0.2222222222222222,\"#7201a8\"],[0.3333333333333333,\"#9c179e\"],[0.4444444444444444,\"#bd3786\"],[0.5555555555555556,\"#d8576b\"],[0.6666666666666666,\"#ed7953\"],[0.7777777777777778,\"#fb9f3a\"],[0.8888888888888888,\"#fdca26\"],[1.0,\"#f0f921\"]],\"type\":\"heatmapgl\"}],\"histogram\":[{\"marker\":{\"pattern\":{\"fillmode\":\"overlay\",\"size\":10,\"solidity\":0.2}},\"type\":\"histogram\"}],\"histogram2d\":[{\"colorbar\":{\"outlinewidth\":0,\"ticks\":\"\"},\"colorscale\":[[0.0,\"#0d0887\"],[0.1111111111111111,\"#46039f\"],[0.2222222222222222,\"#7201a8\"],[0.3333333333333333,\"#9c179e\"],[0.4444444444444444,\"#bd3786\"],[0.5555555555555556,\"#d8576b\"],[0.6666666666666666,\"#ed7953\"],[0.7777777777777778,\"#fb9f3a\"],[0.8888888888888888,\"#fdca26\"],[1.0,\"#f0f921\"]],\"type\":\"histogram2d\"}],\"histogram2dcontour\":[{\"colorbar\":{\"outlinewidth\":0,\"ticks\":\"\"},\"colorscale\":[[0.0,\"#0d0887\"],[0.1111111111111111,\"#46039f\"],[0.2222222222222222,\"#7201a8\"],[0.3333333333333333,\"#9c179e\"],[0.4444444444444444,\"#bd3786\"],[0.5555555555555556,\"#d8576b\"],[0.6666666666666666,\"#ed7953\"],[0.7777777777777778,\"#fb9f3a\"],[0.8888888888888888,\"#fdca26\"],[1.0,\"#f0f921\"]],\"type\":\"histogram2dcontour\"}],\"mesh3d\":[{\"colorbar\":{\"outlinewidth\":0,\"ticks\":\"\"},\"type\":\"mesh3d\"}],\"parcoords\":[{\"line\":{\"colorbar\":{\"outlinewidth\":0,\"ticks\":\"\"}},\"type\":\"parcoords\"}],\"pie\":[{\"automargin\":true,\"type\":\"pie\"}],\"scatter\":[{\"marker\":{\"colorbar\":{\"outlinewidth\":0,\"ticks\":\"\"}},\"type\":\"scatter\"}],\"scatter3d\":[{\"line\":{\"colorbar\":{\"outlinewidth\":0,\"ticks\":\"\"}},\"marker\":{\"colorbar\":{\"outlinewidth\":0,\"ticks\":\"\"}},\"type\":\"scatter3d\"}],\"scattercarpet\":[{\"marker\":{\"colorbar\":{\"outlinewidth\":0,\"ticks\":\"\"}},\"type\":\"scattercarpet\"}],\"scattergeo\":[{\"marker\":{\"colorbar\":{\"outlinewidth\":0,\"ticks\":\"\"}},\"type\":\"scattergeo\"}],\"scattergl\":[{\"marker\":{\"colorbar\":{\"outlinewidth\":0,\"ticks\":\"\"}},\"type\":\"scattergl\"}],\"scattermapbox\":[{\"marker\":{\"colorbar\":{\"outlinewidth\":0,\"ticks\":\"\"}},\"type\":\"scattermapbox\"}],\"scatterpolar\":[{\"marker\":{\"colorbar\":{\"outlinewidth\":0,\"ticks\":\"\"}},\"type\":\"scatterpolar\"}],\"scatterpolargl\":[{\"marker\":{\"colorbar\":{\"outlinewidth\":0,\"ticks\":\"\"}},\"type\":\"scatterpolargl\"}],\"scatterternary\":[{\"marker\":{\"colorbar\":{\"outlinewidth\":0,\"ticks\":\"\"}},\"type\":\"scatterternary\"}],\"surface\":[{\"colorbar\":{\"outlinewidth\":0,\"ticks\":\"\"},\"colorscale\":[[0.0,\"#0d0887\"],[0.1111111111111111,\"#46039f\"],[0.2222222222222222,\"#7201a8\"],[0.3333333333333333,\"#9c179e\"],[0.4444444444444444,\"#bd3786\"],[0.5555555555555556,\"#d8576b\"],[0.6666666666666666,\"#ed7953\"],[0.7777777777777778,\"#fb9f3a\"],[0.8888888888888888,\"#fdca26\"],[1.0,\"#f0f921\"]],\"type\":\"surface\"}],\"table\":[{\"cells\":{\"fill\":{\"color\":\"#EBF0F8\"},\"line\":{\"color\":\"white\"}},\"header\":{\"fill\":{\"color\":\"#C8D4E3\"},\"line\":{\"color\":\"white\"}},\"type\":\"table\"}]},\"layout\":{\"annotationdefaults\":{\"arrowcolor\":\"#2a3f5f\",\"arrowhead\":0,\"arrowwidth\":1},\"autotypenumbers\":\"strict\",\"coloraxis\":{\"colorbar\":{\"outlinewidth\":0,\"ticks\":\"\"}},\"colorscale\":{\"diverging\":[[0,\"#8e0152\"],[0.1,\"#c51b7d\"],[0.2,\"#de77ae\"],[0.3,\"#f1b6da\"],[0.4,\"#fde0ef\"],[0.5,\"#f7f7f7\"],[0.6,\"#e6f5d0\"],[0.7,\"#b8e186\"],[0.8,\"#7fbc41\"],[0.9,\"#4d9221\"],[1,\"#276419\"]],\"sequential\":[[0.0,\"#0d0887\"],[0.1111111111111111,\"#46039f\"],[0.2222222222222222,\"#7201a8\"],[0.3333333333333333,\"#9c179e\"],[0.4444444444444444,\"#bd3786\"],[0.5555555555555556,\"#d8576b\"],[0.6666666666666666,\"#ed7953\"],[0.7777777777777778,\"#fb9f3a\"],[0.8888888888888888,\"#fdca26\"],[1.0,\"#f0f921\"]],\"sequentialminus\":[[0.0,\"#0d0887\"],[0.1111111111111111,\"#46039f\"],[0.2222222222222222,\"#7201a8\"],[0.3333333333333333,\"#9c179e\"],[0.4444444444444444,\"#bd3786\"],[0.5555555555555556,\"#d8576b\"],[0.6666666666666666,\"#ed7953\"],[0.7777777777777778,\"#fb9f3a\"],[0.8888888888888888,\"#fdca26\"],[1.0,\"#f0f921\"]]},\"colorway\":[\"#636efa\",\"#EF553B\",\"#00cc96\",\"#ab63fa\",\"#FFA15A\",\"#19d3f3\",\"#FF6692\",\"#B6E880\",\"#FF97FF\",\"#FECB52\"],\"font\":{\"color\":\"#2a3f5f\"},\"geo\":{\"bgcolor\":\"white\",\"lakecolor\":\"white\",\"landcolor\":\"#E5ECF6\",\"showlakes\":true,\"showland\":true,\"subunitcolor\":\"white\"},\"hoverlabel\":{\"align\":\"left\"},\"hovermode\":\"closest\",\"mapbox\":{\"style\":\"light\"},\"paper_bgcolor\":\"white\",\"plot_bgcolor\":\"#E5ECF6\",\"polar\":{\"angularaxis\":{\"gridcolor\":\"white\",\"linecolor\":\"white\",\"ticks\":\"\"},\"bgcolor\":\"#E5ECF6\",\"radialaxis\":{\"gridcolor\":\"white\",\"linecolor\":\"white\",\"ticks\":\"\"}},\"scene\":{\"xaxis\":{\"backgroundcolor\":\"#E5ECF6\",\"gridcolor\":\"white\",\"gridwidth\":2,\"linecolor\":\"white\",\"showbackground\":true,\"ticks\":\"\",\"zerolinecolor\":\"white\"},\"yaxis\":{\"backgroundcolor\":\"#E5ECF6\",\"gridcolor\":\"white\",\"gridwidth\":2,\"linecolor\":\"white\",\"showbackground\":true,\"ticks\":\"\",\"zerolinecolor\":\"white\"},\"zaxis\":{\"backgroundcolor\":\"#E5ECF6\",\"gridcolor\":\"white\",\"gridwidth\":2,\"linecolor\":\"white\",\"showbackground\":true,\"ticks\":\"\",\"zerolinecolor\":\"white\"}},\"shapedefaults\":{\"line\":{\"color\":\"#2a3f5f\"}},\"ternary\":{\"aaxis\":{\"gridcolor\":\"white\",\"linecolor\":\"white\",\"ticks\":\"\"},\"baxis\":{\"gridcolor\":\"white\",\"linecolor\":\"white\",\"ticks\":\"\"},\"bgcolor\":\"#E5ECF6\",\"caxis\":{\"gridcolor\":\"white\",\"linecolor\":\"white\",\"ticks\":\"\"}},\"title\":{\"x\":0.05},\"xaxis\":{\"automargin\":true,\"gridcolor\":\"white\",\"linecolor\":\"white\",\"ticks\":\"\",\"title\":{\"standoff\":15},\"zerolinecolor\":\"white\",\"zerolinewidth\":2},\"yaxis\":{\"automargin\":true,\"gridcolor\":\"white\",\"linecolor\":\"white\",\"ticks\":\"\",\"title\":{\"standoff\":15},\"zerolinecolor\":\"white\",\"zerolinewidth\":2}}}},                        {\"responsive\": true}                    ).then(function(){\n",
       "                            \n",
       "var gd = document.getElementById('a90a4708-c2be-4fdf-a47a-cd00c69ceca2');\n",
       "var x = new MutationObserver(function (mutations, observer) {{\n",
       "        var display = window.getComputedStyle(gd).display;\n",
       "        if (!display || display === 'none') {{\n",
       "            console.log([gd, 'removed!']);\n",
       "            Plotly.purge(gd);\n",
       "            observer.disconnect();\n",
       "        }}\n",
       "}});\n",
       "\n",
       "// Listen for the removal of the full notebook cells\n",
       "var notebookContainer = gd.closest('#notebook-container');\n",
       "if (notebookContainer) {{\n",
       "    x.observe(notebookContainer, {childList: true});\n",
       "}}\n",
       "\n",
       "// Listen for the clearing of the current output cell\n",
       "var outputEl = gd.closest('.output');\n",
       "if (outputEl) {{\n",
       "    x.observe(outputEl, {childList: true});\n",
       "}}\n",
       "\n",
       "                        })                };                });            </script>        </div>"
      ]
     },
     "metadata": {},
     "output_type": "display_data"
    },
    {
     "name": "stdout",
     "output_type": "stream",
     "text": [
      "[array([-0.99969073, -0.00631347,  0.0240322 ]), array([-0.99908286,  0.00160399,  0.04277968]), array([-0.99706856,  0.02358701,  0.07279627]), array([-0.99604604,  0.03336901,  0.08234398]), array([-0.99751062,  0.04460248,  0.05461585]), array([-0.99677454,  0.07958029,  0.01032569]), array([-0.99301676,  0.11074407, -0.04067183]), array([-0.99175207,  0.09744422, -0.08325662]), array([-0.99261598,  0.07128534, -0.09814727]), array([-0.99204744,  0.09161861, -0.08629929])]\n"
     ]
    }
   ],
   "source": [
    "quat1 = quaternions.iloc[:, 0:4].to_numpy()[1:]\n",
    "quats = quaternion.as_quat_array(quat1[:10])\n",
    "# consider quaternions to be a rotation from x axis\n",
    "vector = np.quaternion(0, 1, 0, 0)\n",
    "print(vector)\n",
    "vector = quats * vector * quats.conjugate()\n",
    "\n",
    "# print(quats)\n",
    "# print(quats.conjugate())\n",
    "vectors = quaternion.as_float_array(vector)[:, 1:]\n",
    "# plots subsequent orientations\n",
    "vector_plot(list(vectors))\n",
    "print(list(vectors))"
   ]
  },
  {
   "cell_type": "code",
   "execution_count": null,
   "metadata": {},
   "outputs": [],
   "source": [
    "def get_batch_mod(traj,batch_size,batch_length,dt):\n",
    "\n",
    "  twice_dim = traj.size()[2]\n",
    "  dim = twice_dim//2\n",
    "  sampled_is = torch.randint(traj.shape[0],size = (batch_size,)).to(device)\n",
    "  sampled_js = torch.randint(traj.shape[1]-batch_length,size = (batch_size,)).to(device)\n",
    "  initial_time = sampled_js*dt\n",
    "\n",
    "  batch_t = torch.linspace(0.0,dt*(batch_length-1),batch_length).to(device)\n",
    "  qs = traj[sampled_is,sampled_js,:dim]\n",
    "  ps = traj[sampled_is,sampled_js,dim:]\n",
    "  pos_init = (ps, qs)\n",
    "  # print('p', ps)\n",
    "  # print('q', qs)\n",
    "\n",
    "  sampled_trajs = []\n",
    "\n",
    "  for i in range(batch_size):\n",
    "      qs = traj[sampled_is[i],sampled_js[i]:sampled_js[i]+batch_length,:dim].view(-1,dim)\n",
    "      ps = traj[sampled_is[i],sampled_js[i]:sampled_js[i]+batch_length,dim:].view(-1,dim)\n",
    "      x = torch.cat((ps, qs), dim=1)\n",
    "      sampled_trajs.append(x)\n",
    "\n",
    "      \n",
    "  batch_trajs = torch.stack(sampled_trajs,dim=1)\n",
    "  return batch_t,pos_init,batch_trajs\n",
    "     \n",
    "\n",
    "def get_data():\n",
    "    train_split = 0.9\n",
    "    test_split = 1 - train_split\n",
    "    trajs = np.load('data/trajectories/diatomic_spring_narrow.npy')\n",
    "    split_index = int(trajs.shape[0] * train_split)\n",
    "\n",
    "    np.random.shuffle(trajs)\n",
    "    training_trajs = torch.Tensor(trajs[:split_index, :, :]).to(device)\n",
    "    testing_trajs = torch.Tensor(trajs[split_index:, :, :]).to(device)\n",
    "    \n",
    "    return training_trajs, testing_trajs \n",
    "\n",
    "def train_model(niters, training_trajs, dt, sample_length, batch_size, learning_rate, nn_depth, nn_width):    \n",
    "    loss_meter = RunningAverageMeter()\n",
    "    dim = training_trajs.size()[2] // 2\n",
    "    func = ODEFunc(dim, nn_width, nn_depth).to(device)\n",
    "    optimizer = torch.optim.Adam(func.parameters(), lr=learning_rate)\n",
    "\n",
    "    for itr in range(1, niters + 1):\n",
    "        start = time.perf_counter()\n",
    "        optimizer.zero_grad()\n",
    "        \n",
    "        batch_t, batch_y0, batch_y = get_batch_mod(training_trajs, batch_size, sample_length,dt)\n",
    "        \n",
    "        # convert momentum to velocity (v = p / mu)\n",
    "        batch_y0 = (batch_y0[0] / func.mass, batch_y0[1])\n",
    "        pred_y = odeint_adjoint(func, batch_y0, batch_t, method='NVE')\n",
    "\n",
    "        # convert velocity to momentum (p = mu * v)\n",
    "        pred_y = (pred_y[0] * func.mass, pred_y[1])\n",
    "        pred_y = torch.cat(pred_y, dim=2)\n",
    "        \n",
    "        loss = torch.mean(torch.abs(pred_y[:, :, 0] - batch_y[:, :, 0]))\n",
    "        loss.backward() \n",
    "        optimizer.step()\n",
    "        loss_meter.update(loss.item())\n",
    "        \n",
    "        if itr % 10 == 0: # output log throughout\n",
    "            print('Iter: {}, running avg elbo: {:.4f}'.format(itr, loss_meter.avg))\n",
    "            print('current loss: {:.4f}'.format(loss_meter.val))\n",
    "            print('Last iteration took: ', time.perf_counter() - start)\n",
    "\n",
    "    return func, loss_meter\n",
    "\n",
    "def test_model(func, testing_trajs, dt):    \n",
    "    loss_meter = RunningAverageMeter()\n",
    "    batch_size = testing_trajs.shape[0]\n",
    "    sample_length = testing_trajs.shape[1]\n",
    "    batch_t, batch_y0, batch_y = get_first_batch(testing_trajs, batch_size, sample_length, dt)\n",
    "        \n",
    "    # convert momentum to velocity (v = p / mu)\n",
    "    batch_y0 = (batch_y0[0] / func.mass, batch_y0[1])\n",
    "    pred_y = odeint_adjoint(func, batch_y0, batch_t, method='NVE')\n",
    "\n",
    "    # convert velocity to momentum (p = mu * v)\n",
    "    pred_y = (pred_y[0] * func.mass, pred_y[1])\n",
    "    pred_y = torch.cat(pred_y, dim=2)\n",
    "    \n",
    "    loss = torch.mean(torch.abs(pred_y[:, :, 0] - batch_y[:, :, 0]))\n",
    "    loss_meter.update(loss.item())\n",
    "    \n",
    "    return loss_meter\n",
    "\n",
    "def evaluate_model(sample_length, batch_size, learning_rate, nn_depth, nn_width, activation_function):\n",
    "    niters = 300\n",
    "    dt = 0.1\n",
    "    t0 = time.perf_counter()\n",
    "\n",
    "    training_trajs, testing_trajs = get_data()\n",
    "    model, train_loss = train_model(niters, training_trajs, dt, sample_length, batch_size, learning_rate, nn_depth, nn_width)\n",
    "    training_time = time.perf_counter() - t0\n",
    "\n",
    "    test_loss = test_model(model, testing_trajs, dt)\n",
    "\n",
    "    training_and_testing_time = time.perf_counter() - t0\n",
    "    return train_loss, test_loss, training_time, training_and_testing_time\n",
    "\n",
    "\n",
    "import sigopt\n",
    "\n",
    "def run_and_track_in_sigopt():\n",
    "\n",
    "#   sigopt.log_dataset(DATASET_NAME)\n",
    "#   sigopt.log_metadata(key=\"Dataset Source\", value=DATASET_SRC)\n",
    "#   sigopt.log_metadata(key=\"Feature Eng Pipeline Name\", value=FEATURE_ENG_PIPELINE_NAME)\n",
    "#   sigopt.log_metadata(\n",
    "#     key=\"Dataset Rows\", value=features.shape[0]\n",
    "#   )  # assumes features X are like a numpy array with shape\n",
    "#   sigopt.log_metadata(key=\"Dataset Columns\", value=features.shape[1])\n",
    "#   sigopt.log_metadata(key=\"Execution Environment\", value=\"Colab Notebook\")\n",
    "  sigopt.log_model('Neural ODE Simple Harmonic Motion')\n",
    "  learning_rates = [10**i for i in range(-5, 1)]\n",
    "  sigopt.params.setdefaults(\n",
    "    sample_length=np.random.randint(low=3, high=50),\n",
    "    batch_size=np.random.randint(low=10, high=1000),\n",
    "    learning_rate=np.random.choice(learning_rates),\n",
    "    nn_depth=np.random.randint(low=1, high=5),\n",
    "    nn_width=np.random.randint(low=2, high=50),\n",
    "    # activation_function=,  \n",
    "  )\n",
    "\n",
    "  args = dict(\n",
    "    sample_length=sigopt.params.sample_length,\n",
    "    batch_size=sigopt.params.batch_size,\n",
    "    learning_rate=sigopt.params.learning_rate,\n",
    "    nn_depth=sigopt.params.nn_depth,\n",
    "    nn_width=sigopt.params.nn_width,\n",
    "    activation_function=None,\n",
    "  )\n",
    "\n",
    "  train_loss, test_loss, training_time, training_and_validation_time = evaluate_model(**args)\n",
    "\n",
    "  running_avg_train_loss = train_loss.avg\n",
    "  running_avg_test_loss = test_loss.avg\n",
    "\n",
    "  sigopt.log_metric(name=\"train_loss\", value=running_avg_train_loss)\n",
    "  sigopt.log_metric(name=\"test_loss\", value=running_avg_test_loss)\n",
    "  sigopt.log_metric(name=\"training time (s)\", value=training_time)\n",
    "  sigopt.log_metric(name=\"training and validation time (s)\", value=training_and_validation_time)\n",
    "\n",
    "run_and_track_in_sigopt()"
   ]
  },
  {
   "cell_type": "code",
   "execution_count": null,
   "metadata": {},
   "outputs": [],
   "source": [
    "import matplotlib.pyplot as plt\n",
    "prefix = 'hexagons/trajectories/dump_2303/'\n",
    "file_name = prefix+'NVE-temp-0.2_K-0.493827160493827_r-0_s-5'\n",
    "# prefix = 'hexagons/trajectories/inertia_issue/'\n",
    "# file_name = prefix+'NVE-temp-0.45_K-0.219478737997257_r-0_s-5'\n",
    "end_index = 100\n",
    "\n",
    "centre_of_masses, quaternions, velocities, ang_velocities, ang_momenta, inertia = get_data()\n",
    "\n",
    "quat_1 = quaternions.loc[:, ['c_q_1[1]', 'c_q_1[2]', 'c_q_1[3]', \"c_q_1[4]\"]].to_numpy()\n",
    "# ang_vel_1 = ang_velocities.loc[:, ['c_av_1[1]', 'c_av_1[2]', 'c_av_1[3]']].to_numpy()\n",
    "ang_mom_1 = ang_momenta.loc[:, ['c_am_1[1]', 'c_am_1[2]', 'c_am_1[3]']].to_numpy()\n",
    "ang_mom_2 = ang_momenta.loc[:, ['c_am_2[1]', 'c_am_2[2]', 'c_am_2[3]']].to_numpy()\n",
    "inertia_1 = inertia.loc[0, ['c_i_1[1]', 'c_i_1[2]', 'c_i_1[3]']].to_numpy()\n",
    "inertia_2 = inertia.loc[0, ['c_i_2[1]', 'c_i_2[2]', 'c_i_2[3]']].to_numpy()\n",
    "# print(inertia_1)\n",
    "# print(inertia_2)\n",
    "# print(ang_mom_1)\n",
    "# print(ang_mom_1**2 / 2 * inertia_1)\n",
    "E_k_1 = np.sum(ang_mom_1**2 / 2 * inertia_1, axis=1) \n",
    "E_k_2 = np.sum(ang_mom_2**2 / 2 * inertia_2, axis=1)\n",
    "\n",
    "# Plot energy\n",
    "plt.plot(E_k_1[:end_index], label='E_k_1')\n",
    "plt.plot(E_k_2[:end_index], label='E_k_2')\n",
    "plt.legend()\n",
    "plt.show()\n",
    "\n",
    "\n",
    "# # Plot each column of inertia_1 as a separate line\n",
    "plt.plot(ang_mom_1[:end_index, 0], 'r', label='angmom_x')\n",
    "plt.plot(ang_mom_1[:end_index, 1], 'g', label='angmom_y')\n",
    "plt.plot(ang_mom_1[:end_index, 2], 'b', label='angmom_z')\n",
    "plt.legend()\n",
    "plt.show()"
   ]
  },
  {
   "cell_type": "code",
   "execution_count": 54,
   "metadata": {},
   "outputs": [
    {
     "name": "stdout",
     "output_type": "stream",
     "text": [
      "(400, 3)\n",
      "(2, 400, 3)\n",
      "[[212   0]\n",
      " [212   1]\n",
      " [212   2]\n",
      " [213   0]\n",
      " [213   1]\n",
      " [213   2]\n",
      " [352   0]\n",
      " [352   1]\n",
      " [352   2]\n",
      " [353   0]\n",
      " [353   1]\n",
      " [353   2]]\n",
      "===\n",
      "[212   0]\n",
      "[38.2092  48.0992  -9.61882] [38.2092  48.0992  -9.61882]\n",
      "0.0\n",
      "===\n",
      "[212   1]\n",
      "[38.2092  48.0992  -9.61882] [38.2092  48.0992  -9.61882]\n",
      "0.0\n",
      "===\n",
      "[212   2]\n",
      "[38.2092  48.0992  -9.61882] [38.2092  48.0992  -9.61882]\n",
      "0.0\n",
      "===\n",
      "[213   0]\n",
      "[38.468   49.1537  -9.63282] [38.468   49.1537  -9.63282]\n",
      "0.0\n",
      "===\n",
      "[213   1]\n",
      "[38.468   49.1537  -9.63282] [38.468   49.1537  -9.63282]\n",
      "0.0\n",
      "===\n",
      "[213   2]\n",
      "[38.468   49.1537  -9.63282] [38.468   49.1537  -9.63282]\n",
      "0.0\n",
      "===\n",
      "[352   0]\n",
      "[36.1959  43.0231  -5.16176] [36.1959  43.0231  -5.16176]\n",
      "0.0\n",
      "===\n",
      "[352   1]\n",
      "[36.1959  43.0231  -5.16176] [36.1959  43.0231  -5.16176]\n",
      "0.0\n",
      "===\n",
      "[352   2]\n",
      "[36.1959  43.0231  -5.16176] [36.1959  43.0231  -5.16176]\n",
      "0.0\n",
      "===\n",
      "[353   0]\n",
      "[35.602   43.7333  -5.99043] [35.602   43.7333  -5.99043]\n",
      "0.0\n",
      "===\n",
      "[353   1]\n",
      "[35.602   43.7333  -5.99043] [35.602   43.7333  -5.99043]\n",
      "0.0\n",
      "===\n",
      "[353   2]\n",
      "[35.602   43.7333  -5.99043] [35.602   43.7333  -5.99043]\n",
      "0.0\n"
     ]
    }
   ],
   "source": [
    "r = np.load('wtf_r.npy')\n",
    "x = np.load('wtf_x.npy')\n",
    "print(r.shape)\n",
    "print(x.shape)\n",
    "indices = np.argwhere(np.isnan(r))\n",
    "print(indices)\n",
    "for i in indices:\n",
    "    print('===')\n",
    "    # print('BOTH ATOMS', x[:, 0, :])\n",
    "    # print('===')\n",
    "    print(i)\n",
    "    a = x[0, i[0], :].squeeze()\n",
    "    b = x[1, i[0], :].squeeze()\n",
    "    print(a, b)\n",
    "    print(np.linalg.norm(a - b))\n",
    "    "
   ]
  },
  {
   "cell_type": "code",
   "execution_count": 66,
   "metadata": {},
   "outputs": [
    {
     "name": "stdout",
     "output_type": "stream",
     "text": [
      "Found timestep: 1e-05, n of run steps: 100000000, and dump log freq: 10000\n"
     ]
    }
   ],
   "source": [
    "from diffmd.solvers import odeint_adjoint\n",
    "\n",
    "prefix = 'hexagons/trajectories/dump_2503/cutoff-2.5/'\n",
    "file_name = prefix+'NVE-temp-1.5_K-0.0272108843537415_r-0_s-5'\n",
    "\n",
    "reader = Reader(file_name)\n",
    "# log_labels, log_lines = reader.read_simulation_log()\n",
    "traj_labels, traj_lines = reader.read_reduced_traj(save=True)\n",
    "orig_labels, orig_lines = reader.read_original_traj(save=True)\n",
    "\n",
    "\n",
    "centre_of_masses, quaternions, velocities, ang_velocities, ang_momenta, inertia = get_data()\n",
    "\n",
    "inertia = process_inertia(inertia)\n",
    "trajectory = process_data(centre_of_masses, quaternions, velocities, ang_momenta, inertia)\n",
    "\n",
    "# Get centre of mass positions\n",
    "x =  trajectory[2].cpu().detach().numpy().squeeze()\n",
    "diff = x[:, 0, :] - x[:, 1, :]\n",
    "norm = np.linalg.norm(diff, axis=1)\n",
    "for n in norm:\n",
    "    if n == 0:\n",
    "        print(n)\n",
    "    if n != n:\n",
    "        print('NAN')"
   ]
  },
  {
   "cell_type": "code",
   "execution_count": 16,
   "metadata": {},
   "outputs": [
    {
     "name": "stdout",
     "output_type": "stream",
     "text": [
      "(1, 2, 800, 3)\n",
      "0.0\n",
      "0.0\n",
      "[ 1.4187   4.7227  -4.33923]\n",
      "[ 3.1509   5.1078  -3.24636]\n",
      "[-2.8507  -5.0173   3.17461]\n",
      "[-2.0579  -5.5425   4.97377]\n",
      "[-0.3201  -0.0764  -0.54938]\n",
      "[-0.24     -1.1287    1.479228]\n",
      "[-3.1402   -6.1093    5.548886]\n",
      "[-2.8149   -6.7021    4.336841]\n",
      "[-0.0966  -0.3781   0.38296]\n",
      "[-0.1098  -0.0658  -0.04038]\n",
      "[ 2.3087    3.2387   -2.470422]\n",
      "[ 0.949     3.7695   -2.937366]\n",
      "[-2.3192  -3.489    2.04655]\n",
      "[-0.8795  -3.3924   3.26336]\n",
      "[ 6.6548  11.8663  -9.28322]\n",
      "[ 4.4597  12.044   -9.16687]\n",
      "[ -5.3239  -12.7314   10.73419]\n",
      "[ -6.7929   -13.3352     9.379845]\n",
      "[-0.8418  -0.3327  -0.01143]\n",
      "[ 0.5616  -0.2698   0.47636]\n",
      "[ 5.7083   11.5676   -9.129292]\n",
      "[ 4.964   11.3914  -8.58671]\n",
      "[ 3.8189   6.4305  -4.60853]\n",
      "[ 2.5491   7.2687  -5.96236]\n",
      "[-0.6698  -1.0295   1.11572]\n",
      "[-0.6274  -1.7611   1.03761]\n",
      "[ 0.9794   0.9341  -0.50395]\n",
      "[-0.0655   1.0319  -1.01318]\n",
      "[-0.1703 -0.0975 -0.0137]\n",
      "[ 0.3472   0.478   -0.27994]\n",
      "[ 0.9923   1.301   -1.37737]\n",
      "[-0.0489   0.7285  -0.18869]\n",
      "[ 0.0478   -0.6417    0.939424]\n",
      "[-0.9175  -1.2293   0.50428]\n",
      "[-0.1423  -1.9781   2.42187]\n",
      "[-1.8182  -2.2395   0.83258]\n",
      "[-2.3332  -3.7446   2.69375]\n",
      "[-0.8213  -3.0417   2.54275]\n",
      "[ 0.7476   1.7696  -1.44993]\n",
      "[ 1.2572    2.5431   -1.877932]\n",
      "[-1.4125   -3.1284    3.406193]\n",
      "[-1.2997  -2.7065   1.09622]\n",
      "[ 2.0613   3.1802  -1.86428]\n",
      "[ 1.2259   3.8915  -3.59245]\n",
      "[ 5.0429  10.6775  -9.19255]\n",
      "[ 4.8186  10.5373  -7.17762]\n",
      "[ -6.6095   -13.2384     9.862202]\n",
      "[ -6.038   -13.9699   11.13273]\n",
      "[-1.3313    -2.5096     2.9584014]\n",
      "[-1.2188  -2.9765   1.27484]\n",
      "[-3.468   -7.9159   6.28319]\n",
      "[-3.8876  -7.908    5.92715]\n",
      "[-3.7243  -6.0089   5.22993]\n",
      "[-1.376    -4.9632    3.236564]\n",
      "[ -5.7261   -11.3646     8.608234]\n",
      "[ -5.064   -11.8481    9.30353]\n",
      "[ 0.3974   0.5874  -0.66617]\n",
      "[ 0.5017   1.347   -0.82648]\n",
      "[ 2.4659   5.1118  -3.69712]\n",
      "[ 2.6049   5.7968  -4.72043]\n",
      "[-1.1224  -1.6269   1.15885]\n",
      "[-0.3517  -1.5442   1.28811]\n",
      "[ 4.2625    6.5134   -5.322254]\n",
      "[ 2.076     7.1224   -5.199678]\n",
      "[ 0.7044  1.3402 -0.6797]\n",
      "[ 0.3716   0.9747  -1.10659]\n",
      "[ 3.949   7.417  -5.9952]\n",
      "[ 3.2297   8.0263  -5.92151]\n",
      "[-1.3706  -2.334    1.48457]\n",
      "[-0.5899   -1.8837    1.769888]\n",
      "[-3.5353  -7.0754   5.25266]\n",
      "[-3.4222   -7.8924    6.297008]\n",
      "[ 3.4559   6.1226  -4.51393]\n",
      "[ 2.4403   6.5618  -5.27393]\n",
      "[ -4.7042  -10.1551    8.07537]\n",
      "[ -4.833   -10.362     7.75647]\n",
      "[ 0.8315   -0.0107   -0.236555]\n",
      "[-0.6399    0.4229   -0.081549]\n",
      "[-1.6317  -2.9897   1.38483]\n",
      "[-1.1837  -3.0672   3.28887]\n",
      "[-0.9765  -1.1411   0.57226]\n",
      "[ 0.0625  -0.8251   0.94486]\n",
      "[-2.9737  -5.4916   3.94509]\n",
      "[-1.876   -4.9414   4.10542]\n",
      "[ 2.2434  5.1134 -4.139 ]\n",
      "[ 2.96     6.0806  -4.49877]\n",
      "[ -6.2311  -11.7664    9.87394]\n",
      "[ -4.6327   -11.6048     8.160182]\n",
      "[0.7703  0.7087  0.19957]\n",
      "[ 0.1142   1.194   -1.66776]\n",
      "[ 1.3995   3.8523  -3.28437]\n",
      "[ 2.3152   4.1389  -2.88198]\n",
      "[ 1.1071   3.3897  -2.68141]\n",
      "[ 1.8115   2.8891  -2.16358]\n",
      "[  5.6728   12.1202  -10.41319]\n",
      "[ 5.6923  12.3292  -8.45288]\n",
      "[ 0.4218   2.7044  -1.86259]\n",
      "[ 2.3936  3.3525 -2.8111]\n",
      "[ 4.337    9.4585  -8.51409]\n",
      "[ 4.7138  10.0122  -6.51026]\n",
      "[ 3.3062  7.475  -5.5026]\n",
      "[ 4.3442   8.9832  -7.19714]\n",
      "[0.8371  0.2904  0.15762]\n",
      "[-0.4981   0.4389  -0.72042]\n",
      "[ 2.2958    6.9364   -6.093304]\n",
      "[ 4.3818   7.4288  -4.99143]\n",
      "[-0.7725  -1.3876   1.35962]\n",
      "[-0.5689  -1.4981   0.86711]\n",
      "[ 4.3011   9.8294  -8.09476]\n",
      "[ 4.9414  10.0535  -7.24769]\n",
      "[-0.0932  -0.1334  -0.02491]\n",
      "[-0.0099 -0.0885  0.1962]\n",
      "[-2.8685  -6.1957   5.87265]\n",
      "[-3.2489   -6.9645    4.282241]\n",
      "[-1.6409  -2.6231   1.39038]\n",
      "[-1.1008   -3.2752    3.160967]\n",
      "[ 1.1428  2.0227 -0.9657]\n",
      "[ 0.8473    2.2583   -2.337699]\n",
      "[ 5.6563  10.8194  -8.22118]\n",
      "[ 4.8242   11.7274   -9.176725]\n",
      "[ 2.3217   2.9406  -2.02464]\n",
      "[ 0.6264   3.4016  -2.86928]\n",
      "[-2.6675   -4.7337    4.034439]\n",
      "[-2.0495   -5.4139    3.795837]\n",
      "[ 0.7171   1.2422  -0.77683]\n",
      "[ 0.4769   1.3264  -1.20521]\n",
      "[-4.3256  -8.642    7.48361]\n",
      "[-3.3986  -7.9747   5.33847]\n",
      "[-2.9499  -7.421    6.26919]\n",
      "[-3.8308  -7.1661   4.98683]\n",
      "[-1.2185  -0.6301   0.32839]\n",
      "[ 0.8794  -0.0992   0.23441]\n",
      "[-2.8422  -4.4071   3.46216]\n",
      "[-1.005   -3.8696   2.92441]\n",
      "[-1.4017    -2.0814     1.1513695]\n",
      "[-0.5588  -2.1362   2.10309]\n",
      "[ 1.8676    1.8265   -1.125619]\n",
      "[-0.0103    2.1692   -1.957556]\n",
      "[-2.0489 -2.4863  0.9775]\n",
      "[-0.1179  -2.1752   2.61954]\n",
      "[ 0.6475   1.3538  -1.15118]\n",
      "[ 0.5907   1.3099  -0.90427]\n",
      "[-3.4113  -6.9205   4.65995]\n",
      "[-3.3548  -7.6349   6.57161]\n",
      "[ 0.5037    1.0783   -1.370583]\n",
      "[ 0.4986   1.078   -0.29335]\n",
      "[-0.507   -2.6152   2.47139]\n",
      "[-2.2643 -3.3464  2.1289]\n",
      "[ 4.293   10.2268  -7.97242]\n",
      "[ 5.8043  11.4955  -8.78927]\n",
      "[ 4.0999    7.5734   -5.726844]\n",
      "[ 3.3293   8.4091  -6.60585]\n",
      "[ 0.0434   0.0548  -0.04375]\n",
      "[-0.0582  -0.0865   0.06822]\n",
      "[ 3.6888   6.0812  -5.34757]\n",
      "[ 1.9716   6.0959  -4.04877]\n",
      "[ 1.5962   4.6456  -3.74881]\n",
      "[ 3.0323    5.3118   -3.934655]\n",
      "[-1.7391  -4.2884   2.72662]\n",
      "[-2.0493  -3.8614   3.56206]\n",
      "[-2.1275   -5.1222    3.400492]\n",
      "[-3.1349   -6.1988    5.335158]\n",
      "[ 3.1383   5.302   -3.54003]\n",
      "[ 1.2986   4.2431  -3.82532]\n",
      "[-2.5082  -5.5682   3.44371]\n",
      "[-2.9901  -6.2601   5.68346]\n",
      "[-0.9943  -3.6146   3.52594]\n",
      "[-2.1897 -3.235   1.7595]\n",
      "[-0.4292  -0.0377   0.06373]\n",
      "[ 0.5323   0.2596  -0.23502]\n",
      "[-3.0599  -7.4528   6.55252]\n",
      "[-4.0303  -7.8003   5.21737]\n",
      "[ 2.7144   4.163   -2.23552]\n",
      "[ 1.0149   3.8598  -3.95529]\n",
      "[-4.6946   -8.4321    5.544034]\n",
      "[-3.1473 -8.4383  7.4738]\n",
      "[ -5.6458  -12.325     9.65292]\n",
      "[ -6.0731  -12.8854    9.80043]\n",
      "[-0.1158   -1.5973    1.118397]\n",
      "[-1.7415   -2.3983    1.964774]\n",
      "[-4.2534  -8.6198   6.36764]\n",
      "[ -4.5025  -10.2167    8.16732]\n",
      "[-2.2989   -3.1189    3.020512]\n",
      "[-0.3986   -2.6843    1.457438]\n",
      "[-0.9899  -3.3763   3.40592]\n",
      "[-1.8845  -2.8074   1.36566]\n",
      "[ 2.8568   5.4584  -3.73978]\n",
      "[ 2.0076   5.0063  -4.33519]\n",
      "[-2.8627  -6.5257   5.44776]\n",
      "[-2.5619  -5.144    3.55706]\n",
      "[-4.5356   -9.2715    6.199715]\n",
      "[-4.2204   -9.565     8.335242]\n",
      "[-4.3703  -7.2568   5.96434]\n",
      "[-2.4841  -7.4889   5.41403]\n",
      "[ 6.0268  10.8271  -8.32473]\n",
      "[ 3.9378   10.6097   -8.216727]\n",
      "[ 1.7988   2.0723  -1.17365]\n",
      "[ 0.088    1.9868  -1.95847]\n",
      "[-1.5174  -4.6912   3.93415]\n",
      "[-2.5511  -4.0612   2.81946]\n",
      "[ 1.6112   3.0983  -2.01088]\n",
      "[ 1.1454   2.8317  -2.56494]\n",
      "[ 3.2472    7.6973   -5.936037]\n",
      "[ 4.1378   8.19    -6.32325]\n",
      "[ 2.0426   5.3947  -3.65452]\n",
      "[ 3.4261  6.3702 -5.4237]\n",
      "[ 2.3068   5.0946  -4.09935]\n",
      "[ 2.6608   5.5922  -4.14692]\n",
      "[-0.9731  -4.0034   3.70694]\n",
      "[-2.7269   -3.9562    2.434928]\n",
      "[  6.8523   14.1792  -10.54539]\n",
      "[  6.8271   15.2488  -12.16242]\n",
      "[ 0.3451   1.5282  -0.98596]\n",
      "[ 0.7752   0.8819  -0.87372]\n",
      "[ 2.3304    3.3185   -3.024465]\n",
      "[ 0.4261    2.6115   -1.551362]\n",
      "[ 1.6236   2.8029  -2.17357]\n",
      "[ 0.7348   2.2709  -1.74156]\n",
      "[-1.7569  -3.448    3.25998]\n",
      "[-1.6187  -3.8138   2.34356]\n",
      "[ 2.9071   6.6239  -4.73088]\n",
      "[ 3.7262    7.6462   -6.280446]\n",
      "[ 2.753    6.8159  -5.42861]\n",
      "[ 4.1899   8.1202  -6.09658]\n",
      "[ 3.3093    8.1632   -6.426557]\n",
      "[ 4.8423   9.3731  -7.10515]\n",
      "[-0.4701   -3.0786    3.076242]\n",
      "[-2.1537   -2.5659    1.279355]\n",
      "[-2.0859  -3.0473   2.06358]\n",
      "[-0.3315  -2.1533   1.94944]\n",
      "[-3.8182  -9.0519   6.55876]\n",
      "[-4.982     -9.8797     8.0496011]\n",
      "[ 1.0407    1.3775   -0.292712]\n",
      "[ 0.4334   1.7937  -2.15425]\n",
      "[  6.4645   13.5622  -10.81877]\n",
      "[  6.4925   14.312   -10.69003]\n",
      "[ 0.1416   1.3542  -0.36083]\n",
      "[ 1.4357    2.0389   -2.257416]\n",
      "[ 2.6952   5.6439  -3.90527]\n",
      "[ 2.9947    6.5966   -5.540004]\n",
      "[ 2.7255   4.5485  -4.26164]\n",
      "[ 1.5935    4.7429   -2.907961]\n",
      "[-0.0228  -0.024   -0.05561]\n",
      "[ 0.0079  -0.0077   0.08008]\n",
      "[ 1.9354    4.1193   -3.193708]\n",
      "[ 2.3246    5.0453   -3.878018]\n",
      "[ 0.2338   -0.6293   -0.321151]\n",
      "[-0.9413   -0.8928    1.495693]\n",
      "[ 3.7297    7.7924   -6.082171]\n",
      "[ 3.5227    7.8095   -5.956882]\n",
      "[ 1.8509   5.4354  -4.64195]\n",
      "[ 3.6031  6.2977 -4.4118]\n",
      "[ -5.3341  -12.138    10.15414]\n",
      "[ -5.8835  -11.9942    8.46725]\n",
      "[ 2.4311   3.599   -2.27064]\n",
      "[ 0.6939   3.1238  -2.91693]\n",
      "[ 1.7208  2.0442 -0.4075]\n",
      "[ 0.2397   2.1734  -2.84696]\n",
      "[ -6.1599  -11.5966    9.03321]\n",
      "[ -4.7039  -11.7746    9.00089]\n",
      "[ 1.8116   4.0876  -3.71235]\n",
      "[ 2.0063   4.1256  -2.62529]\n",
      "[-0.785    -1.1316    1.389025]\n",
      "[-0.3795  -1.3736   0.54407]\n",
      "[ 2.3759   2.8476  -2.24304]\n",
      "[ 0.3953   3.1141  -2.35725]\n",
      "[ 5.2114   9.5142  -6.72477]\n",
      "[ 3.8098   9.8931  -8.25064]\n",
      "[-2.5669  -6.4015   5.72847]\n",
      "[-3.1672  -5.9342   3.79022]\n",
      "[ 2.0619    4.4557   -2.641437]\n",
      "[ 2.154    4.6137  -4.35688]\n",
      "[-1.4459  -2.6343   1.44087]\n",
      "[-1.1632  -2.9786   2.89025]\n",
      "[-2.9133  -4.9414   3.32014]\n",
      "[-1.8479  -5.3013   4.58355]\n",
      "[-1.7316   -4.1382    2.691108]\n",
      "[-2.4252  -4.8043   4.20933]\n",
      "[ 0.9799    2.1011   -1.735212]\n",
      "[ 1.187     2.5605   -1.861821]\n",
      "[-1.5617  -4.9534   4.27467]\n",
      "[-3.3616  -5.6381   3.89818]\n",
      "[-2.4828  -4.115    2.91875]\n",
      "[-1.2318 -3.8763  3.2476]\n",
      "[-0.6766   -1.9581    2.002434]\n",
      "[-1.3723   -2.4498    1.398849]\n",
      "[-2.531   -5.0134   4.04444]\n",
      "[-1.729   -4.1511   3.02728]\n",
      "[ 2.7463   7.4863  -6.32698]\n",
      "[ 3.8576   6.7204  -4.63541]\n",
      "[ 3.8476   9.268   -7.30703]\n",
      "[ 5.2916  10.3929  -7.86413]\n",
      "[ 0.0848  -0.2339   0.80838]\n",
      "[-0.3501  -0.337   -0.36793]\n",
      "[-4.4917   -7.7781    6.247077]\n",
      "[-2.9966   -8.3312    6.183497]\n",
      "[ 2.4236   4.8061  -2.75992]\n",
      "[ 2.1755  5.0878 -4.8746]\n",
      "[ -6.0638  -14.0765   11.84743]\n",
      "[ -7.1144  -14.2733   10.02841]\n",
      "[ 4.5241   8.5715  -6.49891]\n",
      "[ 3.5685   8.838   -6.93492]\n",
      "[ 5.3971    10.0775    -8.3542714]\n",
      "[ 3.683    9.4566  -6.71902]\n",
      "[-2.6168   -6.5104    5.723771]\n",
      "[-4.0755  -7.8865   5.38544]\n",
      "[-2.4117  -5.085    3.95835]\n",
      "[-2.4379  -5.3479   4.09217]\n",
      "[-0.8507  -1.4287   1.32575]\n",
      "[ 0.1578  -0.0616  -0.17568]\n",
      "[-2.6681  -6.914    5.30486]\n",
      "[-4.1715   -7.8       6.049046]\n",
      "[ 0.307  -1.1562  1.132 ]\n",
      "[-1.6632   -1.7613    1.119205]\n",
      "[-1.592   -1.743    1.28294]\n",
      "[-0.1179  -1.9355   1.55553]\n",
      "[-3.7229  -8.8066   7.14176]\n",
      "[-4.9151  -9.7762   7.19745]\n",
      "[ 1.4369   2.272   -2.48685]\n",
      "[ 0.9511    2.8652   -1.477236]\n",
      "[ 0.3915 -0.4489  0.3757]\n",
      "[-0.6421  -0.0903   0.04028]\n",
      "[ 2.834    4.21    -3.22007]\n",
      "[ 0.8364   3.6862  -2.87287]\n",
      "[ 4.1048   8.274   -6.69081]\n",
      "[ 3.4129  7.8987 -5.7887]\n",
      "[-3.7612   -6.6562    4.695996]\n",
      "[-2.5331   -6.8845    5.752541]\n",
      "[-0.8792  -0.614    0.35143]\n",
      "[-0.0199   -1.3203    1.141219]\n",
      "[ 0.1512  -0.2471  -0.46059]\n",
      "[-0.3135  -0.1017   0.72976]\n",
      "[-0.7821  -0.8836   0.47564]\n",
      "[-0.4857  -1.8436   1.62875]\n",
      "[ 0.736     3.1193   -3.260386]\n",
      "[ 2.2121   3.2229  -1.63354]\n",
      "[ 4.5156  10.8237  -9.36085]\n",
      "[ 5.4933   10.7082   -7.254026]\n",
      "[-0.5406   0.1128  -0.04493]\n",
      "[ 1.0122   0.902   -0.73811]\n",
      "[-5.0179  -9.8499   8.60665]\n",
      "[-4.1655  -9.9062   6.63792]\n",
      "[ 1.798    3.5614  -2.80926]\n",
      "[ 1.0616   2.5906  -1.93785]\n",
      "[-0.0399  -0.029   -0.00783]\n",
      "[ 0.0252 -0.0027  0.0323]\n",
      "[0.153   0.4303  0.51157]\n",
      "[ 0.4514    0.8698   -1.514826]\n",
      "[ -5.8346  -12.1293    9.52366]\n",
      "[ -5.7221  -12.7323    9.66052]\n",
      "[ 3.1988   7.0134  -6.60983]\n",
      "[ 3.3902    7.1615   -4.328102]\n",
      "[  5.6745   13.5035  -10.98793]\n",
      "[  7.3857   14.5926  -10.69216]\n",
      "[-3.5082   -5.6428    4.830297]\n",
      "[-1.7248   -5.6147    3.856412]\n",
      "[ 1.5325    2.208    -1.996706]\n",
      "[ 0.5901   2.3583  -1.52692]\n",
      "[-2.6912  -7.7665   6.72099]\n",
      "[-4.9002  -8.5648   5.88087]\n",
      "[-0.7334 -0.6259  0.1469]\n",
      "[0.4534  0.0234  0.31802]\n",
      "[-4.491   -9.1332   7.53427]\n",
      "[-4.1028  -9.3545   6.73152]\n",
      "[-0.6738  -1.3438   1.31696]\n",
      "[-0.5202  -1.2247   0.66507]\n",
      "[ 1.1321  2.843  -1.6129]\n",
      "[ 1.8456    3.5626   -3.329966]\n",
      "[-2.3502  -5.4433   3.54434]\n",
      "[-3.0744  -6.2265   5.46048]\n",
      "[ 2.5186   5.3269  -4.14767]\n",
      "[ 2.5375   5.55    -4.24541]\n",
      "[0. 0. 0.]\n",
      "[0. 0. 0.]\n",
      "[ 1.9724    3.717    -3.270482]\n",
      "[ 1.5211    3.7987   -2.528811]\n",
      "[ 1.7994   2.4382  -2.12869]\n",
      "[ 0.5001   2.5087  -1.68857]\n",
      "[ 1.2148   1.0108  -0.91893]\n",
      "[-0.6989  0.099   0.0625]\n",
      "[-1.7295  -2.1862   1.11795]\n",
      "[ 0.049   -1.4289   1.67159]\n",
      "[ 0.9956   3.6217  -3.08266]\n",
      "[ 1.8346   2.4668  -1.61551]\n",
      "[ 4.2298   8.6419  -6.47415]\n",
      "[ 4.0691   9.2116  -7.30225]\n",
      "[ 4.6065   9.8274  -7.64368]\n",
      "[ 4.7686   10.3409   -7.919002]\n",
      "[ 4.8522   9.2373  -7.97501]\n",
      "[ 3.83    9.4407 -6.4376]\n",
      "[ 0.5761     0.9314    -0.4248994]\n",
      "[ 0.3673     1.0982    -1.1411585]\n",
      "[-4.0762  -8.1549   6.67928]\n",
      "[-3.8395 -8.874   6.4609]\n",
      "[ 0.1583   0.4926  -0.72576]\n",
      "[0.107   0.0782  0.28529]\n",
      "[-1.4079  -1.5795   0.51692]\n",
      "[-0.3757 -2.2575  2.4439]\n",
      "[ 1.4074   3.6251  -2.76756]\n",
      "[ 1.8649   3.4148  -2.66471]\n",
      "[ 3.1424    5.6957   -5.518545]\n",
      "[ 2.0315  5.4349 -3.0703]\n",
      "[ 4.0425   8.686   -6.79743]\n",
      "[ 4.1828   9.0089  -6.85662]\n",
      "[-2.015  -4.8289  4.3701]\n",
      "[-2.0386  -3.8917   2.35905]\n",
      "[-2.0674  -5.6982   5.05977]\n",
      "[-3.1803  -5.5909   3.65142]\n",
      "[-0.0482   0.1934  -0.56319]\n",
      "[-0.2908  -0.9228   1.12599]\n",
      "[ 1.0258   2.6324  -1.69459]\n",
      "[ 1.5391   2.8854  -2.56313]\n",
      "[ 0.4102   0.9383  -0.31547]\n",
      "[ 0.489     0.9961   -1.177185]\n",
      "[ 2.5174    4.3159   -3.816083]\n",
      "[ 1.9342    5.2608   -3.573749]\n",
      "[-5.1256  -9.5641   7.07424]\n",
      "[ -3.9694   -10.0016     8.023519]\n",
      "[ 1.6225    2.8151   -2.547233]\n",
      "[ 0.8097    2.4173   -1.490255]\n",
      "[-4.3052  -8.7721   6.83506]\n",
      "[-4.0234  -9.1447   6.99027]\n",
      "[-0.1303  -0.1118   0.00676]\n",
      "[ 0.2924   0.4606  -0.27593]\n",
      "[ 5.9625  13.0333  -9.69745]\n",
      "[  6.5376   13.8578  -11.05279]\n",
      "[-3.5676  -7.0006   4.81188]\n",
      "[-3.1689  -7.4914   6.37074]\n",
      "[-3.8324   -7.7199    6.576918]\n",
      "[-3.2726  -7.5649   5.21744]\n",
      "[-0.0072  -0.5901   0.43893]\n",
      "[-0.9509 -1.4711  1.1516]\n",
      "[ -6.0942   -12.4666    10.423605]\n",
      "[ -5.8457  -13.2195    9.39679]\n",
      "[-1.069   -1.708    1.26574]\n",
      "[-0.3019  -1.2412   1.00994]\n",
      "[ 4.3158  10.9932  -8.93946]\n",
      "[ 5.988   11.173   -8.16481]\n",
      "[-0.7003  -2.1614   1.65983]\n",
      "[-1.2897  -2.1196   1.64357]\n",
      "[ 0.2027   0.2791  -0.35581]\n",
      "[-0.0995  -0.0571   0.18453]\n",
      "[-5.0975  -9.6561   7.05116]\n",
      "[ -4.0712  -10.0684    8.16895]\n",
      "[ 2.5279   6.0799  -5.15417]\n",
      "[ 2.8377   5.463   -3.75277]\n",
      "[  5.8882   12.3763  -10.25379]\n",
      "[ 6.037   13.278   -9.54213]\n",
      "[-1.7984 -3.8251  2.851 ]\n",
      "[-1.6658  -3.6271   2.89935]\n",
      "[ 1.4374  3.4337 -2.469 ]\n",
      "[ 1.8645   3.6696  -3.01219]\n",
      "[ 1.4624   4.2221  -2.92815]\n",
      "[ 2.5029   4.3082  -3.65418]\n",
      "[-1.3283  -3.4529   2.76564]\n",
      "[-2.1799  -4.0943   3.05813]\n",
      "[ 5.9038    10.457     -8.0339163]\n",
      "[ 4.2672   11.4237   -8.850124]\n",
      "[ -6.5206  -13.3616   10.79468]\n",
      "[ -6.2448  -14.1003   10.39602]\n",
      "[ 0.8627   -0.3749    0.997639]\n",
      "[-1.5112   -1.0204    0.079027]\n",
      "[-1.0463 -3.2343  2.3675]\n",
      "[-1.7544  -2.7909   2.28172]\n",
      "[-2.0587  -2.8637   1.56284]\n",
      "[-0.2998 -2.2102  2.3523]\n",
      "[-0.6341  -2.7369   2.56174]\n",
      "[-2.4466  -3.8908   2.55241]\n",
      "[-3.3349  -5.4072   3.71379]\n",
      "[-1.8244   -5.6918    4.850589]\n",
      "[ 0.429     2.4418   -2.005612]\n",
      "[ 2.0769    2.9491   -2.154222]\n",
      "[ -5.7315  -11.0647    8.39191]\n",
      "[ -5.1323 -12.3065   9.6422]\n",
      "[ 0.6423    1.4557   -0.183807]\n",
      "[ 0.758     1.5568   -2.140804]\n",
      "[ -5.8188  -12.4016   10.04663]\n",
      "[ -5.9     -12.8087    9.40672]\n",
      "[ 3.1905   7.3403  -5.45362]\n",
      "[ 3.7819   7.6591  -6.12051]\n",
      "[ -6.7014  -13.473    10.73172]\n",
      "[ -6.3441 -14.5915  10.9239]\n",
      "[ 1.4125   3.5206  -3.13468]\n",
      "[ 1.9926    3.8046   -2.517798]\n",
      "[-1.0721   -2.609     2.277139]\n",
      "[-1.2569    -2.4014     1.5890585]\n",
      "[-0.1921  -0.0251   0.06316]\n",
      "[ 0.2804   0.2154  -0.20997]\n",
      "[-0.0914  -1.9085   2.06216]\n",
      "[-1.7954  -2.1505   1.06995]\n",
      "[ 1.2101   2.3969  -1.73147]\n",
      "[ 0.9862    2.328    -1.914497]\n",
      "[ 0.7116   -0.0539   -0.325387]\n",
      "[-1.0211   -0.6121    0.839249]\n",
      "[ 0.4142   -0.7081    1.197992]\n",
      "[-1.0924  -0.7506  -0.07239]\n",
      "[ 5.1008  11.0434  -8.89591]\n",
      "[ 5.4387  11.6301  -8.59987]\n",
      "[ 3.6447   5.6663  -3.74274]\n",
      "[ 1.6913   5.8131  -5.11526]\n",
      "[ 4.8468   11.1948   -9.348295]\n",
      "[ 6.0908  12.3349  -8.80816]\n",
      "[ 5.6321   11.1733   -8.908749]\n",
      "[ 5.0548   11.8173   -8.831727]\n",
      "[-3.5461  -5.6571   4.95771]\n",
      "[-1.849   -5.9492   3.99817]\n",
      "[ -6.2518  -11.8328    9.96603]\n",
      "[ -4.6414   -11.6018     8.117026]\n",
      "[-3.6711 -8.6684  6.3483]\n",
      "[-4.4951  -8.8996   7.20787]\n",
      "[ 0.234    2.3337  -2.35144]\n",
      "[ 1.7265   1.8839  -0.90302]\n",
      "[-1.1783  -2.2453   1.24414]\n",
      "[-1.0771  -2.6064   2.49971]\n",
      "[ 2.6578   5.3579  -4.58423]\n",
      "[ 2.4129   5.5507  -3.83331]\n",
      "[-3.134   -6.6165   6.11088]\n",
      "[-2.9539   -6.4802    3.995071]\n",
      "[ 3.2102    6.1578   -5.192689]\n",
      "[ 2.5386   6.2096  -4.35046]\n",
      "[ 1.2479    3.6672   -3.384701]\n",
      "[ 1.9803    3.2776   -1.974142]\n",
      "[1.211    1.0037   0.147675]\n",
      "[-0.6803    0.1379   -1.028583]\n",
      "[ 1.4894   3.661   -2.91295]\n",
      "[ 1.8862    3.6009   -2.690588]\n",
      "[ 1.413    0.9757  -1.11693]\n",
      "[-0.7349   0.483   -0.00867]\n",
      "[-2.0607  -5.5212   4.50221]\n",
      "[-2.8627  -5.0704   3.67064]\n",
      "[ 3.1208     4.2104    -3.4261225]\n",
      "[ 0.8149    4.2564   -3.107267]\n",
      "[-2.7763  -5.7388   5.15474]\n",
      "[-2.265   -5.1064   3.21387]\n",
      "[ -5.4573  -10.1121    7.99422]\n",
      "[-3.4755  -9.1048   6.83438]\n",
      "[ 4.8417   9.9436  -7.57824]\n",
      "[ 4.5333   10.2246   -7.984446]\n",
      "[ -4.8373   -11.3903     8.731241]\n",
      "[ -6.4099  -12.8053    9.93908]\n",
      "[1.3462  0.5576  0.05874]\n",
      "[-0.6976  0.8377 -1.1354]\n",
      "[ 1.1958   0.9818  -0.28084]\n",
      "[-0.444     0.6354   -0.967105]\n",
      "[-0.4321   0.4064   0.33773]\n",
      "[ 1.125     1.084    -1.487804]\n",
      "[ 0.8919   3.6568  -3.37993]\n",
      "[ 2.2037   3.0025  -1.75869]\n",
      "[ 4.1018  6.886  -5.281 ]\n",
      "[ 2.62      7.5743   -5.877154]\n",
      "[-3.5792  -7.0635   5.64027]\n",
      "[-2.7887  -6.6358   4.93061]\n",
      "[ 0.5516  -0.1295   0.41154]\n",
      "[-0.301    0.6686  -0.82752]\n",
      "[ 5.1252   8.2166  -7.00284]\n",
      "[ 2.5841    8.3684   -5.794766]\n",
      "[ 1.6224    5.6248   -5.088794]\n",
      "[ 3.9643   6.3938  -4.18519]\n",
      "[ -6.1824  -12.6241    9.67813]\n",
      "[ -5.5217  -12.5546    9.75075]\n",
      "[-5.3458   -9.1797    7.492258]\n",
      "[-3.3513   -9.53      6.944814]\n",
      "[-0.1177  -1.7151   1.79797]\n",
      "[-1.6512  -2.0902   1.13838]\n",
      "[-0.6547  -3.705    3.08518]\n",
      "[-3.1042  -4.3813   3.15458]\n",
      "[ 1.8699   3.855   -3.41366]\n",
      "[ 1.2257   2.8043  -1.72496]\n",
      "[-1.4169  -2.5337   2.26027]\n",
      "[-0.6173  -1.8423   1.11653]\n",
      "[ 3.1982   7.5265  -5.89416]\n",
      "[ 3.9658    7.8852   -5.998069]\n",
      "[-3.7109  -6.2104   4.32314]\n",
      "[-2.3474  -6.8228   5.73388]\n",
      "[ 2.6628    5.1038   -4.660326]\n",
      "[ 2.0985     5.1389    -3.2433615]\n",
      "[ 5.5148   11.0276   -9.265931]\n",
      "[ 4.9511    11.4875    -8.1074985]\n",
      "[ 2.8524   6.3949  -4.64721]\n",
      "[ 3.0734   6.353   -5.18958]\n",
      "[-0.2771    0.6784   -1.232125]\n",
      "[ 1.0289    0.939    -0.015825]\n",
      "[ -5.1832   -11.199      8.287787]\n",
      "[ -5.946   -12.743    10.18678]\n",
      "[ 1.8441    3.4525   -3.190223]\n",
      "[ 1.6936   4.1583  -2.68249]\n",
      "[ 2.6887   6.6524  -6.41398]\n",
      "[ 3.6498    6.9834   -4.107956]\n",
      "[ 0.0898  -0.0267  -0.05119]\n",
      "[-0.1193  -0.0368   0.10013]\n",
      "[ -4.7133  -11.2845    9.10888]\n",
      "[ -6.4012  -12.6258    9.34122]\n",
      "[0.2152   0.136    0.769102]\n",
      "[ 0.2418    0.8471   -1.527658]\n",
      "[-0.0384  -1.0571   1.37185]\n",
      "[-0.846   -0.8457   0.09633]\n",
      "[-4.4731  -8.9167   6.93671]\n",
      "[-3.8996  -9.0953   6.96204]\n",
      "[ 4.7418    9.2212   -7.788743]\n",
      "[ 3.8226    9.203    -6.428103]\n",
      "[-4.5258  -9.0618   7.80174]\n",
      "[-3.8765  -9.0136   6.14595]\n",
      "[ -5.0655 -11.4829   9.3521]\n",
      "[ -6.2554  -12.8714    9.44057]\n",
      "[-1.3327  -2.1595   1.55628]\n",
      "[-0.2445  -1.2336   1.06197]\n",
      "[ 2.8273   6.5986  -5.84871]\n",
      "[ 3.5407   7.1007  -4.72216]\n",
      "[ 0.5512   4.0576  -3.36205]\n",
      "[ 3.3109   4.2508  -3.04899]\n",
      "[ 4.3785   8.2188  -5.88454]\n",
      "[ 3.611   8.9686 -7.378 ]\n",
      "[ 2.5034   6.4401  -5.09491]\n",
      "[ 3.8498   7.2275  -5.45151]\n",
      "[ 0.7802  1.3672 -0.9188]\n",
      "[ 0.4139   1.2015  -1.06324]\n",
      "[ 2.0261   3.8558  -2.87697]\n",
      "[ 1.3642   3.4379  -2.75105]\n",
      "[ 4.7313 10.0022 -7.8931]\n",
      "[ 4.6734  10.2296  -7.71851]\n",
      "[-5.4198  -9.4015   6.84794]\n",
      "[-3.3214  -9.4033   7.66255]\n",
      "[-1.2272  -2.5079   2.58741]\n",
      "[-0.748   -1.7413   0.69151]\n",
      "[ 1.4105   3.3946  -3.32385]\n",
      "[ 1.5818   3.0428  -1.64349]\n",
      "[  5.6782   13.6822  -11.31315]\n",
      "[  7.441    14.5408  -10.46481]\n",
      "[ 1.3157   1.7555  -0.66326]\n",
      "[ 0.3942   1.923   -2.17522]\n",
      "[-2.6059  -4.2068   3.19247]\n",
      "[-1.6247 -4.8943  3.8303]\n",
      "[-2.3108  -5.2976   3.87502]\n",
      "[-3.0843   -6.3087    5.080859]\n",
      "[-2.1195  -5.4054   4.19469]\n",
      "[-3.0103  -5.6301   4.32075]\n",
      "[-1.9156   -5.58      4.387098]\n",
      "[-3.5679   -6.2166    4.715602]\n",
      "[-0.1948 -0.085   0.0952]\n",
      "[ 0.1064  -0.1054   0.05162]\n",
      "[ 5.372   10.3112  -8.47656]\n",
      "[ 4.2831  10.4596  -7.55105]\n",
      "[ 0.7006   1.2304  -0.92452]\n",
      "[ 0.5966  1.5602 -1.2288]\n",
      "[-4.026   -8.6124   6.37266]\n",
      "[-4.1698  -9.0191   7.23245]\n",
      "[ 0.4612   0.9703  -1.00871]\n",
      "[ 0.6001  1.3129 -0.7531]\n",
      "[ 2.0804    2.2514   -1.397745]\n",
      "[-0.1347    1.9345   -1.832246]\n",
      "[-0.478   -1.3867   0.84501]\n",
      "[-0.8634  -1.499    1.38173]\n",
      "[-3.291   -7.5568   6.67433]\n",
      "[-4.1677 -8.4891  5.7073]\n",
      "[ 3.8987   5.7863  -4.17776]\n",
      "[ 1.4227    5.6615   -4.655779]\n",
      "[-4.0564   -8.8882    7.218334]\n",
      "[-4.4342  -9.3774   6.87617]\n",
      "[-2.3996  -4.1222   2.72828]\n",
      "[-1.4035  -4.0593   3.58487]\n",
      "[-0.2666  -0.5293   0.43456]\n",
      "[-0.6473  -1.4368   1.08256]\n",
      "[ -5.1403   -11.1682     9.191144]\n",
      "[ -5.3845   -11.4737     8.280161]\n",
      "[-2.0647  -3.7075   2.31597]\n",
      "[-1.7089   -4.4105    3.948246]\n",
      "[ 1.388    3.4633  -2.74779]\n",
      "[ 1.9581    3.7351   -2.806818]\n",
      "[-1.4481 -0.7013  0.1869]\n",
      "[ 0.7111  -0.8843   1.03658]\n",
      "[-4.6485  -8.0861   6.13151]\n",
      "[-2.9577  -8.2768   6.49481]\n",
      "[ 0.2529   0.0948  -0.35149]\n",
      "[-0.1645   0.0955   0.20467]\n",
      "[  6.4548   13.7843  -10.40307]\n",
      "[  7.1066   15.39    -12.10898]\n",
      "[-0.8246  -2.3158   2.71152]\n",
      "[-1.1655  -1.9652   0.59189]\n",
      "[ -7.1726  -13.461    11.42046]\n",
      "[ -5.4601   -13.7155     9.550004]\n",
      "[ 2.4946    3.3651   -1.849568]\n",
      "[ 0.3061   2.6601  -2.79966]\n",
      "[ 1.5994   1.0411  -0.74462]\n",
      "[-0.8624    0.5445   -0.478863]\n",
      "[-0.4626  -1.6465   1.51512]\n",
      "[-0.8935  -1.2709   0.73609]\n",
      "[ 1.4286   4.2101  -3.80597]\n",
      "[ 2.5515   4.3519  -2.80083]\n",
      "[-4.2242 -8.8349  6.8982]\n",
      "[-4.178   -9.2405   7.04948]\n",
      "[ 0.7501   -0.3157    0.915922]\n",
      "[-1.3987  -1.0796   0.16074]\n",
      "[ 4.8656   9.6799  -7.66383]\n",
      "[ 4.4209  10.2981  -7.75203]\n",
      "[-4.1182  -7.4056   6.08988]\n",
      "[-2.9867   -7.8792    5.704474]\n",
      "[-4.023    -9.1812    7.004726]\n",
      "[-4.3497   -8.8308    6.894021]\n",
      "[ 2.171    4.8684  -4.08754]\n",
      "[ 2.3986   4.9621  -3.49804]\n",
      "[ 1.963    3.144   -1.92597]\n",
      "[ 1.3979  4.0861 -3.6531]\n",
      "[ 2.7337   4.9503  -4.32822]\n",
      "[ 2.0274   5.2925  -3.57548]\n",
      "[ 3.6991   8.9598  -8.22634]\n",
      "[ 4.7768   9.2741  -5.84369]\n",
      "[-2.3863  -5.2911   4.16996]\n",
      "[-2.5961  -5.4273   4.10077]\n",
      "[ 4.5442   10.6648   -7.842597]\n",
      "[ 5.7153  11.4062  -9.18827]\n",
      "[ 1.5438    1.169    -0.842675]\n",
      "[-0.7626   0.5117  -0.45421]\n",
      "[ 1.0546    2.337    -2.105678]\n",
      "[ 1.4513   3.0539  -2.05416]\n",
      "[-0.1546 -0.314   0.6396]\n",
      "[-0.0666  -0.1617  -0.27255]\n",
      "[ 2.5179   5.0902  -4.42521]\n",
      "[ 2.1843  5.0257 -3.3806]\n",
      "[ 2.7469   5.5256  -3.84087]\n",
      "[ 2.5892   5.9538  -5.01714]\n",
      "[-0.2701   -1.3389    1.295011]\n",
      "[-1.0271   -1.4517    0.858318]\n",
      "[ 3.2824  9.0482 -7.5685]\n",
      "[ 5.621   10.1054  -7.21115]\n",
      "[-0.4824   -2.7869    1.451055]\n",
      "[-2.3478   -3.3016    3.247114]\n",
      "[-0.049   1.2696 -1.0468]\n",
      "[ 1.1841    1.1721   -0.837365]\n",
      "[-2.3308  -5.0972   3.35579]\n",
      "[-2.5189  -5.3358   4.69471]\n",
      "[ 2.4525     5.373     -5.2685814]\n",
      "[ 2.6477  5.5991 -3.1979]\n",
      "[ 0.7039   1.8495  -1.57499]\n",
      "[ 0.6965   1.163   -0.74963]\n",
      "[-0.9235 -0.9684  0.3217]\n",
      "[-0.0642  -1.1563   1.31776]\n",
      "[ -5.3175   -11.5449     8.361845]\n",
      "[ -5.9149  -12.6191   10.28401]\n",
      "[-0.029    -0.3649   -0.771695]\n",
      "[-0.5607   -0.9035    1.750475]\n",
      "[-4.6709  -8.5382   7.50027]\n",
      "[-3.2153   -8.4273    5.590984]\n",
      "[ 2.4453   4.4941  -3.43961]\n",
      "[ 1.9327   4.9242  -3.82786]\n",
      "[-2.44    -4.541    3.97035]\n",
      "[-1.3925  -3.7039   2.39175]\n",
      "[ 2.505     4.6851   -3.916171]\n",
      "[ 2.0056   5.0186  -3.57154]\n",
      "[ 1.0493   1.6556  -0.39974]\n",
      "[ 0.4542   1.579   -2.09617]\n",
      "[-4.4859  -9.2254   7.28825]\n",
      "[-3.3709  -7.6767   5.75406]\n",
      "[ 1.6204   4.4838  -3.30998]\n",
      "[ 2.7723   4.9661  -3.98196]\n",
      "[-0.9385   -1.9685    2.076908]\n",
      "[-0.5208   -1.1708    0.345587]\n",
      "[ 0.8278  -0.0379   0.03661]\n",
      "[-1.447   -1.294    0.99112]\n",
      "[ 3.0391   4.5109  -3.61008]\n",
      "[ 0.7787   3.7022  -2.72755]\n",
      "[ 4.7052    9.9544   -7.908562]\n",
      "[ 4.7435   10.3724   -7.776475]\n",
      "[-1.6819  -2.5404   1.81709]\n",
      "[ 0.0751 -0.9161  0.8501]\n",
      "[ 6.0148  10.817   -8.38249]\n",
      "[ 3.832   10.3661  -7.96322]\n",
      "[  6.2424    12.9292   -10.138455]\n",
      "[  6.4788   14.4376  -10.97882]\n",
      "[-2.4012   -6.1044    5.556312]\n",
      "[-3.2003  -5.9459   3.74215]\n",
      "[ 1.7865   2.354   -1.82879]\n",
      "[ 0.7784   3.1637  -2.42892]\n",
      "[  5.0578   12.1065  -10.31058]\n",
      "[ 5.983   11.6452  -8.01717]\n",
      "[ 5.2599   8.7147  -6.95176]\n",
      "[ 2.7       8.4094   -6.261835]\n",
      "[ 5.34    9.7436 -7.9917]\n",
      "[ 3.5633   9.41    -6.78795]\n",
      "[ 5.7049  10.5288  -8.36277]\n",
      "[ 3.9797   10.3054   -7.713769]\n",
      "[-2.1254  -5.0991   3.91304]\n",
      "[-3.0781  -6.0949   4.72474]\n",
      "[0.4956  0.3689  0.38138]\n",
      "[-0.1566   0.3604  -0.94418]\n",
      "[ 0.5083   0.7415  -0.56925]\n",
      "[ 0.5235   1.4783  -1.14361]\n",
      "[ 4.0638   9.0655  -7.19039]\n",
      "[ 4.2058   8.7245  -6.53707]\n",
      "[ -6.3891  -14.0378   11.45547]\n",
      "[ -6.6417  -13.9949   10.17568]\n",
      "[ -5.5166   -11.3687     8.741428]\n",
      "[ -5.0229  -11.3049    8.75436]\n",
      "[-3.3646  -7.5269   6.85942]\n",
      "[-3.6225  -7.5041   4.73918]\n",
      "[-2.1902  -4.7379   3.86082]\n",
      "[-2.4679   -5.2828    3.871584]\n",
      "[ 2.4722    7.1535   -5.085185]\n",
      "[ 4.4116    7.6556   -6.342134]\n",
      "[-3.3185  -5.7261   3.77994]\n",
      "[-1.7965  -5.2776   4.71102]\n"
     ]
    }
   ],
   "source": [
    "a = np.load('debugger_traj.npy')\n",
    "print(a.shape)\n",
    "count = 0\n",
    "for i in a:\n",
    "    diff = i[0, :, :] - i[1, :, :]\n",
    "    norm = np.linalg.norm(diff, axis=1)\n",
    "    for n in norm:\n",
    "        if n == 0:\n",
    "            pass\n",
    "            # print(count)\n",
    "            print(n)\n",
    "        if n != n:\n",
    "            pass\n",
    "            print('NAN')\n",
    "    count += 1\n",
    "\n",
    "diff = a[0, 0, :, :] - a[0, 1, :, :]\n",
    "for i in diff:\n",
    "    print(i)"
   ]
  },
  {
   "cell_type": "code",
   "execution_count": 135,
   "metadata": {},
   "outputs": [
    {
     "name": "stdout",
     "output_type": "stream",
     "text": [
      "tensor([[0.0458, 0.0145, 0.2025],\n",
      "        [0.3068, 0.8348, 0.3128],\n",
      "        [0.2134, 0.1175, 0.4841],\n",
      "        [0.9376, 0.1471, 0.8294],\n",
      "        [0.7529, 0.1250, 0.3438],\n",
      "        [0.3478, 0.8077, 0.5385],\n",
      "        [0.2384, 0.1358, 0.5903],\n",
      "        [0.9437, 0.0866, 0.4915],\n",
      "        [0.8386, 0.3353, 0.4185],\n",
      "        [0.7215, 0.0844, 0.4550]])\n",
      "tensor([2, 4, 6, 9])\n",
      "---\n",
      "tensor([[0.2134, 0.1175, 0.4841],\n",
      "        [0.7529, 0.1250, 0.3438],\n",
      "        [0.2384, 0.1358, 0.5903],\n",
      "        [0.7215, 0.0844, 0.4550]])\n"
     ]
    }
   ],
   "source": [
    "indices = torch.Tensor([2, 4, 6, 9]).type(torch.long)\n",
    "tensor = torch.rand(10, 3)\n",
    "print(tensor)\n",
    "print(indices)\n",
    "\n",
    "print('---')\n",
    "\n",
    "print(tensor[indices, :])"
   ]
  },
  {
   "cell_type": "markdown",
   "metadata": {},
   "source": []
  }
 ],
 "metadata": {
  "interpreter": {
   "hash": "f1e3b4726387a5c6c68498f830a2fc3e7a44f6ea43c42b3041461a3d5a3b2971"
  },
  "kernelspec": {
   "display_name": "Python 3.9.6 ('base')",
   "language": "python",
   "name": "python3"
  },
  "language_info": {
   "codemirror_mode": {
    "name": "ipython",
    "version": 3
   },
   "file_extension": ".py",
   "mimetype": "text/x-python",
   "name": "python",
   "nbconvert_exporter": "python",
   "pygments_lexer": "ipython3",
   "version": "3.9.6"
  },
  "orig_nbformat": 4
 },
 "nbformat": 4,
 "nbformat_minor": 2
}
